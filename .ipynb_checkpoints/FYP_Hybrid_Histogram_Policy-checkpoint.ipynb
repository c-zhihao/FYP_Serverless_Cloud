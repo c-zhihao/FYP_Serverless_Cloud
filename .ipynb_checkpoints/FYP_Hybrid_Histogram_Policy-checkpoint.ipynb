{
 "cells": [
  {
   "cell_type": "code",
   "execution_count": 1,
   "id": "d1a7957a",
   "metadata": {},
   "outputs": [],
   "source": [
    "import pandas as pd\n",
    "import numpy as np\n",
    "import matplotlib.pyplot as plt\n",
    "import heapq as hq\n",
    "import datetime as dt\n",
    "import time\n",
    "import warnings\n",
    "import pmdarima as pm\n",
    "warnings.filterwarnings('ignore')\n",
    "pd.options.display.max_columns = None\n",
    "pd.set_option('display.max_rows', None)"
   ]
  },
  {
   "cell_type": "markdown",
   "id": "d5a5484f",
   "metadata": {},
   "source": [
    "# Data cleaning and adding \n",
    "- start_time\n",
    "- date\n",
    "- Interval time"
   ]
  },
  {
   "cell_type": "code",
   "execution_count": 2,
   "id": "f317aa39",
   "metadata": {
    "scrolled": false
   },
   "outputs": [
    {
     "data": {
      "text/html": [
       "<div>\n",
       "<style scoped>\n",
       "    .dataframe tbody tr th:only-of-type {\n",
       "        vertical-align: middle;\n",
       "    }\n",
       "\n",
       "    .dataframe tbody tr th {\n",
       "        vertical-align: top;\n",
       "    }\n",
       "\n",
       "    .dataframe thead th {\n",
       "        text-align: right;\n",
       "    }\n",
       "</style>\n",
       "<table border=\"1\" class=\"dataframe\">\n",
       "  <thead>\n",
       "    <tr style=\"text-align: right;\">\n",
       "      <th></th>\n",
       "      <th>app_id</th>\n",
       "      <th>func_id</th>\n",
       "      <th>start_timestamp</th>\n",
       "      <th>end_timestamp</th>\n",
       "      <th>duration</th>\n",
       "      <th>date</th>\n",
       "      <th>IT</th>\n",
       "    </tr>\n",
       "  </thead>\n",
       "  <tbody>\n",
       "    <tr>\n",
       "      <th>0</th>\n",
       "      <td>7b2c43a2bc30f6bb438074df88b603d2cb982d3e7961de...</td>\n",
       "      <td>e3cdb48830f66eb8689cc0223514569a69812b77e6611e...</td>\n",
       "      <td>0.001491</td>\n",
       "      <td>0.079491</td>\n",
       "      <td>0.078</td>\n",
       "      <td>2021-01-31 00:00:00.001491</td>\n",
       "      <td>0.0</td>\n",
       "    </tr>\n",
       "    <tr>\n",
       "      <th>1</th>\n",
       "      <td>1573b95c039e51cc012b543a4af3bc7c3ee9485acbb003...</td>\n",
       "      <td>337cd24a7d5fd5c92460faee4ebe6a186a0eb322bd17b7...</td>\n",
       "      <td>0.003860</td>\n",
       "      <td>57.157860</td>\n",
       "      <td>57.154</td>\n",
       "      <td>2021-01-31 00:00:00.003860</td>\n",
       "      <td>0.0</td>\n",
       "    </tr>\n",
       "    <tr>\n",
       "      <th>2</th>\n",
       "      <td>1573b95c039e51cc012b543a4af3bc7c3ee9485acbb003...</td>\n",
       "      <td>48cc770d590d3c5a7691b3b4e9302f82ec3be5ddc2a037...</td>\n",
       "      <td>0.005478</td>\n",
       "      <td>59.130478</td>\n",
       "      <td>59.125</td>\n",
       "      <td>2021-01-31 00:00:00.005478</td>\n",
       "      <td>0.0</td>\n",
       "    </tr>\n",
       "    <tr>\n",
       "      <th>3</th>\n",
       "      <td>f274d71de386ccc77e4ca74766dbc485461c3053059d47...</td>\n",
       "      <td>3d2aee54a133509f16fb636d74128c2adcfcac71c6dcef...</td>\n",
       "      <td>0.016541</td>\n",
       "      <td>6.252541</td>\n",
       "      <td>6.236</td>\n",
       "      <td>2021-01-31 00:00:00.016541</td>\n",
       "      <td>0.0</td>\n",
       "    </tr>\n",
       "    <tr>\n",
       "      <th>4</th>\n",
       "      <td>7b2c43a2bc30f6bb438074df88b603d2cb982d3e7961de...</td>\n",
       "      <td>68bbfd828223a505d7917339f4656c5f33ff93225cdb9d...</td>\n",
       "      <td>0.016824</td>\n",
       "      <td>0.066824</td>\n",
       "      <td>0.050</td>\n",
       "      <td>2021-01-31 00:00:00.016824</td>\n",
       "      <td>0.0</td>\n",
       "    </tr>\n",
       "  </tbody>\n",
       "</table>\n",
       "</div>"
      ],
      "text/plain": [
       "                                              app_id  \\\n",
       "0  7b2c43a2bc30f6bb438074df88b603d2cb982d3e7961de...   \n",
       "1  1573b95c039e51cc012b543a4af3bc7c3ee9485acbb003...   \n",
       "2  1573b95c039e51cc012b543a4af3bc7c3ee9485acbb003...   \n",
       "3  f274d71de386ccc77e4ca74766dbc485461c3053059d47...   \n",
       "4  7b2c43a2bc30f6bb438074df88b603d2cb982d3e7961de...   \n",
       "\n",
       "                                             func_id  start_timestamp  \\\n",
       "0  e3cdb48830f66eb8689cc0223514569a69812b77e6611e...         0.001491   \n",
       "1  337cd24a7d5fd5c92460faee4ebe6a186a0eb322bd17b7...         0.003860   \n",
       "2  48cc770d590d3c5a7691b3b4e9302f82ec3be5ddc2a037...         0.005478   \n",
       "3  3d2aee54a133509f16fb636d74128c2adcfcac71c6dcef...         0.016541   \n",
       "4  68bbfd828223a505d7917339f4656c5f33ff93225cdb9d...         0.016824   \n",
       "\n",
       "   end_timestamp  duration                       date   IT  \n",
       "0       0.079491     0.078 2021-01-31 00:00:00.001491  0.0  \n",
       "1      57.157860    57.154 2021-01-31 00:00:00.003860  0.0  \n",
       "2      59.130478    59.125 2021-01-31 00:00:00.005478  0.0  \n",
       "3       6.252541     6.236 2021-01-31 00:00:00.016541  0.0  \n",
       "4       0.066824     0.050 2021-01-31 00:00:00.016824  0.0  "
      ]
     },
     "execution_count": 2,
     "metadata": {},
     "output_type": "execute_result"
    }
   ],
   "source": [
    "trace = pd.read_csv('Trace2021/AzureFunctionsInvocationTraceForTwoWeeksJan2021.txt')\n",
    "trace[\"start_timestamp\"] = trace[\"end_timestamp\"] - trace[\"duration\"]\n",
    "trace = trace[['app','func','start_timestamp','end_timestamp','duration']]\n",
    "trace = trace.rename(columns = {'app': 'app_id', 'func': 'func_id'}, inplace = False)\n",
    "trace.sort_values(by=['start_timestamp'], ascending=False)\n",
    "\n",
    "#append the date to the DF\n",
    "newDate = []\n",
    "for i in range(0,len(trace)):\n",
    "    sd = dt.datetime(2021,1,31,0,0,0) # used to output incremental timestamp\n",
    "    sd = sd + dt.timedelta(seconds = trace['start_timestamp'][i])\n",
    "    #print(sd)\n",
    "    newDate.append(sd)\n",
    "    \n",
    "#append IT to the DF\n",
    "listIT = []\n",
    "tempDict = {}\n",
    "app_id = trace['app_id']\n",
    "start_time = trace['start_timestamp']\n",
    "for i in range(0,len(trace)):\n",
    "    if tempDict.get(app_id[i]) == None:\n",
    "        tempDict[app_id[i]] = start_time[i]\n",
    "        listIT.append(0)\n",
    "    else:\n",
    "        IT = start_time[i] - tempDict.get(app_id[i])\n",
    "        IT = np.floor(IT/60)\n",
    "        tempDict[app_id[i]] = start_time[i]\n",
    "        listIT.append(IT)\n",
    "trace[\"date\"] = newDate\n",
    "trace[\"IT\"] = listIT\n",
    "trace.head()"
   ]
  },
  {
   "cell_type": "code",
   "execution_count": 51,
   "id": "15e0c39f",
   "metadata": {
    "scrolled": true
   },
   "outputs": [
    {
     "data": {
      "text/html": [
       "<div>\n",
       "<style scoped>\n",
       "    .dataframe tbody tr th:only-of-type {\n",
       "        vertical-align: middle;\n",
       "    }\n",
       "\n",
       "    .dataframe tbody tr th {\n",
       "        vertical-align: top;\n",
       "    }\n",
       "\n",
       "    .dataframe thead th {\n",
       "        text-align: right;\n",
       "    }\n",
       "</style>\n",
       "<table border=\"1\" class=\"dataframe\">\n",
       "  <thead>\n",
       "    <tr style=\"text-align: right;\">\n",
       "      <th></th>\n",
       "      <th>unique_application_id</th>\n",
       "      <th>counts</th>\n",
       "    </tr>\n",
       "  </thead>\n",
       "  <tbody>\n",
       "    <tr>\n",
       "      <th>0</th>\n",
       "      <td>a594f92f84072b4cd031fe5283d1781a6e98f430696dec...</td>\n",
       "      <td>535667</td>\n",
       "    </tr>\n",
       "    <tr>\n",
       "      <th>1</th>\n",
       "      <td>a9644719e5d173a27e098cffdd5e9227ba9c4a325d082c...</td>\n",
       "      <td>328885</td>\n",
       "    </tr>\n",
       "    <tr>\n",
       "      <th>2</th>\n",
       "      <td>96149d3ed4f00afb92f12856101e693e93c4683f030ae6...</td>\n",
       "      <td>299817</td>\n",
       "    </tr>\n",
       "    <tr>\n",
       "      <th>3</th>\n",
       "      <td>7958f89676bf3653f72cda8f38f6b3c0574dcae5169824...</td>\n",
       "      <td>143521</td>\n",
       "    </tr>\n",
       "    <tr>\n",
       "      <th>4</th>\n",
       "      <td>62ed48c098820db02aa8e99ad41e5438e61334ba7b1618...</td>\n",
       "      <td>124927</td>\n",
       "    </tr>\n",
       "    <tr>\n",
       "      <th>5</th>\n",
       "      <td>70b9cea7ca266637479483f517194c402dfe99b5fc2357...</td>\n",
       "      <td>71837</td>\n",
       "    </tr>\n",
       "    <tr>\n",
       "      <th>6</th>\n",
       "      <td>5fb02cfeb979fec16df02d1ece227157238477b19fc6e3...</td>\n",
       "      <td>59798</td>\n",
       "    </tr>\n",
       "    <tr>\n",
       "      <th>7</th>\n",
       "      <td>73e9cf25a1a3b312f60ead2177d7d259f128661e3b6763...</td>\n",
       "      <td>34713</td>\n",
       "    </tr>\n",
       "    <tr>\n",
       "      <th>8</th>\n",
       "      <td>6e42a4e8ea1df408e059ba37d0e04255fd8385235b3102...</td>\n",
       "      <td>31260</td>\n",
       "    </tr>\n",
       "    <tr>\n",
       "      <th>9</th>\n",
       "      <td>734272c01926d19690e5ec308bab64ef97950b75b1c758...</td>\n",
       "      <td>31100</td>\n",
       "    </tr>\n",
       "  </tbody>\n",
       "</table>\n",
       "</div>"
      ],
      "text/plain": [
       "                               unique_application_id  counts\n",
       "0  a594f92f84072b4cd031fe5283d1781a6e98f430696dec...  535667\n",
       "1  a9644719e5d173a27e098cffdd5e9227ba9c4a325d082c...  328885\n",
       "2  96149d3ed4f00afb92f12856101e693e93c4683f030ae6...  299817\n",
       "3  7958f89676bf3653f72cda8f38f6b3c0574dcae5169824...  143521\n",
       "4  62ed48c098820db02aa8e99ad41e5438e61334ba7b1618...  124927\n",
       "5  70b9cea7ca266637479483f517194c402dfe99b5fc2357...   71837\n",
       "6  5fb02cfeb979fec16df02d1ece227157238477b19fc6e3...   59798\n",
       "7  73e9cf25a1a3b312f60ead2177d7d259f128661e3b6763...   34713\n",
       "8  6e42a4e8ea1df408e059ba37d0e04255fd8385235b3102...   31260\n",
       "9  734272c01926d19690e5ec308bab64ef97950b75b1c758...   31100"
      ]
     },
     "execution_count": 51,
     "metadata": {},
     "output_type": "execute_result"
    }
   ],
   "source": [
    "applicationCounts = trace['app_id'].value_counts().rename_axis('unique_application_id').reset_index(name='counts')\n",
    "applicationCounts.head(10)"
   ]
  },
  {
   "cell_type": "markdown",
   "id": "ea9b7098",
   "metadata": {},
   "source": [
    "# implementing histogram\n",
    "- each application is stored in a dictionary as a key\n",
    "- each key has a list of idle time (IT), with the first position stored as the last invocation time\n",
    "- histogram will be plotted for every invidual key with bins of 0 to 240 (each bins are of 1mins total 4hour)"
   ]
  },
  {
   "cell_type": "code",
   "execution_count": 27,
   "id": "66827f43",
   "metadata": {},
   "outputs": [],
   "source": [
    "#sample data 1: to reflect incoming invocation call\n",
    "#sampleTest = trace[['app_id','start_timestamp']].head(198095) #around 2 days\n",
    "sampleTest = trace[['app_id','start_timestamp']].head(500)\n",
    "#sampleTest = trace[['app_id','start_timestamp']]\n",
    "incoming_invocations = sampleTest.values.tolist()\n",
    "#print(sampleTest.tail(10))"
   ]
  },
  {
   "cell_type": "code",
   "execution_count": 4,
   "id": "d38d9fb6",
   "metadata": {},
   "outputs": [],
   "source": [
    "incoming_invocations = [['app1', 1], # cold start, new id\n",
    "['app1', 65], # cold start, IT = 1min, keep alive = current time + 1min\n",
    "['app1', 130], # cold start, IT = 1min, keep alive 1min = current time + 1min\n",
    "['app1', 150]] # warm start, "
   ]
  },
  {
   "cell_type": "code",
   "execution_count": 7,
   "id": "13ecd41f",
   "metadata": {},
   "outputs": [],
   "source": [
    "incoming_invocations = [['app1', 1], # cold start, new id\n",
    "['app1', 2], # cold start, IT = 1min, keep alive = current time + 1min\n",
    "['app1', 3], # cold start, IT = 1min, keep alive 1min = current time + 1min\n",
    "['app1', 4],\n",
    "['app2', 10],\n",
    "['app2', 30],\n",
    "['app2', 40],\n",
    "['app2', 200]  ,\n",
    "['app2', 200]  ,\n",
    "['app2', 220]  ,\n",
    "['app2', 210]  ,\n",
    "['app2', 250]  ,\n",
    "['app2', 280]  ,\n",
    "['app2', 300]  ,\n",
    "['app1', 305]  ,\n",
    "['app1', 310]     \n",
    "                       ] # warm start, "
   ]
  },
  {
   "cell_type": "markdown",
   "id": "f96363c5",
   "metadata": {},
   "source": [
    "# how an application will be stored in a dictionary: \n",
    "{ 'application1': [datetime.datetime(2023, 3, 12, 2, 0, 22, 60499),  0.0,  0.0,  0.0,  0.0,  0.0,  0.0,  0.0,  0.0,  0.0,  0.0,  0.0], <br>\n",
    " 'application2': [datetime.datetime(2023, 3, 12, 2, 0, 22, 60499),  0.0,  0.0,  0.0,  0.0,  0.0,  0.0,  0.0,  0.0,  0.0,  0.0,  0.0] }\n",
    "- key: app_id\n",
    "- value: list of idle time (IT) for every invocation (first position of the list contains the most recent invocation time)\n",
    "- first element of the value is the latest function invocation time\n",
    "\n",
    "\n",
    "# keep_alive_list parameters:\n",
    "Priority heap queue: [(12.5, \"app1\"), (100, \"app2\"), (150, \"app3\")]\n",
    "- (keep alive until, application_id)\n"
   ]
  },
  {
   "cell_type": "code",
   "execution_count": 26,
   "id": "17594ab0",
   "metadata": {},
   "outputs": [],
   "source": [
    "# dictionary to store all the app_id\n",
    "applicationDict = {}\n",
    "# list to store all the current keep alive application id\n",
    "keep_alive_list = []"
   ]
  },
  {
   "cell_type": "code",
   "execution_count": 29,
   "id": "96ee8120",
   "metadata": {},
   "outputs": [],
   "source": [
    "default_keep_alive_time = 10\n",
    "OOB_threshold = 5\n",
    "\n",
    "# when an incoming function has been invoked\n",
    "def function_invoked(app_id):\n",
    "    # application id has not been seen before\n",
    "    if applicationDict.get(app_id) == None:\n",
    "        print(\"NEW app_id: {}\".format(app_id))\n",
    "        result.write(\"NEW app_id: {} \\n\".format(app_id))\n",
    "        applicationDict[app_id] = []\n",
    "        applicationDict[app_id].append(dt.datetime.now())\n",
    "        print(\"COLD START BECAUSE OF NEW APPLICATION\")\n",
    "        result.write(\"COLD START BECAUSE OF NEW APPLICATION \\n\")\n",
    "        return default_keep_alive_time\n",
    "    \n",
    "    # application id is already in the dictionary\n",
    "    else:\n",
    "        print(\"OLD app_id: {} \".format(app_id))\n",
    "        result.write(\"OLD app_id: {} \\n\".format(app_id))\n",
    "        curTime = dt.datetime.now()\n",
    "        # calculate idle time (IT) by datetime.now - last previous invoked timing\n",
    "        IT = curTime - applicationDict[app_id][0]\n",
    "        IT = np.floor(IT.seconds/60)\n",
    "        print('IDLE TIME (IT) for application: {} is: {} mins'.format(app_id,IT))\n",
    "        result.write('IDLE TIME (IT) for application: {} is: {} \\n'.format(app_id,IT))\n",
    "        #add idle time into list\n",
    "        applicationDict[app_id].append(IT)\n",
    "        applicationDict[app_id][0] = curTime\n",
    "        # if the idle time is more than 240mins, return predicted time as it is out of bounds (OOB)\n",
    "        if(IT > 240):\n",
    "            print('application is OOB with idle time(IT)')\n",
    "            return predictIntervalTiming(app_id)   \n",
    "        # add the IT into the dictionary and plot the histogram to determine the TTL duration (mins)\n",
    "        else:\n",
    "            return plotHistogram(app_id)\n",
    "            \n",
    "# hybrid histogram policy\n",
    "# categorise the histogram into 240 different minutes bins, returning the bin with the highest amount of frequency\n",
    "# in the event of same frequency, return the lowest number bin\n",
    "def plotHistogram(app_id):\n",
    "    appData = applicationDict[app_id][1:]\n",
    "    print('appplication IT data is: {}'.format(appData))\n",
    "    \n",
    "    # Plot histogram with 240 bins ranging from 0 to 240\n",
    "    counts, bins, _ = plt.hist(appData, bins=240, range=(0, 240), density=False, edgecolor='black')\n",
    "    \n",
    "    #check if histogram is representative\n",
    "    CV = calculate_CV(counts)\n",
    "    print('calculating CV = ',CV)\n",
    "    if CV < 0.1:\n",
    "        print('Histogram is not representative')\n",
    "        return default_keep_alive_time\n",
    "    print('Histogram is representative')\n",
    "    # Add labels and title\n",
    "    plt.xlabel('Value')\n",
    "    plt.ylabel('Frequency')\n",
    "    plt.title('Histogram')\n",
    "\n",
    "    # Show the plot\n",
    "    #plt.show()\n",
    "    plt.close()\n",
    "    print(counts)\n",
    "    data = counts.tolist()\n",
    "    #print(\"highest frequency of minutes bin of the application is: {}\".format(data.index(max(data))))\n",
    "    return data.index(max(data))\n",
    "\n",
    "def update_heap_element(keep_alive_list, new_time, app_id):\n",
    "    # Find the index of the element you want to update\n",
    "    index = next((i for i, (value1, value2) in enumerate(keep_alive_list) if value2 == app_id), None)\n",
    "\n",
    "    if index is not None:\n",
    "        # Update the value of the element\n",
    "        keep_alive_list[index] = (new_time, keep_alive_list[index][1])\n",
    "        # Rebuild the heap\n",
    "        hq.heapify(keep_alive_list)\n",
    "        keep_alive_list.sort()\n",
    "        print(\"WARM START\")\n",
    "        result.write(\"WARM START \\n\")\n",
    "    else:\n",
    "        hq.heappush(keep_alive_list, (new_time, app_id))\n",
    "        print(\"COLD START\")\n",
    "        result.write(\"COLD START \\n\")\n",
    "\n",
    "# Welford’s online algorithm (CV) to determine wheather a histogram is representive or not\n",
    "def calculate_CV(app_bins):\n",
    "    N = len(app_bins)\n",
    "    M = 0\n",
    "    S = 0\n",
    "\n",
    "    for k in range(1, N+1):\n",
    "        x = app_bins[k-1]\n",
    "        oldM = M\n",
    "        M = M + (x - M) / k\n",
    "        S = S + (x - M) * (x - oldM)\n",
    "    \n",
    "    return S / (N - 1)\n",
    "\n",
    "#prediction of application IT if too many OOB\n",
    "#if number of OOB is below threshold, return standard keepalive time to save cost = TTL 10mins\n",
    "def predictIntervalTiming(app_id):\n",
    "    #do prediction of OOB applications here\n",
    "    appData = applicationDict[app_id][1:]\n",
    "    if len(appData) < OOB_threshold:\n",
    "        print('Not enough OOB threshold of:,',OOB_threshold,'returning default time =', default_keep_alive_time)\n",
    "        return default_keep_alive_time\n",
    "    model1 = pm.auto_arima(appData,stepwise= False, seasonal= False, suppress_warnings= True)\n",
    "    option1_predict = model1.predict(n_periods=1)\n",
    "    print('application OOB predicted time = ',option1_predict)\n",
    "    return option1_predict[0]\n",
    "    \n",
    "def addKeepAlive(app_id,TTL):\n",
    "    return 0\n",
    "\n",
    "def removeKeepAlive(app_id):\n",
    "    return 0\n",
    "\n",
    "def checkKeepAlive():\n",
    "    return 0"
   ]
  },
  {
   "cell_type": "markdown",
   "id": "13a976aa",
   "metadata": {},
   "source": [
    "# simulation\n",
    "in this simulation, we have 2 kinds of timer, difference_timer and delta_timer.\n",
    "- difference_timer: incrementally increasing in time since the start for time calculation\n",
    "- delta_timer: printing of simulation's current time (every 1 second)"
   ]
  },
  {
   "cell_type": "code",
   "execution_count": 30,
   "id": "9532cd3f",
   "metadata": {
    "scrolled": true
   },
   "outputs": [
    {
     "name": "stdout",
     "output_type": "stream",
     "text": [
      "TRIGGERED: application has been invoked\n",
      "NEW app_id: 7b2c43a2bc30f6bb438074df88b603d2cb982d3e7961de05270735055950a568\n",
      "COLD START BECAUSE OF NEW APPLICATION\n",
      "keep alive time is: 10 mins\n",
      "keep alive till time: 600.002343\n",
      "COLD START\n",
      "keep alive list: [(600.002343, '7b2c43a2bc30f6bb438074df88b603d2cb982d3e7961de05270735055950a568')]\n",
      "TRIGGERED: application has been invoked\n",
      "NEW app_id: 1573b95c039e51cc012b543a4af3bc7c3ee9485acbb0033ba5648b74969e0556\n",
      "COLD START BECAUSE OF NEW APPLICATION\n",
      "keep alive time is: 10 mins\n",
      "keep alive till time: 600.512856\n",
      "COLD START\n",
      "keep alive list: [(600.002343, '7b2c43a2bc30f6bb438074df88b603d2cb982d3e7961de05270735055950a568'), (600.512856, '1573b95c039e51cc012b543a4af3bc7c3ee9485acbb0033ba5648b74969e0556')]\n",
      "00:00:01\n",
      "TRIGGERED: application has been invoked\n",
      "OLD app_id: 1573b95c039e51cc012b543a4af3bc7c3ee9485acbb0033ba5648b74969e0556 \n",
      "IDLE TIME (IT) for application: 1573b95c039e51cc012b543a4af3bc7c3ee9485acbb0033ba5648b74969e0556 is: 0.0 mins\n",
      "appplication IT data is: [0.0]\n",
      "calculating CV =  0.004166666666666665\n",
      "Histogram is not representative\n",
      "keep alive time is: 10 mins\n",
      "keep alive till time: 601.025283\n",
      "WARM START\n",
      "keep alive list: [(600.002343, '7b2c43a2bc30f6bb438074df88b603d2cb982d3e7961de05270735055950a568'), (601.025283, '1573b95c039e51cc012b543a4af3bc7c3ee9485acbb0033ba5648b74969e0556')]\n",
      "TRIGGERED: application has been invoked\n",
      "NEW app_id: f274d71de386ccc77e4ca74766dbc485461c3053059d47266463c45ec92001b3\n",
      "COLD START BECAUSE OF NEW APPLICATION\n",
      "keep alive time is: 10 mins\n",
      "keep alive till time: 601.633981\n",
      "COLD START\n",
      "keep alive list: [(600.002343, '7b2c43a2bc30f6bb438074df88b603d2cb982d3e7961de05270735055950a568'), (601.025283, '1573b95c039e51cc012b543a4af3bc7c3ee9485acbb0033ba5648b74969e0556'), (601.633981, 'f274d71de386ccc77e4ca74766dbc485461c3053059d47266463c45ec92001b3')]\n",
      "00:00:02\n",
      "TRIGGERED: application has been invoked\n",
      "OLD app_id: 7b2c43a2bc30f6bb438074df88b603d2cb982d3e7961de05270735055950a568 \n",
      "IDLE TIME (IT) for application: 7b2c43a2bc30f6bb438074df88b603d2cb982d3e7961de05270735055950a568 is: 0.0 mins\n",
      "appplication IT data is: [0.0]\n",
      "calculating CV =  0.004166666666666665\n",
      "Histogram is not representative\n",
      "keep alive time is: 10 mins\n",
      "keep alive till time: 602.134637\n",
      "WARM START\n",
      "keep alive list: [(601.025283, '1573b95c039e51cc012b543a4af3bc7c3ee9485acbb0033ba5648b74969e0556'), (601.633981, 'f274d71de386ccc77e4ca74766dbc485461c3053059d47266463c45ec92001b3'), (602.134637, '7b2c43a2bc30f6bb438074df88b603d2cb982d3e7961de05270735055950a568')]\n",
      "TRIGGERED: application has been invoked\n",
      "NEW app_id: f7bfe5bc8d2a37a5c15986fbfc2c477a746e866adcb9663f9df7535b61c3eb9b\n",
      "COLD START BECAUSE OF NEW APPLICATION\n",
      "keep alive time is: 10 mins\n",
      "keep alive till time: 602.743405\n",
      "COLD START\n",
      "keep alive list: [(601.025283, '1573b95c039e51cc012b543a4af3bc7c3ee9485acbb0033ba5648b74969e0556'), (601.633981, 'f274d71de386ccc77e4ca74766dbc485461c3053059d47266463c45ec92001b3'), (602.134637, '7b2c43a2bc30f6bb438074df88b603d2cb982d3e7961de05270735055950a568'), (602.743405, 'f7bfe5bc8d2a37a5c15986fbfc2c477a746e866adcb9663f9df7535b61c3eb9b')]\n",
      "00:00:03\n",
      "TRIGGERED: application has been invoked\n",
      "NEW app_id: 85479ef37b5dc75dd5aeca3bab499129b97a134dac5d740d2c68941de9d63031\n",
      "COLD START BECAUSE OF NEW APPLICATION\n",
      "keep alive time is: 10 mins\n",
      "keep alive till time: 603.256206\n",
      "COLD START\n",
      "keep alive list: [(601.025283, '1573b95c039e51cc012b543a4af3bc7c3ee9485acbb0033ba5648b74969e0556'), (601.633981, 'f274d71de386ccc77e4ca74766dbc485461c3053059d47266463c45ec92001b3'), (602.134637, '7b2c43a2bc30f6bb438074df88b603d2cb982d3e7961de05270735055950a568'), (602.743405, 'f7bfe5bc8d2a37a5c15986fbfc2c477a746e866adcb9663f9df7535b61c3eb9b'), (603.256206, '85479ef37b5dc75dd5aeca3bab499129b97a134dac5d740d2c68941de9d63031')]\n",
      "TRIGGERED: application has been invoked\n",
      "OLD app_id: 85479ef37b5dc75dd5aeca3bab499129b97a134dac5d740d2c68941de9d63031 \n",
      "IDLE TIME (IT) for application: 85479ef37b5dc75dd5aeca3bab499129b97a134dac5d740d2c68941de9d63031 is: 0.0 mins\n",
      "appplication IT data is: [0.0]\n",
      "calculating CV =  0.004166666666666665\n",
      "Histogram is not representative\n",
      "keep alive time is: 10 mins\n",
      "keep alive till time: 603.759462\n",
      "WARM START\n",
      "keep alive list: [(601.025283, '1573b95c039e51cc012b543a4af3bc7c3ee9485acbb0033ba5648b74969e0556'), (601.633981, 'f274d71de386ccc77e4ca74766dbc485461c3053059d47266463c45ec92001b3'), (602.134637, '7b2c43a2bc30f6bb438074df88b603d2cb982d3e7961de05270735055950a568'), (602.743405, 'f7bfe5bc8d2a37a5c15986fbfc2c477a746e866adcb9663f9df7535b61c3eb9b'), (603.759462, '85479ef37b5dc75dd5aeca3bab499129b97a134dac5d740d2c68941de9d63031')]\n",
      "00:00:04\n",
      "TRIGGERED: application has been invoked\n",
      "OLD app_id: 85479ef37b5dc75dd5aeca3bab499129b97a134dac5d740d2c68941de9d63031 \n",
      "IDLE TIME (IT) for application: 85479ef37b5dc75dd5aeca3bab499129b97a134dac5d740d2c68941de9d63031 is: 0.0 mins\n",
      "appplication IT data is: [0.0, 0.0]\n",
      "calculating CV =  0.01666666666666666\n",
      "Histogram is not representative\n",
      "keep alive time is: 10 mins\n",
      "keep alive till time: 604.355183\n",
      "WARM START\n",
      "keep alive list: [(601.025283, '1573b95c039e51cc012b543a4af3bc7c3ee9485acbb0033ba5648b74969e0556'), (601.633981, 'f274d71de386ccc77e4ca74766dbc485461c3053059d47266463c45ec92001b3'), (602.134637, '7b2c43a2bc30f6bb438074df88b603d2cb982d3e7961de05270735055950a568'), (602.743405, 'f7bfe5bc8d2a37a5c15986fbfc2c477a746e866adcb9663f9df7535b61c3eb9b'), (604.355183, '85479ef37b5dc75dd5aeca3bab499129b97a134dac5d740d2c68941de9d63031')]\n",
      "TRIGGERED: application has been invoked\n",
      "OLD app_id: 85479ef37b5dc75dd5aeca3bab499129b97a134dac5d740d2c68941de9d63031 \n",
      "IDLE TIME (IT) for application: 85479ef37b5dc75dd5aeca3bab499129b97a134dac5d740d2c68941de9d63031 is: 0.0 mins\n",
      "appplication IT data is: [0.0, 0.0, 0.0]\n",
      "calculating CV =  0.0375\n",
      "Histogram is not representative\n",
      "keep alive time is: 10 mins\n",
      "keep alive till time: 605.026844\n",
      "WARM START\n",
      "keep alive list: [(601.025283, '1573b95c039e51cc012b543a4af3bc7c3ee9485acbb0033ba5648b74969e0556'), (601.633981, 'f274d71de386ccc77e4ca74766dbc485461c3053059d47266463c45ec92001b3'), (602.134637, '7b2c43a2bc30f6bb438074df88b603d2cb982d3e7961de05270735055950a568'), (602.743405, 'f7bfe5bc8d2a37a5c15986fbfc2c477a746e866adcb9663f9df7535b61c3eb9b'), (605.026844, '85479ef37b5dc75dd5aeca3bab499129b97a134dac5d740d2c68941de9d63031')]\n",
      "00:00:05\n",
      "TRIGGERED: application has been invoked\n",
      "OLD app_id: 85479ef37b5dc75dd5aeca3bab499129b97a134dac5d740d2c68941de9d63031 \n",
      "IDLE TIME (IT) for application: 85479ef37b5dc75dd5aeca3bab499129b97a134dac5d740d2c68941de9d63031 is: 0.0 mins\n",
      "appplication IT data is: [0.0, 0.0, 0.0, 0.0]\n",
      "calculating CV =  0.06666666666666664\n",
      "Histogram is not representative\n",
      "keep alive time is: 10 mins\n",
      "keep alive till time: 605.629778\n",
      "WARM START\n",
      "keep alive list: [(601.025283, '1573b95c039e51cc012b543a4af3bc7c3ee9485acbb0033ba5648b74969e0556'), (601.633981, 'f274d71de386ccc77e4ca74766dbc485461c3053059d47266463c45ec92001b3'), (602.134637, '7b2c43a2bc30f6bb438074df88b603d2cb982d3e7961de05270735055950a568'), (602.743405, 'f7bfe5bc8d2a37a5c15986fbfc2c477a746e866adcb9663f9df7535b61c3eb9b'), (605.629778, '85479ef37b5dc75dd5aeca3bab499129b97a134dac5d740d2c68941de9d63031')]\n",
      "TRIGGERED: application has been invoked\n",
      "OLD app_id: 85479ef37b5dc75dd5aeca3bab499129b97a134dac5d740d2c68941de9d63031 \n",
      "IDLE TIME (IT) for application: 85479ef37b5dc75dd5aeca3bab499129b97a134dac5d740d2c68941de9d63031 is: 0.0 mins\n",
      "appplication IT data is: [0.0, 0.0, 0.0, 0.0, 0.0]\n",
      "calculating CV =  0.1041666666666666\n",
      "Histogram is representative\n"
     ]
    },
    {
     "data": {
      "image/png": "[encoded data removed]",
      "text/plain": [
       "<Figure size 432x288 with 1 Axes>"
      ]
     },
     "metadata": {
      "needs_background": "light"
     },
     "output_type": "display_data"
    },
    {
     "name": "stdout",
     "output_type": "stream",
     "text": [
      "[5. 0. 0. 0. 0. 0. 0. 0. 0. 0. 0. 0. 0. 0. 0. 0. 0. 0. 0. 0. 0. 0. 0. 0.\n",
      " 0. 0. 0. 0. 0. 0. 0. 0. 0. 0. 0. 0. 0. 0. 0. 0. 0. 0. 0. 0. 0. 0. 0. 0.\n",
      " 0. 0. 0. 0. 0. 0. 0. 0. 0. 0. 0. 0. 0. 0. 0. 0. 0. 0. 0. 0. 0. 0. 0. 0.\n",
      " 0. 0. 0. 0. 0. 0. 0. 0. 0. 0. 0. 0. 0. 0. 0. 0. 0. 0. 0. 0. 0. 0. 0. 0.\n",
      " 0. 0. 0. 0. 0. 0. 0. 0. 0. 0. 0. 0. 0. 0. 0. 0. 0. 0. 0. 0. 0. 0. 0. 0.\n",
      " 0. 0. 0. 0. 0. 0. 0. 0. 0. 0. 0. 0. 0. 0. 0. 0. 0. 0. 0. 0. 0. 0. 0. 0.\n",
      " 0. 0. 0. 0. 0. 0. 0. 0. 0. 0. 0. 0. 0. 0. 0. 0. 0. 0. 0. 0. 0. 0. 0. 0.\n",
      " 0. 0. 0. 0. 0. 0. 0. 0. 0. 0. 0. 0. 0. 0. 0. 0. 0. 0. 0. 0. 0. 0. 0. 0.\n",
      " 0. 0. 0. 0. 0. 0. 0. 0. 0. 0. 0. 0. 0. 0. 0. 0. 0. 0. 0. 0. 0. 0. 0. 0.\n",
      " 0. 0. 0. 0. 0. 0. 0. 0. 0. 0. 0. 0. 0. 0. 0. 0. 0. 0. 0. 0. 0. 0. 0. 0.]\n",
      "00:00:06\n",
      "TRIGGERED: application has been invoked\n",
      "OLD app_id: 85479ef37b5dc75dd5aeca3bab499129b97a134dac5d740d2c68941de9d63031 \n",
      "IDLE TIME (IT) for application: 85479ef37b5dc75dd5aeca3bab499129b97a134dac5d740d2c68941de9d63031 is: 0.0 mins\n",
      "appplication IT data is: [0.0, 0.0, 0.0, 0.0, 0.0, 0.0]\n",
      "calculating CV =  0.15\n",
      "Histogram is representative\n"
     ]
    },
    {
     "data": {
      "image/png": "[encoded data removed]",
      "text/plain": [
       "<Figure size 432x288 with 1 Axes>"
      ]
     },
     "metadata": {
      "needs_background": "light"
     },
     "output_type": "display_data"
    },
    {
     "name": "stdout",
     "output_type": "stream",
     "text": [
      "[6. 0. 0. 0. 0. 0. 0. 0. 0. 0. 0. 0. 0. 0. 0. 0. 0. 0. 0. 0. 0. 0. 0. 0.\n",
      " 0. 0. 0. 0. 0. 0. 0. 0. 0. 0. 0. 0. 0. 0. 0. 0. 0. 0. 0. 0. 0. 0. 0. 0.\n",
      " 0. 0. 0. 0. 0. 0. 0. 0. 0. 0. 0. 0. 0. 0. 0. 0. 0. 0. 0. 0. 0. 0. 0. 0.\n",
      " 0. 0. 0. 0. 0. 0. 0. 0. 0. 0. 0. 0. 0. 0. 0. 0. 0. 0. 0. 0. 0. 0. 0. 0.\n",
      " 0. 0. 0. 0. 0. 0. 0. 0. 0. 0. 0. 0. 0. 0. 0. 0. 0. 0. 0. 0. 0. 0. 0. 0.\n",
      " 0. 0. 0. 0. 0. 0. 0. 0. 0. 0. 0. 0. 0. 0. 0. 0. 0. 0. 0. 0. 0. 0. 0. 0.\n",
      " 0. 0. 0. 0. 0. 0. 0. 0. 0. 0. 0. 0. 0. 0. 0. 0. 0. 0. 0. 0. 0. 0. 0. 0.\n",
      " 0. 0. 0. 0. 0. 0. 0. 0. 0. 0. 0. 0. 0. 0. 0. 0. 0. 0. 0. 0. 0. 0. 0. 0.\n",
      " 0. 0. 0. 0. 0. 0. 0. 0. 0. 0. 0. 0. 0. 0. 0. 0. 0. 0. 0. 0. 0. 0. 0. 0.\n",
      " 0. 0. 0. 0. 0. 0. 0. 0. 0. 0. 0. 0. 0. 0. 0. 0. 0. 0. 0. 0. 0. 0. 0. 0.]\n",
      "TRIGGERED: application has been invoked\n",
      "OLD app_id: 85479ef37b5dc75dd5aeca3bab499129b97a134dac5d740d2c68941de9d63031 \n",
      "IDLE TIME (IT) for application: 85479ef37b5dc75dd5aeca3bab499129b97a134dac5d740d2c68941de9d63031 is: 0.0 mins\n",
      "appplication IT data is: [0.0, 0.0, 0.0, 0.0, 0.0, 0.0, 0.0]\n",
      "calculating CV =  0.20416666666666683\n",
      "Histogram is representative\n"
     ]
    },
    {
     "data": {
      "image/png": "[encoded data removed]",
      "text/plain": [
       "<Figure size 432x288 with 1 Axes>"
      ]
     },
     "metadata": {
      "needs_background": "light"
     },
     "output_type": "display_data"
    },
    {
     "name": "stdout",
     "output_type": "stream",
     "text": [
      "[7. 0. 0. 0. 0. 0. 0. 0. 0. 0. 0. 0. 0. 0. 0. 0. 0. 0. 0. 0. 0. 0. 0. 0.\n",
      " 0. 0. 0. 0. 0. 0. 0. 0. 0. 0. 0. 0. 0. 0. 0. 0. 0. 0. 0. 0. 0. 0. 0. 0.\n",
      " 0. 0. 0. 0. 0. 0. 0. 0. 0. 0. 0. 0. 0. 0. 0. 0. 0. 0. 0. 0. 0. 0. 0. 0.\n",
      " 0. 0. 0. 0. 0. 0. 0. 0. 0. 0. 0. 0. 0. 0. 0. 0. 0. 0. 0. 0. 0. 0. 0. 0.\n",
      " 0. 0. 0. 0. 0. 0. 0. 0. 0. 0. 0. 0. 0. 0. 0. 0. 0. 0. 0. 0. 0. 0. 0. 0.\n",
      " 0. 0. 0. 0. 0. 0. 0. 0. 0. 0. 0. 0. 0. 0. 0. 0. 0. 0. 0. 0. 0. 0. 0. 0.\n",
      " 0. 0. 0. 0. 0. 0. 0. 0. 0. 0. 0. 0. 0. 0. 0. 0. 0. 0. 0. 0. 0. 0. 0. 0.\n",
      " 0. 0. 0. 0. 0. 0. 0. 0. 0. 0. 0. 0. 0. 0. 0. 0. 0. 0. 0. 0. 0. 0. 0. 0.\n",
      " 0. 0. 0. 0. 0. 0. 0. 0. 0. 0. 0. 0. 0. 0. 0. 0. 0. 0. 0. 0. 0. 0. 0. 0.\n",
      " 0. 0. 0. 0. 0. 0. 0. 0. 0. 0. 0. 0. 0. 0. 0. 0. 0. 0. 0. 0. 0. 0. 0. 0.]\n",
      "00:00:07\n",
      "TRIGGERED: application has been invoked\n",
      "NEW app_id: 938e7f49544b3293cd6cc7ec3e63e1751085cf5cb6a004dcc9e94543934f607b\n",
      "COLD START BECAUSE OF NEW APPLICATION\n",
      "keep alive time is: 10 mins\n",
      "keep alive till time: 609.484851\n",
      "COLD START\n",
      "keep alive list: [(601.025283, '1573b95c039e51cc012b543a4af3bc7c3ee9485acbb0033ba5648b74969e0556'), (601.633981, 'f274d71de386ccc77e4ca74766dbc485461c3053059d47266463c45ec92001b3'), (602.134637, '7b2c43a2bc30f6bb438074df88b603d2cb982d3e7961de05270735055950a568'), (602.743405, 'f7bfe5bc8d2a37a5c15986fbfc2c477a746e866adcb9663f9df7535b61c3eb9b'), (605.629778, '85479ef37b5dc75dd5aeca3bab499129b97a134dac5d740d2c68941de9d63031'), (609.484851, '938e7f49544b3293cd6cc7ec3e63e1751085cf5cb6a004dcc9e94543934f607b')]\n",
      "TRIGGERED: application has been invoked\n",
      "NEW app_id: 734272c01926d19690e5ec308bab64ef97950b75b1c7582283e0783fce1751d8\n",
      "COLD START BECAUSE OF NEW APPLICATION\n",
      "keep alive time is: 10 mins\n",
      "keep alive till time: 610.00209\n",
      "COLD START\n",
      "keep alive list: [(601.025283, '1573b95c039e51cc012b543a4af3bc7c3ee9485acbb0033ba5648b74969e0556'), (601.633981, 'f274d71de386ccc77e4ca74766dbc485461c3053059d47266463c45ec92001b3'), (602.134637, '7b2c43a2bc30f6bb438074df88b603d2cb982d3e7961de05270735055950a568'), (602.743405, 'f7bfe5bc8d2a37a5c15986fbfc2c477a746e866adcb9663f9df7535b61c3eb9b'), (605.629778, '85479ef37b5dc75dd5aeca3bab499129b97a134dac5d740d2c68941de9d63031'), (609.484851, '938e7f49544b3293cd6cc7ec3e63e1751085cf5cb6a004dcc9e94543934f607b'), (610.00209, '734272c01926d19690e5ec308bab64ef97950b75b1c7582283e0783fce1751d8')]\n",
      "00:00:08\n",
      "TRIGGERED: application has been invoked\n",
      "OLD app_id: 734272c01926d19690e5ec308bab64ef97950b75b1c7582283e0783fce1751d8 \n",
      "IDLE TIME (IT) for application: 734272c01926d19690e5ec308bab64ef97950b75b1c7582283e0783fce1751d8 is: 0.0 mins\n",
      "appplication IT data is: [0.0]\n",
      "calculating CV =  0.004166666666666665\n",
      "Histogram is not representative\n",
      "keep alive time is: 10 mins\n",
      "keep alive till time: 610.504975\n",
      "WARM START\n",
      "keep alive list: [(601.025283, '1573b95c039e51cc012b543a4af3bc7c3ee9485acbb0033ba5648b74969e0556'), (601.633981, 'f274d71de386ccc77e4ca74766dbc485461c3053059d47266463c45ec92001b3'), (602.134637, '7b2c43a2bc30f6bb438074df88b603d2cb982d3e7961de05270735055950a568'), (602.743405, 'f7bfe5bc8d2a37a5c15986fbfc2c477a746e866adcb9663f9df7535b61c3eb9b'), (605.629778, '85479ef37b5dc75dd5aeca3bab499129b97a134dac5d740d2c68941de9d63031'), (609.484851, '938e7f49544b3293cd6cc7ec3e63e1751085cf5cb6a004dcc9e94543934f607b'), (610.504975, '734272c01926d19690e5ec308bab64ef97950b75b1c7582283e0783fce1751d8')]\n",
      "TRIGGERED: application has been invoked\n",
      "NEW app_id: 18ed3ca44bd1f7d411f1d047ed8cf38853fb184196afa59e91e68e5d06fda834\n",
      "COLD START BECAUSE OF NEW APPLICATION\n",
      "keep alive time is: 10 mins\n",
      "keep alive till time: 611.105671\n",
      "COLD START\n",
      "keep alive list: [(601.025283, '1573b95c039e51cc012b543a4af3bc7c3ee9485acbb0033ba5648b74969e0556'), (601.633981, 'f274d71de386ccc77e4ca74766dbc485461c3053059d47266463c45ec92001b3'), (602.134637, '7b2c43a2bc30f6bb438074df88b603d2cb982d3e7961de05270735055950a568'), (602.743405, 'f7bfe5bc8d2a37a5c15986fbfc2c477a746e866adcb9663f9df7535b61c3eb9b'), (605.629778, '85479ef37b5dc75dd5aeca3bab499129b97a134dac5d740d2c68941de9d63031'), (609.484851, '938e7f49544b3293cd6cc7ec3e63e1751085cf5cb6a004dcc9e94543934f607b'), (610.504975, '734272c01926d19690e5ec308bab64ef97950b75b1c7582283e0783fce1751d8'), (611.105671, '18ed3ca44bd1f7d411f1d047ed8cf38853fb184196afa59e91e68e5d06fda834')]\n",
      "00:00:09\n",
      "TRIGGERED: application has been invoked\n",
      "OLD app_id: 734272c01926d19690e5ec308bab64ef97950b75b1c7582283e0783fce1751d8 \n",
      "IDLE TIME (IT) for application: 734272c01926d19690e5ec308bab64ef97950b75b1c7582283e0783fce1751d8 is: 0.0 mins\n",
      "appplication IT data is: [0.0, 0.0]\n",
      "calculating CV =  0.01666666666666666\n",
      "Histogram is not representative\n",
      "keep alive time is: 10 mins\n",
      "keep alive till time: 611.612244\n",
      "WARM START\n",
      "keep alive list: [(601.025283, '1573b95c039e51cc012b543a4af3bc7c3ee9485acbb0033ba5648b74969e0556'), (601.633981, 'f274d71de386ccc77e4ca74766dbc485461c3053059d47266463c45ec92001b3'), (602.134637, '7b2c43a2bc30f6bb438074df88b603d2cb982d3e7961de05270735055950a568'), (602.743405, 'f7bfe5bc8d2a37a5c15986fbfc2c477a746e866adcb9663f9df7535b61c3eb9b'), (605.629778, '85479ef37b5dc75dd5aeca3bab499129b97a134dac5d740d2c68941de9d63031'), (609.484851, '938e7f49544b3293cd6cc7ec3e63e1751085cf5cb6a004dcc9e94543934f607b'), (611.105671, '18ed3ca44bd1f7d411f1d047ed8cf38853fb184196afa59e91e68e5d06fda834'), (611.612244, '734272c01926d19690e5ec308bab64ef97950b75b1c7582283e0783fce1751d8')]\n",
      "TRIGGERED: application has been invoked\n",
      "OLD app_id: 734272c01926d19690e5ec308bab64ef97950b75b1c7582283e0783fce1751d8 \n",
      "IDLE TIME (IT) for application: 734272c01926d19690e5ec308bab64ef97950b75b1c7582283e0783fce1751d8 is: 0.0 mins\n",
      "appplication IT data is: [0.0, 0.0, 0.0]\n",
      "calculating CV =  0.0375\n",
      "Histogram is not representative\n",
      "keep alive time is: 10 mins\n",
      "keep alive till time: 612.220226\n",
      "WARM START\n",
      "keep alive list: [(601.025283, '1573b95c039e51cc012b543a4af3bc7c3ee9485acbb0033ba5648b74969e0556'), (601.633981, 'f274d71de386ccc77e4ca74766dbc485461c3053059d47266463c45ec92001b3'), (602.134637, '7b2c43a2bc30f6bb438074df88b603d2cb982d3e7961de05270735055950a568'), (602.743405, 'f7bfe5bc8d2a37a5c15986fbfc2c477a746e866adcb9663f9df7535b61c3eb9b'), (605.629778, '85479ef37b5dc75dd5aeca3bab499129b97a134dac5d740d2c68941de9d63031'), (609.484851, '938e7f49544b3293cd6cc7ec3e63e1751085cf5cb6a004dcc9e94543934f607b'), (611.105671, '18ed3ca44bd1f7d411f1d047ed8cf38853fb184196afa59e91e68e5d06fda834'), (612.220226, '734272c01926d19690e5ec308bab64ef97950b75b1c7582283e0783fce1751d8')]\n",
      "00:00:10\n",
      "TRIGGERED: application has been invoked\n",
      "OLD app_id: 734272c01926d19690e5ec308bab64ef97950b75b1c7582283e0783fce1751d8 \n",
      "IDLE TIME (IT) for application: 734272c01926d19690e5ec308bab64ef97950b75b1c7582283e0783fce1751d8 is: 0.0 mins\n",
      "appplication IT data is: [0.0, 0.0, 0.0, 0.0]\n",
      "calculating CV =  0.06666666666666664\n",
      "Histogram is not representative\n",
      "keep alive time is: 10 mins\n",
      "keep alive till time: 612.811717\n",
      "WARM START\n",
      "keep alive list: [(601.025283, '1573b95c039e51cc012b543a4af3bc7c3ee9485acbb0033ba5648b74969e0556'), (601.633981, 'f274d71de386ccc77e4ca74766dbc485461c3053059d47266463c45ec92001b3'), (602.134637, '7b2c43a2bc30f6bb438074df88b603d2cb982d3e7961de05270735055950a568'), (602.743405, 'f7bfe5bc8d2a37a5c15986fbfc2c477a746e866adcb9663f9df7535b61c3eb9b'), (605.629778, '85479ef37b5dc75dd5aeca3bab499129b97a134dac5d740d2c68941de9d63031'), (609.484851, '938e7f49544b3293cd6cc7ec3e63e1751085cf5cb6a004dcc9e94543934f607b'), (611.105671, '18ed3ca44bd1f7d411f1d047ed8cf38853fb184196afa59e91e68e5d06fda834'), (612.811717, '734272c01926d19690e5ec308bab64ef97950b75b1c7582283e0783fce1751d8')]\n",
      "TRIGGERED: application has been invoked\n",
      "OLD app_id: 1573b95c039e51cc012b543a4af3bc7c3ee9485acbb0033ba5648b74969e0556 \n",
      "IDLE TIME (IT) for application: 1573b95c039e51cc012b543a4af3bc7c3ee9485acbb0033ba5648b74969e0556 is: 0.0 mins\n",
      "appplication IT data is: [0.0, 0.0]\n",
      "calculating CV =  0.01666666666666666\n",
      "Histogram is not representative\n",
      "keep alive time is: 10 mins\n",
      "keep alive till time: 613.480703\n",
      "WARM START\n",
      "keep alive list: [(601.633981, 'f274d71de386ccc77e4ca74766dbc485461c3053059d47266463c45ec92001b3'), (602.134637, '7b2c43a2bc30f6bb438074df88b603d2cb982d3e7961de05270735055950a568'), (602.743405, 'f7bfe5bc8d2a37a5c15986fbfc2c477a746e866adcb9663f9df7535b61c3eb9b'), (605.629778, '85479ef37b5dc75dd5aeca3bab499129b97a134dac5d740d2c68941de9d63031'), (609.484851, '938e7f49544b3293cd6cc7ec3e63e1751085cf5cb6a004dcc9e94543934f607b'), (611.105671, '18ed3ca44bd1f7d411f1d047ed8cf38853fb184196afa59e91e68e5d06fda834'), (612.811717, '734272c01926d19690e5ec308bab64ef97950b75b1c7582283e0783fce1751d8'), (613.480703, '1573b95c039e51cc012b543a4af3bc7c3ee9485acbb0033ba5648b74969e0556')]\n"
     ]
    },
    {
     "name": "stdout",
     "output_type": "stream",
     "text": [
      "00:00:11\n",
      "TRIGGERED: application has been invoked\n",
      "NEW app_id: 17c37a0fdd5d1932b755c0e6447137bc08fd524f455e14fdac414f584de08dc5\n",
      "COLD START BECAUSE OF NEW APPLICATION\n",
      "keep alive time is: 10 mins\n",
      "keep alive till time: 614.083241\n",
      "COLD START\n",
      "keep alive list: [(601.633981, 'f274d71de386ccc77e4ca74766dbc485461c3053059d47266463c45ec92001b3'), (602.134637, '7b2c43a2bc30f6bb438074df88b603d2cb982d3e7961de05270735055950a568'), (602.743405, 'f7bfe5bc8d2a37a5c15986fbfc2c477a746e866adcb9663f9df7535b61c3eb9b'), (605.629778, '85479ef37b5dc75dd5aeca3bab499129b97a134dac5d740d2c68941de9d63031'), (609.484851, '938e7f49544b3293cd6cc7ec3e63e1751085cf5cb6a004dcc9e94543934f607b'), (611.105671, '18ed3ca44bd1f7d411f1d047ed8cf38853fb184196afa59e91e68e5d06fda834'), (612.811717, '734272c01926d19690e5ec308bab64ef97950b75b1c7582283e0783fce1751d8'), (613.480703, '1573b95c039e51cc012b543a4af3bc7c3ee9485acbb0033ba5648b74969e0556'), (614.083241, '17c37a0fdd5d1932b755c0e6447137bc08fd524f455e14fdac414f584de08dc5')]\n",
      "TRIGGERED: application has been invoked\n",
      "OLD app_id: 1573b95c039e51cc012b543a4af3bc7c3ee9485acbb0033ba5648b74969e0556 \n",
      "IDLE TIME (IT) for application: 1573b95c039e51cc012b543a4af3bc7c3ee9485acbb0033ba5648b74969e0556 is: 0.0 mins\n",
      "appplication IT data is: [0.0, 0.0, 0.0]\n",
      "calculating CV =  0.0375\n",
      "Histogram is not representative\n",
      "keep alive time is: 10 mins\n",
      "keep alive till time: 614.594272\n",
      "WARM START\n",
      "keep alive list: [(601.633981, 'f274d71de386ccc77e4ca74766dbc485461c3053059d47266463c45ec92001b3'), (602.134637, '7b2c43a2bc30f6bb438074df88b603d2cb982d3e7961de05270735055950a568'), (602.743405, 'f7bfe5bc8d2a37a5c15986fbfc2c477a746e866adcb9663f9df7535b61c3eb9b'), (605.629778, '85479ef37b5dc75dd5aeca3bab499129b97a134dac5d740d2c68941de9d63031'), (609.484851, '938e7f49544b3293cd6cc7ec3e63e1751085cf5cb6a004dcc9e94543934f607b'), (611.105671, '18ed3ca44bd1f7d411f1d047ed8cf38853fb184196afa59e91e68e5d06fda834'), (612.811717, '734272c01926d19690e5ec308bab64ef97950b75b1c7582283e0783fce1751d8'), (614.083241, '17c37a0fdd5d1932b755c0e6447137bc08fd524f455e14fdac414f584de08dc5'), (614.594272, '1573b95c039e51cc012b543a4af3bc7c3ee9485acbb0033ba5648b74969e0556')]\n",
      "00:00:12\n",
      "TRIGGERED: application has been invoked\n",
      "OLD app_id: 734272c01926d19690e5ec308bab64ef97950b75b1c7582283e0783fce1751d8 \n",
      "IDLE TIME (IT) for application: 734272c01926d19690e5ec308bab64ef97950b75b1c7582283e0783fce1751d8 is: 0.0 mins\n",
      "appplication IT data is: [0.0, 0.0, 0.0, 0.0, 0.0]\n",
      "calculating CV =  0.1041666666666666\n",
      "Histogram is representative\n"
     ]
    },
    {
     "data": {
      "image/png": "[encoded data removed]",
      "text/plain": [
       "<Figure size 432x288 with 1 Axes>"
      ]
     },
     "metadata": {
      "needs_background": "light"
     },
     "output_type": "display_data"
    },
    {
     "name": "stdout",
     "output_type": "stream",
     "text": [
      "[5. 0. 0. 0. 0. 0. 0. 0. 0. 0. 0. 0. 0. 0. 0. 0. 0. 0. 0. 0. 0. 0. 0. 0.\n",
      " 0. 0. 0. 0. 0. 0. 0. 0. 0. 0. 0. 0. 0. 0. 0. 0. 0. 0. 0. 0. 0. 0. 0. 0.\n",
      " 0. 0. 0. 0. 0. 0. 0. 0. 0. 0. 0. 0. 0. 0. 0. 0. 0. 0. 0. 0. 0. 0. 0. 0.\n",
      " 0. 0. 0. 0. 0. 0. 0. 0. 0. 0. 0. 0. 0. 0. 0. 0. 0. 0. 0. 0. 0. 0. 0. 0.\n",
      " 0. 0. 0. 0. 0. 0. 0. 0. 0. 0. 0. 0. 0. 0. 0. 0. 0. 0. 0. 0. 0. 0. 0. 0.\n",
      " 0. 0. 0. 0. 0. 0. 0. 0. 0. 0. 0. 0. 0. 0. 0. 0. 0. 0. 0. 0. 0. 0. 0. 0.\n",
      " 0. 0. 0. 0. 0. 0. 0. 0. 0. 0. 0. 0. 0. 0. 0. 0. 0. 0. 0. 0. 0. 0. 0. 0.\n",
      " 0. 0. 0. 0. 0. 0. 0. 0. 0. 0. 0. 0. 0. 0. 0. 0. 0. 0. 0. 0. 0. 0. 0. 0.\n",
      " 0. 0. 0. 0. 0. 0. 0. 0. 0. 0. 0. 0. 0. 0. 0. 0. 0. 0. 0. 0. 0. 0. 0. 0.\n",
      " 0. 0. 0. 0. 0. 0. 0. 0. 0. 0. 0. 0. 0. 0. 0. 0. 0. 0. 0. 0. 0. 0. 0. 0.]\n",
      "00:00:13\n",
      "TRIGGERED: application has been invoked\n",
      "OLD app_id: 734272c01926d19690e5ec308bab64ef97950b75b1c7582283e0783fce1751d8 \n",
      "IDLE TIME (IT) for application: 734272c01926d19690e5ec308bab64ef97950b75b1c7582283e0783fce1751d8 is: 0.0 mins\n",
      "appplication IT data is: [0.0, 0.0, 0.0, 0.0, 0.0, 0.0]\n",
      "calculating CV =  0.15\n",
      "Histogram is representative\n"
     ]
    },
    {
     "data": {
      "image/png": "[encoded data removed]",
      "text/plain": [
       "<Figure size 432x288 with 1 Axes>"
      ]
     },
     "metadata": {
      "needs_background": "light"
     },
     "output_type": "display_data"
    },
    {
     "name": "stdout",
     "output_type": "stream",
     "text": [
      "[6. 0. 0. 0. 0. 0. 0. 0. 0. 0. 0. 0. 0. 0. 0. 0. 0. 0. 0. 0. 0. 0. 0. 0.\n",
      " 0. 0. 0. 0. 0. 0. 0. 0. 0. 0. 0. 0. 0. 0. 0. 0. 0. 0. 0. 0. 0. 0. 0. 0.\n",
      " 0. 0. 0. 0. 0. 0. 0. 0. 0. 0. 0. 0. 0. 0. 0. 0. 0. 0. 0. 0. 0. 0. 0. 0.\n",
      " 0. 0. 0. 0. 0. 0. 0. 0. 0. 0. 0. 0. 0. 0. 0. 0. 0. 0. 0. 0. 0. 0. 0. 0.\n",
      " 0. 0. 0. 0. 0. 0. 0. 0. 0. 0. 0. 0. 0. 0. 0. 0. 0. 0. 0. 0. 0. 0. 0. 0.\n",
      " 0. 0. 0. 0. 0. 0. 0. 0. 0. 0. 0. 0. 0. 0. 0. 0. 0. 0. 0. 0. 0. 0. 0. 0.\n",
      " 0. 0. 0. 0. 0. 0. 0. 0. 0. 0. 0. 0. 0. 0. 0. 0. 0. 0. 0. 0. 0. 0. 0. 0.\n",
      " 0. 0. 0. 0. 0. 0. 0. 0. 0. 0. 0. 0. 0. 0. 0. 0. 0. 0. 0. 0. 0. 0. 0. 0.\n",
      " 0. 0. 0. 0. 0. 0. 0. 0. 0. 0. 0. 0. 0. 0. 0. 0. 0. 0. 0. 0. 0. 0. 0. 0.\n",
      " 0. 0. 0. 0. 0. 0. 0. 0. 0. 0. 0. 0. 0. 0. 0. 0. 0. 0. 0. 0. 0. 0. 0. 0.]\n",
      "TRIGGERED: application has been invoked\n",
      "OLD app_id: 734272c01926d19690e5ec308bab64ef97950b75b1c7582283e0783fce1751d8 \n",
      "IDLE TIME (IT) for application: 734272c01926d19690e5ec308bab64ef97950b75b1c7582283e0783fce1751d8 is: 0.0 mins\n",
      "appplication IT data is: [0.0, 0.0, 0.0, 0.0, 0.0, 0.0, 0.0]\n",
      "calculating CV =  0.20416666666666683\n",
      "Histogram is representative\n"
     ]
    },
    {
     "data": {
      "image/png": "[encoded data removed]",
      "text/plain": [
       "<Figure size 432x288 with 1 Axes>"
      ]
     },
     "metadata": {
      "needs_background": "light"
     },
     "output_type": "display_data"
    },
    {
     "name": "stdout",
     "output_type": "stream",
     "text": [
      "[7. 0. 0. 0. 0. 0. 0. 0. 0. 0. 0. 0. 0. 0. 0. 0. 0. 0. 0. 0. 0. 0. 0. 0.\n",
      " 0. 0. 0. 0. 0. 0. 0. 0. 0. 0. 0. 0. 0. 0. 0. 0. 0. 0. 0. 0. 0. 0. 0. 0.\n",
      " 0. 0. 0. 0. 0. 0. 0. 0. 0. 0. 0. 0. 0. 0. 0. 0. 0. 0. 0. 0. 0. 0. 0. 0.\n",
      " 0. 0. 0. 0. 0. 0. 0. 0. 0. 0. 0. 0. 0. 0. 0. 0. 0. 0. 0. 0. 0. 0. 0. 0.\n",
      " 0. 0. 0. 0. 0. 0. 0. 0. 0. 0. 0. 0. 0. 0. 0. 0. 0. 0. 0. 0. 0. 0. 0. 0.\n",
      " 0. 0. 0. 0. 0. 0. 0. 0. 0. 0. 0. 0. 0. 0. 0. 0. 0. 0. 0. 0. 0. 0. 0. 0.\n",
      " 0. 0. 0. 0. 0. 0. 0. 0. 0. 0. 0. 0. 0. 0. 0. 0. 0. 0. 0. 0. 0. 0. 0. 0.\n",
      " 0. 0. 0. 0. 0. 0. 0. 0. 0. 0. 0. 0. 0. 0. 0. 0. 0. 0. 0. 0. 0. 0. 0. 0.\n",
      " 0. 0. 0. 0. 0. 0. 0. 0. 0. 0. 0. 0. 0. 0. 0. 0. 0. 0. 0. 0. 0. 0. 0. 0.\n",
      " 0. 0. 0. 0. 0. 0. 0. 0. 0. 0. 0. 0. 0. 0. 0. 0. 0. 0. 0. 0. 0. 0. 0. 0.]\n",
      "00:00:14\n",
      "TRIGGERED: application has been invoked\n",
      "OLD app_id: 734272c01926d19690e5ec308bab64ef97950b75b1c7582283e0783fce1751d8 \n",
      "IDLE TIME (IT) for application: 734272c01926d19690e5ec308bab64ef97950b75b1c7582283e0783fce1751d8 is: 0.0 mins\n",
      "appplication IT data is: [0.0, 0.0, 0.0, 0.0, 0.0, 0.0, 0.0, 0.0]\n",
      "calculating CV =  0.26666666666666655\n",
      "Histogram is representative\n"
     ]
    },
    {
     "data": {
      "image/png": "[encoded data removed]",
      "text/plain": [
       "<Figure size 432x288 with 1 Axes>"
      ]
     },
     "metadata": {
      "needs_background": "light"
     },
     "output_type": "display_data"
    },
    {
     "name": "stdout",
     "output_type": "stream",
     "text": [
      "[8. 0. 0. 0. 0. 0. 0. 0. 0. 0. 0. 0. 0. 0. 0. 0. 0. 0. 0. 0. 0. 0. 0. 0.\n",
      " 0. 0. 0. 0. 0. 0. 0. 0. 0. 0. 0. 0. 0. 0. 0. 0. 0. 0. 0. 0. 0. 0. 0. 0.\n",
      " 0. 0. 0. 0. 0. 0. 0. 0. 0. 0. 0. 0. 0. 0. 0. 0. 0. 0. 0. 0. 0. 0. 0. 0.\n",
      " 0. 0. 0. 0. 0. 0. 0. 0. 0. 0. 0. 0. 0. 0. 0. 0. 0. 0. 0. 0. 0. 0. 0. 0.\n",
      " 0. 0. 0. 0. 0. 0. 0. 0. 0. 0. 0. 0. 0. 0. 0. 0. 0. 0. 0. 0. 0. 0. 0. 0.\n",
      " 0. 0. 0. 0. 0. 0. 0. 0. 0. 0. 0. 0. 0. 0. 0. 0. 0. 0. 0. 0. 0. 0. 0. 0.\n",
      " 0. 0. 0. 0. 0. 0. 0. 0. 0. 0. 0. 0. 0. 0. 0. 0. 0. 0. 0. 0. 0. 0. 0. 0.\n",
      " 0. 0. 0. 0. 0. 0. 0. 0. 0. 0. 0. 0. 0. 0. 0. 0. 0. 0. 0. 0. 0. 0. 0. 0.\n",
      " 0. 0. 0. 0. 0. 0. 0. 0. 0. 0. 0. 0. 0. 0. 0. 0. 0. 0. 0. 0. 0. 0. 0. 0.\n",
      " 0. 0. 0. 0. 0. 0. 0. 0. 0. 0. 0. 0. 0. 0. 0. 0. 0. 0. 0. 0. 0. 0. 0. 0.]\n",
      "TRIGGERED: application has been invoked\n",
      "OLD app_id: 734272c01926d19690e5ec308bab64ef97950b75b1c7582283e0783fce1751d8 \n",
      "IDLE TIME (IT) for application: 734272c01926d19690e5ec308bab64ef97950b75b1c7582283e0783fce1751d8 is: 0.0 mins\n",
      "appplication IT data is: [0.0, 0.0, 0.0, 0.0, 0.0, 0.0, 0.0, 0.0, 0.0]\n",
      "calculating CV =  0.3375\n",
      "Histogram is representative\n"
     ]
    },
    {
     "data": {
      "image/png": "[encoded data removed]",
      "text/plain": [
       "<Figure size 432x288 with 1 Axes>"
      ]
     },
     "metadata": {
      "needs_background": "light"
     },
     "output_type": "display_data"
    },
    {
     "name": "stdout",
     "output_type": "stream",
     "text": [
      "[9. 0. 0. 0. 0. 0. 0. 0. 0. 0. 0. 0. 0. 0. 0. 0. 0. 0. 0. 0. 0. 0. 0. 0.\n",
      " 0. 0. 0. 0. 0. 0. 0. 0. 0. 0. 0. 0. 0. 0. 0. 0. 0. 0. 0. 0. 0. 0. 0. 0.\n",
      " 0. 0. 0. 0. 0. 0. 0. 0. 0. 0. 0. 0. 0. 0. 0. 0. 0. 0. 0. 0. 0. 0. 0. 0.\n",
      " 0. 0. 0. 0. 0. 0. 0. 0. 0. 0. 0. 0. 0. 0. 0. 0. 0. 0. 0. 0. 0. 0. 0. 0.\n",
      " 0. 0. 0. 0. 0. 0. 0. 0. 0. 0. 0. 0. 0. 0. 0. 0. 0. 0. 0. 0. 0. 0. 0. 0.\n",
      " 0. 0. 0. 0. 0. 0. 0. 0. 0. 0. 0. 0. 0. 0. 0. 0. 0. 0. 0. 0. 0. 0. 0. 0.\n",
      " 0. 0. 0. 0. 0. 0. 0. 0. 0. 0. 0. 0. 0. 0. 0. 0. 0. 0. 0. 0. 0. 0. 0. 0.\n",
      " 0. 0. 0. 0. 0. 0. 0. 0. 0. 0. 0. 0. 0. 0. 0. 0. 0. 0. 0. 0. 0. 0. 0. 0.\n",
      " 0. 0. 0. 0. 0. 0. 0. 0. 0. 0. 0. 0. 0. 0. 0. 0. 0. 0. 0. 0. 0. 0. 0. 0.\n",
      " 0. 0. 0. 0. 0. 0. 0. 0. 0. 0. 0. 0. 0. 0. 0. 0. 0. 0. 0. 0. 0. 0. 0. 0.]\n",
      "00:00:15\n",
      "TRIGGERED: application has been invoked\n",
      "OLD app_id: 734272c01926d19690e5ec308bab64ef97950b75b1c7582283e0783fce1751d8 \n",
      "IDLE TIME (IT) for application: 734272c01926d19690e5ec308bab64ef97950b75b1c7582283e0783fce1751d8 is: 0.0 mins\n",
      "appplication IT data is: [0.0, 0.0, 0.0, 0.0, 0.0, 0.0, 0.0, 0.0, 0.0, 0.0]\n",
      "calculating CV =  0.4166666666666664\n",
      "Histogram is representative\n"
     ]
    },
    {
     "data": {
      "image/png": "[encoded data removed]",
      "text/plain": [
       "<Figure size 432x288 with 1 Axes>"
      ]
     },
     "metadata": {
      "needs_background": "light"
     },
     "output_type": "display_data"
    },
    {
     "name": "stdout",
     "output_type": "stream",
     "text": [
      "[10.  0.  0.  0.  0.  0.  0.  0.  0.  0.  0.  0.  0.  0.  0.  0.  0.  0.\n",
      "  0.  0.  0.  0.  0.  0.  0.  0.  0.  0.  0.  0.  0.  0.  0.  0.  0.  0.\n",
      "  0.  0.  0.  0.  0.  0.  0.  0.  0.  0.  0.  0.  0.  0.  0.  0.  0.  0.\n",
      "  0.  0.  0.  0.  0.  0.  0.  0.  0.  0.  0.  0.  0.  0.  0.  0.  0.  0.\n",
      "  0.  0.  0.  0.  0.  0.  0.  0.  0.  0.  0.  0.  0.  0.  0.  0.  0.  0.\n",
      "  0.  0.  0.  0.  0.  0.  0.  0.  0.  0.  0.  0.  0.  0.  0.  0.  0.  0.\n",
      "  0.  0.  0.  0.  0.  0.  0.  0.  0.  0.  0.  0.  0.  0.  0.  0.  0.  0.\n",
      "  0.  0.  0.  0.  0.  0.  0.  0.  0.  0.  0.  0.  0.  0.  0.  0.  0.  0.\n",
      "  0.  0.  0.  0.  0.  0.  0.  0.  0.  0.  0.  0.  0.  0.  0.  0.  0.  0.\n",
      "  0.  0.  0.  0.  0.  0.  0.  0.  0.  0.  0.  0.  0.  0.  0.  0.  0.  0.\n",
      "  0.  0.  0.  0.  0.  0.  0.  0.  0.  0.  0.  0.  0.  0.  0.  0.  0.  0.\n",
      "  0.  0.  0.  0.  0.  0.  0.  0.  0.  0.  0.  0.  0.  0.  0.  0.  0.  0.\n",
      "  0.  0.  0.  0.  0.  0.  0.  0.  0.  0.  0.  0.  0.  0.  0.  0.  0.  0.\n",
      "  0.  0.  0.  0.  0.  0.]\n",
      "TRIGGERED: application has been invoked\n",
      "OLD app_id: 734272c01926d19690e5ec308bab64ef97950b75b1c7582283e0783fce1751d8 \n",
      "IDLE TIME (IT) for application: 734272c01926d19690e5ec308bab64ef97950b75b1c7582283e0783fce1751d8 is: 0.0 mins\n",
      "appplication IT data is: [0.0, 0.0, 0.0, 0.0, 0.0, 0.0, 0.0, 0.0, 0.0, 0.0, 0.0]\n",
      "calculating CV =  0.5041666666666668\n",
      "Histogram is representative\n"
     ]
    },
    {
     "data": {
      "image/png": "[encoded data removed]",
      "text/plain": [
       "<Figure size 432x288 with 1 Axes>"
      ]
     },
     "metadata": {
      "needs_background": "light"
     },
     "output_type": "display_data"
    },
    {
     "name": "stdout",
     "output_type": "stream",
     "text": [
      "[11.  0.  0.  0.  0.  0.  0.  0.  0.  0.  0.  0.  0.  0.  0.  0.  0.  0.\n",
      "  0.  0.  0.  0.  0.  0.  0.  0.  0.  0.  0.  0.  0.  0.  0.  0.  0.  0.\n",
      "  0.  0.  0.  0.  0.  0.  0.  0.  0.  0.  0.  0.  0.  0.  0.  0.  0.  0.\n",
      "  0.  0.  0.  0.  0.  0.  0.  0.  0.  0.  0.  0.  0.  0.  0.  0.  0.  0.\n",
      "  0.  0.  0.  0.  0.  0.  0.  0.  0.  0.  0.  0.  0.  0.  0.  0.  0.  0.\n",
      "  0.  0.  0.  0.  0.  0.  0.  0.  0.  0.  0.  0.  0.  0.  0.  0.  0.  0.\n",
      "  0.  0.  0.  0.  0.  0.  0.  0.  0.  0.  0.  0.  0.  0.  0.  0.  0.  0.\n",
      "  0.  0.  0.  0.  0.  0.  0.  0.  0.  0.  0.  0.  0.  0.  0.  0.  0.  0.\n",
      "  0.  0.  0.  0.  0.  0.  0.  0.  0.  0.  0.  0.  0.  0.  0.  0.  0.  0.\n",
      "  0.  0.  0.  0.  0.  0.  0.  0.  0.  0.  0.  0.  0.  0.  0.  0.  0.  0.\n",
      "  0.  0.  0.  0.  0.  0.  0.  0.  0.  0.  0.  0.  0.  0.  0.  0.  0.  0.\n",
      "  0.  0.  0.  0.  0.  0.  0.  0.  0.  0.  0.  0.  0.  0.  0.  0.  0.  0.\n",
      "  0.  0.  0.  0.  0.  0.  0.  0.  0.  0.  0.  0.  0.  0.  0.  0.  0.  0.\n",
      "  0.  0.  0.  0.  0.  0.]\n",
      "00:00:16\n",
      "TRIGGERED: application has been invoked\n",
      "OLD app_id: 734272c01926d19690e5ec308bab64ef97950b75b1c7582283e0783fce1751d8 \n",
      "IDLE TIME (IT) for application: 734272c01926d19690e5ec308bab64ef97950b75b1c7582283e0783fce1751d8 is: 0.0 mins\n",
      "appplication IT data is: [0.0, 0.0, 0.0, 0.0, 0.0, 0.0, 0.0, 0.0, 0.0, 0.0, 0.0, 0.0]\n",
      "calculating CV =  0.6\n",
      "Histogram is representative\n"
     ]
    },
    {
     "data": {
      "image/png": "[encoded data removed]",
      "text/plain": [
       "<Figure size 432x288 with 1 Axes>"
      ]
     },
     "metadata": {
      "needs_background": "light"
     },
     "output_type": "display_data"
    },
    {
     "name": "stdout",
     "output_type": "stream",
     "text": [
      "[12.  0.  0.  0.  0.  0.  0.  0.  0.  0.  0.  0.  0.  0.  0.  0.  0.  0.\n",
      "  0.  0.  0.  0.  0.  0.  0.  0.  0.  0.  0.  0.  0.  0.  0.  0.  0.  0.\n",
      "  0.  0.  0.  0.  0.  0.  0.  0.  0.  0.  0.  0.  0.  0.  0.  0.  0.  0.\n",
      "  0.  0.  0.  0.  0.  0.  0.  0.  0.  0.  0.  0.  0.  0.  0.  0.  0.  0.\n",
      "  0.  0.  0.  0.  0.  0.  0.  0.  0.  0.  0.  0.  0.  0.  0.  0.  0.  0.\n",
      "  0.  0.  0.  0.  0.  0.  0.  0.  0.  0.  0.  0.  0.  0.  0.  0.  0.  0.\n",
      "  0.  0.  0.  0.  0.  0.  0.  0.  0.  0.  0.  0.  0.  0.  0.  0.  0.  0.\n",
      "  0.  0.  0.  0.  0.  0.  0.  0.  0.  0.  0.  0.  0.  0.  0.  0.  0.  0.\n",
      "  0.  0.  0.  0.  0.  0.  0.  0.  0.  0.  0.  0.  0.  0.  0.  0.  0.  0.\n",
      "  0.  0.  0.  0.  0.  0.  0.  0.  0.  0.  0.  0.  0.  0.  0.  0.  0.  0.\n",
      "  0.  0.  0.  0.  0.  0.  0.  0.  0.  0.  0.  0.  0.  0.  0.  0.  0.  0.\n",
      "  0.  0.  0.  0.  0.  0.  0.  0.  0.  0.  0.  0.  0.  0.  0.  0.  0.  0.\n",
      "  0.  0.  0.  0.  0.  0.  0.  0.  0.  0.  0.  0.  0.  0.  0.  0.  0.  0.\n",
      "  0.  0.  0.  0.  0.  0.]\n",
      "TRIGGERED: application has been invoked\n",
      "OLD app_id: 734272c01926d19690e5ec308bab64ef97950b75b1c7582283e0783fce1751d8 \n",
      "IDLE TIME (IT) for application: 734272c01926d19690e5ec308bab64ef97950b75b1c7582283e0783fce1751d8 is: 0.0 mins\n",
      "appplication IT data is: [0.0, 0.0, 0.0, 0.0, 0.0, 0.0, 0.0, 0.0, 0.0, 0.0, 0.0, 0.0, 0.0]\n",
      "calculating CV =  0.7041666666666662\n",
      "Histogram is representative\n"
     ]
    },
    {
     "data": {
      "image/png": "[encoded data removed]",
      "text/plain": [
       "<Figure size 432x288 with 1 Axes>"
      ]
     },
     "metadata": {
      "needs_background": "light"
     },
     "output_type": "display_data"
    },
    {
     "name": "stdout",
     "output_type": "stream",
     "text": [
      "[13.  0.  0.  0.  0.  0.  0.  0.  0.  0.  0.  0.  0.  0.  0.  0.  0.  0.\n",
      "  0.  0.  0.  0.  0.  0.  0.  0.  0.  0.  0.  0.  0.  0.  0.  0.  0.  0.\n",
      "  0.  0.  0.  0.  0.  0.  0.  0.  0.  0.  0.  0.  0.  0.  0.  0.  0.  0.\n",
      "  0.  0.  0.  0.  0.  0.  0.  0.  0.  0.  0.  0.  0.  0.  0.  0.  0.  0.\n",
      "  0.  0.  0.  0.  0.  0.  0.  0.  0.  0.  0.  0.  0.  0.  0.  0.  0.  0.\n",
      "  0.  0.  0.  0.  0.  0.  0.  0.  0.  0.  0.  0.  0.  0.  0.  0.  0.  0.\n",
      "  0.  0.  0.  0.  0.  0.  0.  0.  0.  0.  0.  0.  0.  0.  0.  0.  0.  0.\n",
      "  0.  0.  0.  0.  0.  0.  0.  0.  0.  0.  0.  0.  0.  0.  0.  0.  0.  0.\n",
      "  0.  0.  0.  0.  0.  0.  0.  0.  0.  0.  0.  0.  0.  0.  0.  0.  0.  0.\n",
      "  0.  0.  0.  0.  0.  0.  0.  0.  0.  0.  0.  0.  0.  0.  0.  0.  0.  0.\n",
      "  0.  0.  0.  0.  0.  0.  0.  0.  0.  0.  0.  0.  0.  0.  0.  0.  0.  0.\n",
      "  0.  0.  0.  0.  0.  0.  0.  0.  0.  0.  0.  0.  0.  0.  0.  0.  0.  0.\n",
      "  0.  0.  0.  0.  0.  0.  0.  0.  0.  0.  0.  0.  0.  0.  0.  0.  0.  0.\n",
      "  0.  0.  0.  0.  0.  0.]\n",
      "00:00:17\n",
      "TRIGGERED: application has been invoked\n",
      "OLD app_id: 734272c01926d19690e5ec308bab64ef97950b75b1c7582283e0783fce1751d8 \n",
      "IDLE TIME (IT) for application: 734272c01926d19690e5ec308bab64ef97950b75b1c7582283e0783fce1751d8 is: 0.0 mins\n",
      "appplication IT data is: [0.0, 0.0, 0.0, 0.0, 0.0, 0.0, 0.0, 0.0, 0.0, 0.0, 0.0, 0.0, 0.0, 0.0]\n",
      "calculating CV =  0.8166666666666673\n",
      "Histogram is representative\n"
     ]
    },
    {
     "data": {
      "image/png": "[encoded data removed]",
      "text/plain": [
       "<Figure size 432x288 with 1 Axes>"
      ]
     },
     "metadata": {
      "needs_background": "light"
     },
     "output_type": "display_data"
    },
    {
     "name": "stdout",
     "output_type": "stream",
     "text": [
      "[14.  0.  0.  0.  0.  0.  0.  0.  0.  0.  0.  0.  0.  0.  0.  0.  0.  0.\n",
      "  0.  0.  0.  0.  0.  0.  0.  0.  0.  0.  0.  0.  0.  0.  0.  0.  0.  0.\n",
      "  0.  0.  0.  0.  0.  0.  0.  0.  0.  0.  0.  0.  0.  0.  0.  0.  0.  0.\n",
      "  0.  0.  0.  0.  0.  0.  0.  0.  0.  0.  0.  0.  0.  0.  0.  0.  0.  0.\n",
      "  0.  0.  0.  0.  0.  0.  0.  0.  0.  0.  0.  0.  0.  0.  0.  0.  0.  0.\n",
      "  0.  0.  0.  0.  0.  0.  0.  0.  0.  0.  0.  0.  0.  0.  0.  0.  0.  0.\n",
      "  0.  0.  0.  0.  0.  0.  0.  0.  0.  0.  0.  0.  0.  0.  0.  0.  0.  0.\n",
      "  0.  0.  0.  0.  0.  0.  0.  0.  0.  0.  0.  0.  0.  0.  0.  0.  0.  0.\n",
      "  0.  0.  0.  0.  0.  0.  0.  0.  0.  0.  0.  0.  0.  0.  0.  0.  0.  0.\n",
      "  0.  0.  0.  0.  0.  0.  0.  0.  0.  0.  0.  0.  0.  0.  0.  0.  0.  0.\n",
      "  0.  0.  0.  0.  0.  0.  0.  0.  0.  0.  0.  0.  0.  0.  0.  0.  0.  0.\n",
      "  0.  0.  0.  0.  0.  0.  0.  0.  0.  0.  0.  0.  0.  0.  0.  0.  0.  0.\n",
      "  0.  0.  0.  0.  0.  0.  0.  0.  0.  0.  0.  0.  0.  0.  0.  0.  0.  0.\n",
      "  0.  0.  0.  0.  0.  0.]\n",
      "TRIGGERED: application has been invoked\n",
      "OLD app_id: 734272c01926d19690e5ec308bab64ef97950b75b1c7582283e0783fce1751d8 \n",
      "IDLE TIME (IT) for application: 734272c01926d19690e5ec308bab64ef97950b75b1c7582283e0783fce1751d8 is: 0.0 mins\n",
      "appplication IT data is: [0.0, 0.0, 0.0, 0.0, 0.0, 0.0, 0.0, 0.0, 0.0, 0.0, 0.0, 0.0, 0.0, 0.0, 0.0]\n",
      "calculating CV =  0.9375000000000001\n",
      "Histogram is representative\n"
     ]
    },
    {
     "data": {
      "image/png": "[encoded data removed]",
      "text/plain": [
       "<Figure size 432x288 with 1 Axes>"
      ]
     },
     "metadata": {
      "needs_background": "light"
     },
     "output_type": "display_data"
    },
    {
     "name": "stdout",
     "output_type": "stream",
     "text": [
      "[15.  0.  0.  0.  0.  0.  0.  0.  0.  0.  0.  0.  0.  0.  0.  0.  0.  0.\n",
      "  0.  0.  0.  0.  0.  0.  0.  0.  0.  0.  0.  0.  0.  0.  0.  0.  0.  0.\n",
      "  0.  0.  0.  0.  0.  0.  0.  0.  0.  0.  0.  0.  0.  0.  0.  0.  0.  0.\n",
      "  0.  0.  0.  0.  0.  0.  0.  0.  0.  0.  0.  0.  0.  0.  0.  0.  0.  0.\n",
      "  0.  0.  0.  0.  0.  0.  0.  0.  0.  0.  0.  0.  0.  0.  0.  0.  0.  0.\n",
      "  0.  0.  0.  0.  0.  0.  0.  0.  0.  0.  0.  0.  0.  0.  0.  0.  0.  0.\n",
      "  0.  0.  0.  0.  0.  0.  0.  0.  0.  0.  0.  0.  0.  0.  0.  0.  0.  0.\n",
      "  0.  0.  0.  0.  0.  0.  0.  0.  0.  0.  0.  0.  0.  0.  0.  0.  0.  0.\n",
      "  0.  0.  0.  0.  0.  0.  0.  0.  0.  0.  0.  0.  0.  0.  0.  0.  0.  0.\n",
      "  0.  0.  0.  0.  0.  0.  0.  0.  0.  0.  0.  0.  0.  0.  0.  0.  0.  0.\n",
      "  0.  0.  0.  0.  0.  0.  0.  0.  0.  0.  0.  0.  0.  0.  0.  0.  0.  0.\n",
      "  0.  0.  0.  0.  0.  0.  0.  0.  0.  0.  0.  0.  0.  0.  0.  0.  0.  0.\n",
      "  0.  0.  0.  0.  0.  0.  0.  0.  0.  0.  0.  0.  0.  0.  0.  0.  0.  0.\n",
      "  0.  0.  0.  0.  0.  0.]\n",
      "00:00:18\n",
      "TRIGGERED: application has been invoked\n",
      "OLD app_id: 734272c01926d19690e5ec308bab64ef97950b75b1c7582283e0783fce1751d8 \n",
      "IDLE TIME (IT) for application: 734272c01926d19690e5ec308bab64ef97950b75b1c7582283e0783fce1751d8 is: 0.0 mins\n",
      "appplication IT data is: [0.0, 0.0, 0.0, 0.0, 0.0, 0.0, 0.0, 0.0, 0.0, 0.0, 0.0, 0.0, 0.0, 0.0, 0.0, 0.0]\n",
      "calculating CV =  1.0666666666666662\n",
      "Histogram is representative\n"
     ]
    },
    {
     "data": {
      "image/png": "[encoded data removed]",
      "text/plain": [
       "<Figure size 432x288 with 1 Axes>"
      ]
     },
     "metadata": {
      "needs_background": "light"
     },
     "output_type": "display_data"
    },
    {
     "name": "stdout",
     "output_type": "stream",
     "text": [
      "[16.  0.  0.  0.  0.  0.  0.  0.  0.  0.  0.  0.  0.  0.  0.  0.  0.  0.\n",
      "  0.  0.  0.  0.  0.  0.  0.  0.  0.  0.  0.  0.  0.  0.  0.  0.  0.  0.\n",
      "  0.  0.  0.  0.  0.  0.  0.  0.  0.  0.  0.  0.  0.  0.  0.  0.  0.  0.\n",
      "  0.  0.  0.  0.  0.  0.  0.  0.  0.  0.  0.  0.  0.  0.  0.  0.  0.  0.\n",
      "  0.  0.  0.  0.  0.  0.  0.  0.  0.  0.  0.  0.  0.  0.  0.  0.  0.  0.\n",
      "  0.  0.  0.  0.  0.  0.  0.  0.  0.  0.  0.  0.  0.  0.  0.  0.  0.  0.\n",
      "  0.  0.  0.  0.  0.  0.  0.  0.  0.  0.  0.  0.  0.  0.  0.  0.  0.  0.\n",
      "  0.  0.  0.  0.  0.  0.  0.  0.  0.  0.  0.  0.  0.  0.  0.  0.  0.  0.\n",
      "  0.  0.  0.  0.  0.  0.  0.  0.  0.  0.  0.  0.  0.  0.  0.  0.  0.  0.\n",
      "  0.  0.  0.  0.  0.  0.  0.  0.  0.  0.  0.  0.  0.  0.  0.  0.  0.  0.\n",
      "  0.  0.  0.  0.  0.  0.  0.  0.  0.  0.  0.  0.  0.  0.  0.  0.  0.  0.\n",
      "  0.  0.  0.  0.  0.  0.  0.  0.  0.  0.  0.  0.  0.  0.  0.  0.  0.  0.\n",
      "  0.  0.  0.  0.  0.  0.  0.  0.  0.  0.  0.  0.  0.  0.  0.  0.  0.  0.\n",
      "  0.  0.  0.  0.  0.  0.]\n",
      "TRIGGERED: application has been invoked\n",
      "OLD app_id: 734272c01926d19690e5ec308bab64ef97950b75b1c7582283e0783fce1751d8 \n",
      "IDLE TIME (IT) for application: 734272c01926d19690e5ec308bab64ef97950b75b1c7582283e0783fce1751d8 is: 0.0 mins\n",
      "appplication IT data is: [0.0, 0.0, 0.0, 0.0, 0.0, 0.0, 0.0, 0.0, 0.0, 0.0, 0.0, 0.0, 0.0, 0.0, 0.0, 0.0, 0.0]\n",
      "calculating CV =  1.204166666666665\n",
      "Histogram is representative\n"
     ]
    },
    {
     "data": {
      "image/png": "[encoded data removed]",
      "text/plain": [
       "<Figure size 432x288 with 1 Axes>"
      ]
     },
     "metadata": {
      "needs_background": "light"
     },
     "output_type": "display_data"
    },
    {
     "name": "stdout",
     "output_type": "stream",
     "text": [
      "[17.  0.  0.  0.  0.  0.  0.  0.  0.  0.  0.  0.  0.  0.  0.  0.  0.  0.\n",
      "  0.  0.  0.  0.  0.  0.  0.  0.  0.  0.  0.  0.  0.  0.  0.  0.  0.  0.\n",
      "  0.  0.  0.  0.  0.  0.  0.  0.  0.  0.  0.  0.  0.  0.  0.  0.  0.  0.\n",
      "  0.  0.  0.  0.  0.  0.  0.  0.  0.  0.  0.  0.  0.  0.  0.  0.  0.  0.\n",
      "  0.  0.  0.  0.  0.  0.  0.  0.  0.  0.  0.  0.  0.  0.  0.  0.  0.  0.\n",
      "  0.  0.  0.  0.  0.  0.  0.  0.  0.  0.  0.  0.  0.  0.  0.  0.  0.  0.\n",
      "  0.  0.  0.  0.  0.  0.  0.  0.  0.  0.  0.  0.  0.  0.  0.  0.  0.  0.\n",
      "  0.  0.  0.  0.  0.  0.  0.  0.  0.  0.  0.  0.  0.  0.  0.  0.  0.  0.\n",
      "  0.  0.  0.  0.  0.  0.  0.  0.  0.  0.  0.  0.  0.  0.  0.  0.  0.  0.\n",
      "  0.  0.  0.  0.  0.  0.  0.  0.  0.  0.  0.  0.  0.  0.  0.  0.  0.  0.\n",
      "  0.  0.  0.  0.  0.  0.  0.  0.  0.  0.  0.  0.  0.  0.  0.  0.  0.  0.\n",
      "  0.  0.  0.  0.  0.  0.  0.  0.  0.  0.  0.  0.  0.  0.  0.  0.  0.  0.\n",
      "  0.  0.  0.  0.  0.  0.  0.  0.  0.  0.  0.  0.  0.  0.  0.  0.  0.  0.\n",
      "  0.  0.  0.  0.  0.  0.]\n",
      "00:00:19\n",
      "TRIGGERED: application has been invoked\n",
      "OLD app_id: 734272c01926d19690e5ec308bab64ef97950b75b1c7582283e0783fce1751d8 \n",
      "IDLE TIME (IT) for application: 734272c01926d19690e5ec308bab64ef97950b75b1c7582283e0783fce1751d8 is: 0.0 mins\n",
      "appplication IT data is: [0.0, 0.0, 0.0, 0.0, 0.0, 0.0, 0.0, 0.0, 0.0, 0.0, 0.0, 0.0, 0.0, 0.0, 0.0, 0.0, 0.0, 0.0]\n",
      "calculating CV =  1.35\n",
      "Histogram is representative\n"
     ]
    },
    {
     "data": {
      "image/png": "[encoded data removed]",
      "text/plain": [
       "<Figure size 432x288 with 1 Axes>"
      ]
     },
     "metadata": {
      "needs_background": "light"
     },
     "output_type": "display_data"
    },
    {
     "name": "stdout",
     "output_type": "stream",
     "text": [
      "[18.  0.  0.  0.  0.  0.  0.  0.  0.  0.  0.  0.  0.  0.  0.  0.  0.  0.\n",
      "  0.  0.  0.  0.  0.  0.  0.  0.  0.  0.  0.  0.  0.  0.  0.  0.  0.  0.\n",
      "  0.  0.  0.  0.  0.  0.  0.  0.  0.  0.  0.  0.  0.  0.  0.  0.  0.  0.\n",
      "  0.  0.  0.  0.  0.  0.  0.  0.  0.  0.  0.  0.  0.  0.  0.  0.  0.  0.\n",
      "  0.  0.  0.  0.  0.  0.  0.  0.  0.  0.  0.  0.  0.  0.  0.  0.  0.  0.\n",
      "  0.  0.  0.  0.  0.  0.  0.  0.  0.  0.  0.  0.  0.  0.  0.  0.  0.  0.\n",
      "  0.  0.  0.  0.  0.  0.  0.  0.  0.  0.  0.  0.  0.  0.  0.  0.  0.  0.\n",
      "  0.  0.  0.  0.  0.  0.  0.  0.  0.  0.  0.  0.  0.  0.  0.  0.  0.  0.\n",
      "  0.  0.  0.  0.  0.  0.  0.  0.  0.  0.  0.  0.  0.  0.  0.  0.  0.  0.\n",
      "  0.  0.  0.  0.  0.  0.  0.  0.  0.  0.  0.  0.  0.  0.  0.  0.  0.  0.\n",
      "  0.  0.  0.  0.  0.  0.  0.  0.  0.  0.  0.  0.  0.  0.  0.  0.  0.  0.\n",
      "  0.  0.  0.  0.  0.  0.  0.  0.  0.  0.  0.  0.  0.  0.  0.  0.  0.  0.\n",
      "  0.  0.  0.  0.  0.  0.  0.  0.  0.  0.  0.  0.  0.  0.  0.  0.  0.  0.\n",
      "  0.  0.  0.  0.  0.  0.]\n",
      "TRIGGERED: application has been invoked\n",
      "OLD app_id: 734272c01926d19690e5ec308bab64ef97950b75b1c7582283e0783fce1751d8 \n",
      "IDLE TIME (IT) for application: 734272c01926d19690e5ec308bab64ef97950b75b1c7582283e0783fce1751d8 is: 0.0 mins\n",
      "appplication IT data is: [0.0, 0.0, 0.0, 0.0, 0.0, 0.0, 0.0, 0.0, 0.0, 0.0, 0.0, 0.0, 0.0, 0.0, 0.0, 0.0, 0.0, 0.0, 0.0]\n",
      "calculating CV =  1.504166666666667\n",
      "Histogram is representative\n"
     ]
    },
    {
     "data": {
      "image/png": "[encoded data removed]",
      "text/plain": [
       "<Figure size 432x288 with 1 Axes>"
      ]
     },
     "metadata": {
      "needs_background": "light"
     },
     "output_type": "display_data"
    },
    {
     "name": "stdout",
     "output_type": "stream",
     "text": [
      "[19.  0.  0.  0.  0.  0.  0.  0.  0.  0.  0.  0.  0.  0.  0.  0.  0.  0.\n",
      "  0.  0.  0.  0.  0.  0.  0.  0.  0.  0.  0.  0.  0.  0.  0.  0.  0.  0.\n",
      "  0.  0.  0.  0.  0.  0.  0.  0.  0.  0.  0.  0.  0.  0.  0.  0.  0.  0.\n",
      "  0.  0.  0.  0.  0.  0.  0.  0.  0.  0.  0.  0.  0.  0.  0.  0.  0.  0.\n",
      "  0.  0.  0.  0.  0.  0.  0.  0.  0.  0.  0.  0.  0.  0.  0.  0.  0.  0.\n",
      "  0.  0.  0.  0.  0.  0.  0.  0.  0.  0.  0.  0.  0.  0.  0.  0.  0.  0.\n",
      "  0.  0.  0.  0.  0.  0.  0.  0.  0.  0.  0.  0.  0.  0.  0.  0.  0.  0.\n",
      "  0.  0.  0.  0.  0.  0.  0.  0.  0.  0.  0.  0.  0.  0.  0.  0.  0.  0.\n",
      "  0.  0.  0.  0.  0.  0.  0.  0.  0.  0.  0.  0.  0.  0.  0.  0.  0.  0.\n",
      "  0.  0.  0.  0.  0.  0.  0.  0.  0.  0.  0.  0.  0.  0.  0.  0.  0.  0.\n",
      "  0.  0.  0.  0.  0.  0.  0.  0.  0.  0.  0.  0.  0.  0.  0.  0.  0.  0.\n",
      "  0.  0.  0.  0.  0.  0.  0.  0.  0.  0.  0.  0.  0.  0.  0.  0.  0.  0.\n",
      "  0.  0.  0.  0.  0.  0.  0.  0.  0.  0.  0.  0.  0.  0.  0.  0.  0.  0.\n",
      "  0.  0.  0.  0.  0.  0.]\n",
      "00:00:20\n",
      "TRIGGERED: application has been invoked\n",
      "OLD app_id: 734272c01926d19690e5ec308bab64ef97950b75b1c7582283e0783fce1751d8 \n",
      "IDLE TIME (IT) for application: 734272c01926d19690e5ec308bab64ef97950b75b1c7582283e0783fce1751d8 is: 0.0 mins\n",
      "appplication IT data is: [0.0, 0.0, 0.0, 0.0, 0.0, 0.0, 0.0, 0.0, 0.0, 0.0, 0.0, 0.0, 0.0, 0.0, 0.0, 0.0, 0.0, 0.0, 0.0, 0.0]\n",
      "calculating CV =  1.6666666666666656\n",
      "Histogram is representative\n"
     ]
    },
    {
     "data": {
      "image/png": "[encoded data removed]",
      "text/plain": [
       "<Figure size 432x288 with 1 Axes>"
      ]
     },
     "metadata": {
      "needs_background": "light"
     },
     "output_type": "display_data"
    },
    {
     "name": "stdout",
     "output_type": "stream",
     "text": [
      "[20.  0.  0.  0.  0.  0.  0.  0.  0.  0.  0.  0.  0.  0.  0.  0.  0.  0.\n",
      "  0.  0.  0.  0.  0.  0.  0.  0.  0.  0.  0.  0.  0.  0.  0.  0.  0.  0.\n",
      "  0.  0.  0.  0.  0.  0.  0.  0.  0.  0.  0.  0.  0.  0.  0.  0.  0.  0.\n",
      "  0.  0.  0.  0.  0.  0.  0.  0.  0.  0.  0.  0.  0.  0.  0.  0.  0.  0.\n",
      "  0.  0.  0.  0.  0.  0.  0.  0.  0.  0.  0.  0.  0.  0.  0.  0.  0.  0.\n",
      "  0.  0.  0.  0.  0.  0.  0.  0.  0.  0.  0.  0.  0.  0.  0.  0.  0.  0.\n",
      "  0.  0.  0.  0.  0.  0.  0.  0.  0.  0.  0.  0.  0.  0.  0.  0.  0.  0.\n",
      "  0.  0.  0.  0.  0.  0.  0.  0.  0.  0.  0.  0.  0.  0.  0.  0.  0.  0.\n",
      "  0.  0.  0.  0.  0.  0.  0.  0.  0.  0.  0.  0.  0.  0.  0.  0.  0.  0.\n",
      "  0.  0.  0.  0.  0.  0.  0.  0.  0.  0.  0.  0.  0.  0.  0.  0.  0.  0.\n",
      "  0.  0.  0.  0.  0.  0.  0.  0.  0.  0.  0.  0.  0.  0.  0.  0.  0.  0.\n",
      "  0.  0.  0.  0.  0.  0.  0.  0.  0.  0.  0.  0.  0.  0.  0.  0.  0.  0.\n",
      "  0.  0.  0.  0.  0.  0.  0.  0.  0.  0.  0.  0.  0.  0.  0.  0.  0.  0.\n",
      "  0.  0.  0.  0.  0.  0.]\n",
      "00:00:21\n",
      "00:00:22\n",
      "00:00:23\n",
      "00:00:24\n",
      "00:00:25\n",
      "TRIGGERED: application has been invoked\n",
      "NEW app_id: 7fa05b607ae861b85ec53cea12d3efaed8be0f9a92f5d6e8067244161d491e96\n",
      "COLD START BECAUSE OF NEW APPLICATION\n",
      "keep alive time is: 10 mins\n",
      "keep alive till time: 634.228243\n",
      "COLD START\n",
      "keep alive list: [(601.633981, 'f274d71de386ccc77e4ca74766dbc485461c3053059d47266463c45ec92001b3'), (602.134637, '7b2c43a2bc30f6bb438074df88b603d2cb982d3e7961de05270735055950a568'), (602.743405, 'f7bfe5bc8d2a37a5c15986fbfc2c477a746e866adcb9663f9df7535b61c3eb9b'), (605.629778, '85479ef37b5dc75dd5aeca3bab499129b97a134dac5d740d2c68941de9d63031'), (609.484851, '938e7f49544b3293cd6cc7ec3e63e1751085cf5cb6a004dcc9e94543934f607b'), (611.105671, '18ed3ca44bd1f7d411f1d047ed8cf38853fb184196afa59e91e68e5d06fda834'), (612.811717, '734272c01926d19690e5ec308bab64ef97950b75b1c7582283e0783fce1751d8'), (614.083241, '17c37a0fdd5d1932b755c0e6447137bc08fd524f455e14fdac414f584de08dc5'), (614.594272, '1573b95c039e51cc012b543a4af3bc7c3ee9485acbb0033ba5648b74969e0556'), (634.228243, '7fa05b607ae861b85ec53cea12d3efaed8be0f9a92f5d6e8067244161d491e96')]\n",
      "00:00:26\n",
      "00:00:27\n",
      "00:00:28\n",
      "00:00:29\n",
      "00:00:30\n",
      "00:00:31\n",
      "00:00:32\n",
      "00:00:33\n",
      "00:00:34\n",
      "00:00:35\n",
      "00:00:36\n",
      "00:00:37\n",
      "00:00:38\n",
      "00:00:39\n",
      "00:00:40\n",
      "00:00:41\n",
      "00:00:42\n",
      "00:00:43\n",
      "00:00:44\n",
      "00:00:45\n",
      "00:00:46\n",
      "00:00:47\n",
      "TRIGGERED: application has been invoked\n",
      "OLD app_id: 1573b95c039e51cc012b543a4af3bc7c3ee9485acbb0033ba5648b74969e0556 \n",
      "IDLE TIME (IT) for application: 1573b95c039e51cc012b543a4af3bc7c3ee9485acbb0033ba5648b74969e0556 is: 0.0 mins\n",
      "appplication IT data is: [0.0, 0.0, 0.0, 0.0]\n",
      "calculating CV =  0.06666666666666664\n",
      "Histogram is not representative\n",
      "keep alive time is: 10 mins\n",
      "keep alive till time: 657.192034\n",
      "WARM START\n",
      "keep alive list: [(601.633981, 'f274d71de386ccc77e4ca74766dbc485461c3053059d47266463c45ec92001b3'), (602.134637, '7b2c43a2bc30f6bb438074df88b603d2cb982d3e7961de05270735055950a568'), (602.743405, 'f7bfe5bc8d2a37a5c15986fbfc2c477a746e866adcb9663f9df7535b61c3eb9b'), (605.629778, '85479ef37b5dc75dd5aeca3bab499129b97a134dac5d740d2c68941de9d63031'), (609.484851, '938e7f49544b3293cd6cc7ec3e63e1751085cf5cb6a004dcc9e94543934f607b'), (611.105671, '18ed3ca44bd1f7d411f1d047ed8cf38853fb184196afa59e91e68e5d06fda834'), (612.811717, '734272c01926d19690e5ec308bab64ef97950b75b1c7582283e0783fce1751d8'), (614.083241, '17c37a0fdd5d1932b755c0e6447137bc08fd524f455e14fdac414f584de08dc5'), (634.228243, '7fa05b607ae861b85ec53cea12d3efaed8be0f9a92f5d6e8067244161d491e96'), (657.192034, '1573b95c039e51cc012b543a4af3bc7c3ee9485acbb0033ba5648b74969e0556')]\n",
      "00:00:48\n",
      "00:00:49\n",
      "00:00:50\n",
      "TRIGGERED: application has been invoked\n",
      "OLD app_id: 734272c01926d19690e5ec308bab64ef97950b75b1c7582283e0783fce1751d8 \n",
      "IDLE TIME (IT) for application: 734272c01926d19690e5ec308bab64ef97950b75b1c7582283e0783fce1751d8 is: 0.0 mins\n",
      "appplication IT data is: [0.0, 0.0, 0.0, 0.0, 0.0, 0.0, 0.0, 0.0, 0.0, 0.0, 0.0, 0.0, 0.0, 0.0, 0.0, 0.0, 0.0, 0.0, 0.0, 0.0, 0.0]\n",
      "calculating CV =  1.8375000000000008\n",
      "Histogram is representative\n"
     ]
    },
    {
     "data": {
      "image/png": "[encoded data removed]",
      "text/plain": [
       "<Figure size 432x288 with 1 Axes>"
      ]
     },
     "metadata": {
      "needs_background": "light"
     },
     "output_type": "display_data"
    },
    {
     "name": "stdout",
     "output_type": "stream",
     "text": [
      "[21.  0.  0.  0.  0.  0.  0.  0.  0.  0.  0.  0.  0.  0.  0.  0.  0.  0.\n",
      "  0.  0.  0.  0.  0.  0.  0.  0.  0.  0.  0.  0.  0.  0.  0.  0.  0.  0.\n",
      "  0.  0.  0.  0.  0.  0.  0.  0.  0.  0.  0.  0.  0.  0.  0.  0.  0.  0.\n",
      "  0.  0.  0.  0.  0.  0.  0.  0.  0.  0.  0.  0.  0.  0.  0.  0.  0.  0.\n",
      "  0.  0.  0.  0.  0.  0.  0.  0.  0.  0.  0.  0.  0.  0.  0.  0.  0.  0.\n",
      "  0.  0.  0.  0.  0.  0.  0.  0.  0.  0.  0.  0.  0.  0.  0.  0.  0.  0.\n",
      "  0.  0.  0.  0.  0.  0.  0.  0.  0.  0.  0.  0.  0.  0.  0.  0.  0.  0.\n",
      "  0.  0.  0.  0.  0.  0.  0.  0.  0.  0.  0.  0.  0.  0.  0.  0.  0.  0.\n",
      "  0.  0.  0.  0.  0.  0.  0.  0.  0.  0.  0.  0.  0.  0.  0.  0.  0.  0.\n",
      "  0.  0.  0.  0.  0.  0.  0.  0.  0.  0.  0.  0.  0.  0.  0.  0.  0.  0.\n",
      "  0.  0.  0.  0.  0.  0.  0.  0.  0.  0.  0.  0.  0.  0.  0.  0.  0.  0.\n",
      "  0.  0.  0.  0.  0.  0.  0.  0.  0.  0.  0.  0.  0.  0.  0.  0.  0.  0.\n",
      "  0.  0.  0.  0.  0.  0.  0.  0.  0.  0.  0.  0.  0.  0.  0.  0.  0.  0.\n",
      "  0.  0.  0.  0.  0.  0.]\n",
      "00:00:51\n",
      "TRIGGERED: application has been invoked\n",
      "OLD app_id: 1573b95c039e51cc012b543a4af3bc7c3ee9485acbb0033ba5648b74969e0556 \n",
      "IDLE TIME (IT) for application: 1573b95c039e51cc012b543a4af3bc7c3ee9485acbb0033ba5648b74969e0556 is: 0.0 mins\n",
      "appplication IT data is: [0.0, 0.0, 0.0, 0.0, 0.0]\n",
      "calculating CV =  0.1041666666666666\n",
      "Histogram is representative\n"
     ]
    },
    {
     "data": {
      "image/png": "[encoded data removed]",
      "text/plain": [
       "<Figure size 432x288 with 1 Axes>"
      ]
     },
     "metadata": {
      "needs_background": "light"
     },
     "output_type": "display_data"
    },
    {
     "name": "stdout",
     "output_type": "stream",
     "text": [
      "[5. 0. 0. 0. 0. 0. 0. 0. 0. 0. 0. 0. 0. 0. 0. 0. 0. 0. 0. 0. 0. 0. 0. 0.\n",
      " 0. 0. 0. 0. 0. 0. 0. 0. 0. 0. 0. 0. 0. 0. 0. 0. 0. 0. 0. 0. 0. 0. 0. 0.\n",
      " 0. 0. 0. 0. 0. 0. 0. 0. 0. 0. 0. 0. 0. 0. 0. 0. 0. 0. 0. 0. 0. 0. 0. 0.\n",
      " 0. 0. 0. 0. 0. 0. 0. 0. 0. 0. 0. 0. 0. 0. 0. 0. 0. 0. 0. 0. 0. 0. 0. 0.\n",
      " 0. 0. 0. 0. 0. 0. 0. 0. 0. 0. 0. 0. 0. 0. 0. 0. 0. 0. 0. 0. 0. 0. 0. 0.\n",
      " 0. 0. 0. 0. 0. 0. 0. 0. 0. 0. 0. 0. 0. 0. 0. 0. 0. 0. 0. 0. 0. 0. 0. 0.\n",
      " 0. 0. 0. 0. 0. 0. 0. 0. 0. 0. 0. 0. 0. 0. 0. 0. 0. 0. 0. 0. 0. 0. 0. 0.\n",
      " 0. 0. 0. 0. 0. 0. 0. 0. 0. 0. 0. 0. 0. 0. 0. 0. 0. 0. 0. 0. 0. 0. 0. 0.\n",
      " 0. 0. 0. 0. 0. 0. 0. 0. 0. 0. 0. 0. 0. 0. 0. 0. 0. 0. 0. 0. 0. 0. 0. 0.\n",
      " 0. 0. 0. 0. 0. 0. 0. 0. 0. 0. 0. 0. 0. 0. 0. 0. 0. 0. 0. 0. 0. 0. 0. 0.]\n",
      "00:00:52\n",
      "00:00:53\n",
      "00:00:54\n",
      "00:00:55\n",
      "00:00:56\n",
      "00:00:57\n",
      "00:00:58\n",
      "00:00:59\n",
      "00:01:00\n",
      "00:01:01\n",
      "00:01:02\n",
      "TRIGGERED: application has been invoked\n",
      "OLD app_id: 7fa05b607ae861b85ec53cea12d3efaed8be0f9a92f5d6e8067244161d491e96 \n",
      "IDLE TIME (IT) for application: 7fa05b607ae861b85ec53cea12d3efaed8be0f9a92f5d6e8067244161d491e96 is: 0.0 mins\n",
      "appplication IT data is: [0.0]\n",
      "calculating CV =  0.004166666666666665\n",
      "Histogram is not representative\n",
      "keep alive time is: 10 mins\n",
      "keep alive till time: 672.884257\n",
      "WARM START\n",
      "keep alive list: [(601.633981, 'f274d71de386ccc77e4ca74766dbc485461c3053059d47266463c45ec92001b3'), (602.134637, '7b2c43a2bc30f6bb438074df88b603d2cb982d3e7961de05270735055950a568'), (602.743405, 'f7bfe5bc8d2a37a5c15986fbfc2c477a746e866adcb9663f9df7535b61c3eb9b'), (605.629778, '85479ef37b5dc75dd5aeca3bab499129b97a134dac5d740d2c68941de9d63031'), (609.484851, '938e7f49544b3293cd6cc7ec3e63e1751085cf5cb6a004dcc9e94543934f607b'), (611.105671, '18ed3ca44bd1f7d411f1d047ed8cf38853fb184196afa59e91e68e5d06fda834'), (612.811717, '734272c01926d19690e5ec308bab64ef97950b75b1c7582283e0783fce1751d8'), (614.083241, '17c37a0fdd5d1932b755c0e6447137bc08fd524f455e14fdac414f584de08dc5'), (657.192034, '1573b95c039e51cc012b543a4af3bc7c3ee9485acbb0033ba5648b74969e0556'), (672.884257, '7fa05b607ae861b85ec53cea12d3efaed8be0f9a92f5d6e8067244161d491e96')]\n",
      "00:01:03\n",
      "00:01:04\n",
      "00:01:05\n",
      "00:01:06\n",
      "TRIGGERED: application has been invoked\n",
      "OLD app_id: 1573b95c039e51cc012b543a4af3bc7c3ee9485acbb0033ba5648b74969e0556 \n",
      "IDLE TIME (IT) for application: 1573b95c039e51cc012b543a4af3bc7c3ee9485acbb0033ba5648b74969e0556 is: 0.0 mins\n",
      "appplication IT data is: [0.0, 0.0, 0.0, 0.0, 0.0, 0.0]\n",
      "calculating CV =  0.15\n",
      "Histogram is representative\n"
     ]
    },
    {
     "data": {
      "image/png": "[encoded data removed]",
      "text/plain": [
       "<Figure size 432x288 with 1 Axes>"
      ]
     },
     "metadata": {
      "needs_background": "light"
     },
     "output_type": "display_data"
    },
    {
     "name": "stdout",
     "output_type": "stream",
     "text": [
      "[6. 0. 0. 0. 0. 0. 0. 0. 0. 0. 0. 0. 0. 0. 0. 0. 0. 0. 0. 0. 0. 0. 0. 0.\n",
      " 0. 0. 0. 0. 0. 0. 0. 0. 0. 0. 0. 0. 0. 0. 0. 0. 0. 0. 0. 0. 0. 0. 0. 0.\n",
      " 0. 0. 0. 0. 0. 0. 0. 0. 0. 0. 0. 0. 0. 0. 0. 0. 0. 0. 0. 0. 0. 0. 0. 0.\n",
      " 0. 0. 0. 0. 0. 0. 0. 0. 0. 0. 0. 0. 0. 0. 0. 0. 0. 0. 0. 0. 0. 0. 0. 0.\n",
      " 0. 0. 0. 0. 0. 0. 0. 0. 0. 0. 0. 0. 0. 0. 0. 0. 0. 0. 0. 0. 0. 0. 0. 0.\n",
      " 0. 0. 0. 0. 0. 0. 0. 0. 0. 0. 0. 0. 0. 0. 0. 0. 0. 0. 0. 0. 0. 0. 0. 0.\n",
      " 0. 0. 0. 0. 0. 0. 0. 0. 0. 0. 0. 0. 0. 0. 0. 0. 0. 0. 0. 0. 0. 0. 0. 0.\n",
      " 0. 0. 0. 0. 0. 0. 0. 0. 0. 0. 0. 0. 0. 0. 0. 0. 0. 0. 0. 0. 0. 0. 0. 0.\n",
      " 0. 0. 0. 0. 0. 0. 0. 0. 0. 0. 0. 0. 0. 0. 0. 0. 0. 0. 0. 0. 0. 0. 0. 0.\n",
      " 0. 0. 0. 0. 0. 0. 0. 0. 0. 0. 0. 0. 0. 0. 0. 0. 0. 0. 0. 0. 0. 0. 0. 0.]\n",
      "00:01:07\n",
      "00:01:08\n",
      "00:01:09\n",
      "00:01:10\n",
      "00:01:11\n",
      "00:01:12\n",
      "00:01:13\n",
      "00:01:14\n",
      "00:01:15\n",
      "00:01:16\n",
      "00:01:17\n",
      "00:01:18\n",
      "00:01:19\n",
      "00:01:20\n",
      "00:01:21\n",
      "00:01:22\n",
      "00:01:23\n",
      "00:01:24\n",
      "00:01:25\n",
      "00:01:26\n",
      "00:01:27\n",
      "00:01:28\n",
      "00:01:29\n",
      "00:01:30\n",
      "00:01:31\n",
      "00:01:32\n",
      "00:01:33\n",
      "00:01:34\n",
      "00:01:35\n",
      "00:01:36\n",
      "00:01:37\n",
      "00:01:38\n",
      "00:01:39\n",
      "00:01:40\n",
      "TRIGGERED: application has been invoked\n",
      "OLD app_id: 1573b95c039e51cc012b543a4af3bc7c3ee9485acbb0033ba5648b74969e0556 \n",
      "IDLE TIME (IT) for application: 1573b95c039e51cc012b543a4af3bc7c3ee9485acbb0033ba5648b74969e0556 is: 0.0 mins\n",
      "appplication IT data is: [0.0, 0.0, 0.0, 0.0, 0.0, 0.0, 0.0]\n",
      "calculating CV =  0.20416666666666683\n",
      "Histogram is representative\n"
     ]
    },
    {
     "data": {
      "image/png": "[encoded data removed]",
      "text/plain": [
       "<Figure size 432x288 with 1 Axes>"
      ]
     },
     "metadata": {
      "needs_background": "light"
     },
     "output_type": "display_data"
    },
    {
     "name": "stdout",
     "output_type": "stream",
     "text": [
      "[7. 0. 0. 0. 0. 0. 0. 0. 0. 0. 0. 0. 0. 0. 0. 0. 0. 0. 0. 0. 0. 0. 0. 0.\n",
      " 0. 0. 0. 0. 0. 0. 0. 0. 0. 0. 0. 0. 0. 0. 0. 0. 0. 0. 0. 0. 0. 0. 0. 0.\n",
      " 0. 0. 0. 0. 0. 0. 0. 0. 0. 0. 0. 0. 0. 0. 0. 0. 0. 0. 0. 0. 0. 0. 0. 0.\n",
      " 0. 0. 0. 0. 0. 0. 0. 0. 0. 0. 0. 0. 0. 0. 0. 0. 0. 0. 0. 0. 0. 0. 0. 0.\n",
      " 0. 0. 0. 0. 0. 0. 0. 0. 0. 0. 0. 0. 0. 0. 0. 0. 0. 0. 0. 0. 0. 0. 0. 0.\n",
      " 0. 0. 0. 0. 0. 0. 0. 0. 0. 0. 0. 0. 0. 0. 0. 0. 0. 0. 0. 0. 0. 0. 0. 0.\n",
      " 0. 0. 0. 0. 0. 0. 0. 0. 0. 0. 0. 0. 0. 0. 0. 0. 0. 0. 0. 0. 0. 0. 0. 0.\n",
      " 0. 0. 0. 0. 0. 0. 0. 0. 0. 0. 0. 0. 0. 0. 0. 0. 0. 0. 0. 0. 0. 0. 0. 0.\n",
      " 0. 0. 0. 0. 0. 0. 0. 0. 0. 0. 0. 0. 0. 0. 0. 0. 0. 0. 0. 0. 0. 0. 0. 0.\n",
      " 0. 0. 0. 0. 0. 0. 0. 0. 0. 0. 0. 0. 0. 0. 0. 0. 0. 0. 0. 0. 0. 0. 0. 0.]\n",
      "00:01:41\n",
      "00:01:42\n",
      "00:01:43\n",
      "00:01:44\n",
      "TRIGGERED: application has been invoked\n",
      "OLD app_id: 7fa05b607ae861b85ec53cea12d3efaed8be0f9a92f5d6e8067244161d491e96 \n",
      "IDLE TIME (IT) for application: 7fa05b607ae861b85ec53cea12d3efaed8be0f9a92f5d6e8067244161d491e96 is: 0.0 mins\n",
      "appplication IT data is: [0.0, 0.0]\n",
      "calculating CV =  0.01666666666666666\n",
      "Histogram is not representative\n",
      "keep alive time is: 10 mins\n",
      "keep alive till time: 717.187144\n",
      "WARM START\n",
      "keep alive list: [(601.633981, 'f274d71de386ccc77e4ca74766dbc485461c3053059d47266463c45ec92001b3'), (602.134637, '7b2c43a2bc30f6bb438074df88b603d2cb982d3e7961de05270735055950a568'), (602.743405, 'f7bfe5bc8d2a37a5c15986fbfc2c477a746e866adcb9663f9df7535b61c3eb9b'), (605.629778, '85479ef37b5dc75dd5aeca3bab499129b97a134dac5d740d2c68941de9d63031'), (609.484851, '938e7f49544b3293cd6cc7ec3e63e1751085cf5cb6a004dcc9e94543934f607b'), (611.105671, '18ed3ca44bd1f7d411f1d047ed8cf38853fb184196afa59e91e68e5d06fda834'), (612.811717, '734272c01926d19690e5ec308bab64ef97950b75b1c7582283e0783fce1751d8'), (614.083241, '17c37a0fdd5d1932b755c0e6447137bc08fd524f455e14fdac414f584de08dc5'), (657.192034, '1573b95c039e51cc012b543a4af3bc7c3ee9485acbb0033ba5648b74969e0556'), (717.187144, '7fa05b607ae861b85ec53cea12d3efaed8be0f9a92f5d6e8067244161d491e96')]\n",
      "00:01:45\n",
      "00:01:46\n",
      "00:01:47\n",
      "TRIGGERED: application has been invoked\n",
      "OLD app_id: 1573b95c039e51cc012b543a4af3bc7c3ee9485acbb0033ba5648b74969e0556 \n",
      "IDLE TIME (IT) for application: 1573b95c039e51cc012b543a4af3bc7c3ee9485acbb0033ba5648b74969e0556 is: 0.0 mins\n",
      "appplication IT data is: [0.0, 0.0, 0.0, 0.0, 0.0, 0.0, 0.0, 0.0]\n",
      "calculating CV =  0.26666666666666655\n",
      "Histogram is representative\n"
     ]
    },
    {
     "data": {
      "image/png": "[encoded data removed]",
      "text/plain": [
       "<Figure size 432x288 with 1 Axes>"
      ]
     },
     "metadata": {
      "needs_background": "light"
     },
     "output_type": "display_data"
    },
    {
     "name": "stdout",
     "output_type": "stream",
     "text": [
      "[8. 0. 0. 0. 0. 0. 0. 0. 0. 0. 0. 0. 0. 0. 0. 0. 0. 0. 0. 0. 0. 0. 0. 0.\n",
      " 0. 0. 0. 0. 0. 0. 0. 0. 0. 0. 0. 0. 0. 0. 0. 0. 0. 0. 0. 0. 0. 0. 0. 0.\n",
      " 0. 0. 0. 0. 0. 0. 0. 0. 0. 0. 0. 0. 0. 0. 0. 0. 0. 0. 0. 0. 0. 0. 0. 0.\n",
      " 0. 0. 0. 0. 0. 0. 0. 0. 0. 0. 0. 0. 0. 0. 0. 0. 0. 0. 0. 0. 0. 0. 0. 0.\n",
      " 0. 0. 0. 0. 0. 0. 0. 0. 0. 0. 0. 0. 0. 0. 0. 0. 0. 0. 0. 0. 0. 0. 0. 0.\n",
      " 0. 0. 0. 0. 0. 0. 0. 0. 0. 0. 0. 0. 0. 0. 0. 0. 0. 0. 0. 0. 0. 0. 0. 0.\n",
      " 0. 0. 0. 0. 0. 0. 0. 0. 0. 0. 0. 0. 0. 0. 0. 0. 0. 0. 0. 0. 0. 0. 0. 0.\n",
      " 0. 0. 0. 0. 0. 0. 0. 0. 0. 0. 0. 0. 0. 0. 0. 0. 0. 0. 0. 0. 0. 0. 0. 0.\n",
      " 0. 0. 0. 0. 0. 0. 0. 0. 0. 0. 0. 0. 0. 0. 0. 0. 0. 0. 0. 0. 0. 0. 0. 0.\n",
      " 0. 0. 0. 0. 0. 0. 0. 0. 0. 0. 0. 0. 0. 0. 0. 0. 0. 0. 0. 0. 0. 0. 0. 0.]\n",
      "00:01:48\n",
      "TRIGGERED: application has been invoked\n",
      "OLD app_id: 734272c01926d19690e5ec308bab64ef97950b75b1c7582283e0783fce1751d8 \n",
      "IDLE TIME (IT) for application: 734272c01926d19690e5ec308bab64ef97950b75b1c7582283e0783fce1751d8 is: 1.0 mins\n",
      "appplication IT data is: [0.0, 0.0, 0.0, 0.0, 0.0, 0.0, 0.0, 0.0, 0.0, 0.0, 0.0, 0.0, 0.0, 0.0, 0.0, 0.0, 0.0, 0.0, 0.0, 0.0, 0.0, 1.0]\n",
      "calculating CV =  1.8409344490934454\n",
      "Histogram is representative\n"
     ]
    },
    {
     "data": {
      "image/png": "[encoded data removed]",
      "text/plain": [
       "<Figure size 432x288 with 1 Axes>"
      ]
     },
     "metadata": {
      "needs_background": "light"
     },
     "output_type": "display_data"
    },
    {
     "name": "stdout",
     "output_type": "stream",
     "text": [
      "[21.  1.  0.  0.  0.  0.  0.  0.  0.  0.  0.  0.  0.  0.  0.  0.  0.  0.\n",
      "  0.  0.  0.  0.  0.  0.  0.  0.  0.  0.  0.  0.  0.  0.  0.  0.  0.  0.\n",
      "  0.  0.  0.  0.  0.  0.  0.  0.  0.  0.  0.  0.  0.  0.  0.  0.  0.  0.\n",
      "  0.  0.  0.  0.  0.  0.  0.  0.  0.  0.  0.  0.  0.  0.  0.  0.  0.  0.\n",
      "  0.  0.  0.  0.  0.  0.  0.  0.  0.  0.  0.  0.  0.  0.  0.  0.  0.  0.\n",
      "  0.  0.  0.  0.  0.  0.  0.  0.  0.  0.  0.  0.  0.  0.  0.  0.  0.  0.\n",
      "  0.  0.  0.  0.  0.  0.  0.  0.  0.  0.  0.  0.  0.  0.  0.  0.  0.  0.\n",
      "  0.  0.  0.  0.  0.  0.  0.  0.  0.  0.  0.  0.  0.  0.  0.  0.  0.  0.\n",
      "  0.  0.  0.  0.  0.  0.  0.  0.  0.  0.  0.  0.  0.  0.  0.  0.  0.  0.\n",
      "  0.  0.  0.  0.  0.  0.  0.  0.  0.  0.  0.  0.  0.  0.  0.  0.  0.  0.\n",
      "  0.  0.  0.  0.  0.  0.  0.  0.  0.  0.  0.  0.  0.  0.  0.  0.  0.  0.\n",
      "  0.  0.  0.  0.  0.  0.  0.  0.  0.  0.  0.  0.  0.  0.  0.  0.  0.  0.\n",
      "  0.  0.  0.  0.  0.  0.  0.  0.  0.  0.  0.  0.  0.  0.  0.  0.  0.  0.\n",
      "  0.  0.  0.  0.  0.  0.]\n",
      "TRIGGERED: application has been invoked\n",
      "OLD app_id: 85479ef37b5dc75dd5aeca3bab499129b97a134dac5d740d2c68941de9d63031 \n",
      "IDLE TIME (IT) for application: 85479ef37b5dc75dd5aeca3bab499129b97a134dac5d740d2c68941de9d63031 is: 1.0 mins\n",
      "appplication IT data is: [0.0, 0.0, 0.0, 0.0, 0.0, 0.0, 0.0, 1.0]\n",
      "calculating CV =  0.20808926080892595\n",
      "Histogram is representative\n"
     ]
    },
    {
     "data": {
      "image/png": "[encoded data removed]",
      "text/plain": [
       "<Figure size 432x288 with 1 Axes>"
      ]
     },
     "metadata": {
      "needs_background": "light"
     },
     "output_type": "display_data"
    },
    {
     "name": "stdout",
     "output_type": "stream",
     "text": [
      "[7. 1. 0. 0. 0. 0. 0. 0. 0. 0. 0. 0. 0. 0. 0. 0. 0. 0. 0. 0. 0. 0. 0. 0.\n",
      " 0. 0. 0. 0. 0. 0. 0. 0. 0. 0. 0. 0. 0. 0. 0. 0. 0. 0. 0. 0. 0. 0. 0. 0.\n",
      " 0. 0. 0. 0. 0. 0. 0. 0. 0. 0. 0. 0. 0. 0. 0. 0. 0. 0. 0. 0. 0. 0. 0. 0.\n",
      " 0. 0. 0. 0. 0. 0. 0. 0. 0. 0. 0. 0. 0. 0. 0. 0. 0. 0. 0. 0. 0. 0. 0. 0.\n",
      " 0. 0. 0. 0. 0. 0. 0. 0. 0. 0. 0. 0. 0. 0. 0. 0. 0. 0. 0. 0. 0. 0. 0. 0.\n",
      " 0. 0. 0. 0. 0. 0. 0. 0. 0. 0. 0. 0. 0. 0. 0. 0. 0. 0. 0. 0. 0. 0. 0. 0.\n",
      " 0. 0. 0. 0. 0. 0. 0. 0. 0. 0. 0. 0. 0. 0. 0. 0. 0. 0. 0. 0. 0. 0. 0. 0.\n",
      " 0. 0. 0. 0. 0. 0. 0. 0. 0. 0. 0. 0. 0. 0. 0. 0. 0. 0. 0. 0. 0. 0. 0. 0.\n",
      " 0. 0. 0. 0. 0. 0. 0. 0. 0. 0. 0. 0. 0. 0. 0. 0. 0. 0. 0. 0. 0. 0. 0. 0.\n",
      " 0. 0. 0. 0. 0. 0. 0. 0. 0. 0. 0. 0. 0. 0. 0. 0. 0. 0. 0. 0. 0. 0. 0. 0.]\n",
      "00:01:49\n",
      "TRIGGERED: application has been invoked\n",
      "OLD app_id: 85479ef37b5dc75dd5aeca3bab499129b97a134dac5d740d2c68941de9d63031 \n",
      "IDLE TIME (IT) for application: 85479ef37b5dc75dd5aeca3bab499129b97a134dac5d740d2c68941de9d63031 is: 0.0 mins\n",
      "appplication IT data is: [0.0, 0.0, 0.0, 0.0, 0.0, 0.0, 0.0, 1.0, 0.0]\n",
      "calculating CV =  0.270554393305439\n",
      "Histogram is representative\n"
     ]
    },
    {
     "data": {
      "image/png": "[encoded data removed]",
      "text/plain": [
       "<Figure size 432x288 with 1 Axes>"
      ]
     },
     "metadata": {
      "needs_background": "light"
     },
     "output_type": "display_data"
    },
    {
     "name": "stdout",
     "output_type": "stream",
     "text": [
      "[8. 1. 0. 0. 0. 0. 0. 0. 0. 0. 0. 0. 0. 0. 0. 0. 0. 0. 0. 0. 0. 0. 0. 0.\n",
      " 0. 0. 0. 0. 0. 0. 0. 0. 0. 0. 0. 0. 0. 0. 0. 0. 0. 0. 0. 0. 0. 0. 0. 0.\n",
      " 0. 0. 0. 0. 0. 0. 0. 0. 0. 0. 0. 0. 0. 0. 0. 0. 0. 0. 0. 0. 0. 0. 0. 0.\n",
      " 0. 0. 0. 0. 0. 0. 0. 0. 0. 0. 0. 0. 0. 0. 0. 0. 0. 0. 0. 0. 0. 0. 0. 0.\n",
      " 0. 0. 0. 0. 0. 0. 0. 0. 0. 0. 0. 0. 0. 0. 0. 0. 0. 0. 0. 0. 0. 0. 0. 0.\n",
      " 0. 0. 0. 0. 0. 0. 0. 0. 0. 0. 0. 0. 0. 0. 0. 0. 0. 0. 0. 0. 0. 0. 0. 0.\n",
      " 0. 0. 0. 0. 0. 0. 0. 0. 0. 0. 0. 0. 0. 0. 0. 0. 0. 0. 0. 0. 0. 0. 0. 0.\n",
      " 0. 0. 0. 0. 0. 0. 0. 0. 0. 0. 0. 0. 0. 0. 0. 0. 0. 0. 0. 0. 0. 0. 0. 0.\n",
      " 0. 0. 0. 0. 0. 0. 0. 0. 0. 0. 0. 0. 0. 0. 0. 0. 0. 0. 0. 0. 0. 0. 0. 0.\n",
      " 0. 0. 0. 0. 0. 0. 0. 0. 0. 0. 0. 0. 0. 0. 0. 0. 0. 0. 0. 0. 0. 0. 0. 0.]\n",
      "TRIGGERED: application has been invoked\n",
      "OLD app_id: 17c37a0fdd5d1932b755c0e6447137bc08fd524f455e14fdac414f584de08dc5 \n",
      "IDLE TIME (IT) for application: 17c37a0fdd5d1932b755c0e6447137bc08fd524f455e14fdac414f584de08dc5 is: 1.0 mins\n",
      "appplication IT data is: [1.0]\n",
      "calculating CV =  0.004166666666666665\n",
      "Histogram is not representative\n",
      "keep alive time is: 10 mins\n",
      "keep alive till time: 723.764362\n",
      "WARM START\n",
      "keep alive list: [(601.633981, 'f274d71de386ccc77e4ca74766dbc485461c3053059d47266463c45ec92001b3'), (602.134637, '7b2c43a2bc30f6bb438074df88b603d2cb982d3e7961de05270735055950a568'), (602.743405, 'f7bfe5bc8d2a37a5c15986fbfc2c477a746e866adcb9663f9df7535b61c3eb9b'), (605.629778, '85479ef37b5dc75dd5aeca3bab499129b97a134dac5d740d2c68941de9d63031'), (609.484851, '938e7f49544b3293cd6cc7ec3e63e1751085cf5cb6a004dcc9e94543934f607b'), (611.105671, '18ed3ca44bd1f7d411f1d047ed8cf38853fb184196afa59e91e68e5d06fda834'), (612.811717, '734272c01926d19690e5ec308bab64ef97950b75b1c7582283e0783fce1751d8'), (657.192034, '1573b95c039e51cc012b543a4af3bc7c3ee9485acbb0033ba5648b74969e0556'), (717.187144, '7fa05b607ae861b85ec53cea12d3efaed8be0f9a92f5d6e8067244161d491e96'), (723.764362, '17c37a0fdd5d1932b755c0e6447137bc08fd524f455e14fdac414f584de08dc5')]\n",
      "00:01:50\n",
      "00:01:51\n",
      "TRIGGERED: application has been invoked\n",
      "OLD app_id: 1573b95c039e51cc012b543a4af3bc7c3ee9485acbb0033ba5648b74969e0556 \n",
      "IDLE TIME (IT) for application: 1573b95c039e51cc012b543a4af3bc7c3ee9485acbb0033ba5648b74969e0556 is: 0.0 mins\n",
      "appplication IT data is: [0.0, 0.0, 0.0, 0.0, 0.0, 0.0, 0.0, 0.0, 0.0]\n",
      "calculating CV =  0.3375\n",
      "Histogram is representative\n"
     ]
    },
    {
     "data": {
      "image/png": "[encoded data removed]",
      "text/plain": [
       "<Figure size 432x288 with 1 Axes>"
      ]
     },
     "metadata": {
      "needs_background": "light"
     },
     "output_type": "display_data"
    },
    {
     "name": "stdout",
     "output_type": "stream",
     "text": [
      "[9. 0. 0. 0. 0. 0. 0. 0. 0. 0. 0. 0. 0. 0. 0. 0. 0. 0. 0. 0. 0. 0. 0. 0.\n",
      " 0. 0. 0. 0. 0. 0. 0. 0. 0. 0. 0. 0. 0. 0. 0. 0. 0. 0. 0. 0. 0. 0. 0. 0.\n",
      " 0. 0. 0. 0. 0. 0. 0. 0. 0. 0. 0. 0. 0. 0. 0. 0. 0. 0. 0. 0. 0. 0. 0. 0.\n",
      " 0. 0. 0. 0. 0. 0. 0. 0. 0. 0. 0. 0. 0. 0. 0. 0. 0. 0. 0. 0. 0. 0. 0. 0.\n",
      " 0. 0. 0. 0. 0. 0. 0. 0. 0. 0. 0. 0. 0. 0. 0. 0. 0. 0. 0. 0. 0. 0. 0. 0.\n",
      " 0. 0. 0. 0. 0. 0. 0. 0. 0. 0. 0. 0. 0. 0. 0. 0. 0. 0. 0. 0. 0. 0. 0. 0.\n",
      " 0. 0. 0. 0. 0. 0. 0. 0. 0. 0. 0. 0. 0. 0. 0. 0. 0. 0. 0. 0. 0. 0. 0. 0.\n",
      " 0. 0. 0. 0. 0. 0. 0. 0. 0. 0. 0. 0. 0. 0. 0. 0. 0. 0. 0. 0. 0. 0. 0. 0.\n",
      " 0. 0. 0. 0. 0. 0. 0. 0. 0. 0. 0. 0. 0. 0. 0. 0. 0. 0. 0. 0. 0. 0. 0. 0.\n",
      " 0. 0. 0. 0. 0. 0. 0. 0. 0. 0. 0. 0. 0. 0. 0. 0. 0. 0. 0. 0. 0. 0. 0. 0.]\n",
      "00:01:52\n",
      "00:01:53\n",
      "00:01:54\n",
      "00:01:55\n",
      "00:01:56\n",
      "00:01:57\n",
      "00:01:58\n",
      "00:01:59\n",
      "00:02:00\n",
      "00:02:01\n",
      "00:02:02\n",
      "00:02:03\n",
      "00:02:04\n",
      "00:02:05\n",
      "00:02:06\n",
      "00:02:07\n",
      "00:02:08\n",
      "00:02:09\n",
      "00:02:10\n",
      "00:02:11\n",
      "00:02:12\n",
      "00:02:13\n",
      "00:02:14\n",
      "00:02:15\n",
      "00:02:16\n",
      "00:02:17\n",
      "00:02:18\n",
      "00:02:19\n",
      "00:02:20\n",
      "00:02:21\n",
      "TRIGGERED: application has been invoked\n",
      "OLD app_id: 7fa05b607ae861b85ec53cea12d3efaed8be0f9a92f5d6e8067244161d491e96 \n",
      "IDLE TIME (IT) for application: 7fa05b607ae861b85ec53cea12d3efaed8be0f9a92f5d6e8067244161d491e96 is: 0.0 mins\n",
      "appplication IT data is: [0.0, 0.0, 0.0]\n",
      "calculating CV =  0.0375\n",
      "Histogram is not representative\n",
      "keep alive time is: 10 mins\n",
      "keep alive till time: 756.476498\n",
      "WARM START\n",
      "keep alive list: [(601.633981, 'f274d71de386ccc77e4ca74766dbc485461c3053059d47266463c45ec92001b3'), (602.134637, '7b2c43a2bc30f6bb438074df88b603d2cb982d3e7961de05270735055950a568'), (602.743405, 'f7bfe5bc8d2a37a5c15986fbfc2c477a746e866adcb9663f9df7535b61c3eb9b'), (605.629778, '85479ef37b5dc75dd5aeca3bab499129b97a134dac5d740d2c68941de9d63031'), (609.484851, '938e7f49544b3293cd6cc7ec3e63e1751085cf5cb6a004dcc9e94543934f607b'), (611.105671, '18ed3ca44bd1f7d411f1d047ed8cf38853fb184196afa59e91e68e5d06fda834'), (612.811717, '734272c01926d19690e5ec308bab64ef97950b75b1c7582283e0783fce1751d8'), (657.192034, '1573b95c039e51cc012b543a4af3bc7c3ee9485acbb0033ba5648b74969e0556'), (723.764362, '17c37a0fdd5d1932b755c0e6447137bc08fd524f455e14fdac414f584de08dc5'), (756.476498, '7fa05b607ae861b85ec53cea12d3efaed8be0f9a92f5d6e8067244161d491e96')]\n",
      "00:02:22\n",
      "00:02:23\n",
      "00:02:24\n",
      "00:02:25\n",
      "00:02:26\n",
      "00:02:27\n",
      "00:02:28\n",
      "00:02:29\n",
      "00:02:30\n",
      "00:02:31\n",
      "00:02:32\n",
      "00:02:33\n",
      "00:02:34\n",
      "00:02:35\n",
      "00:02:36\n",
      "00:02:37\n",
      "00:02:38\n",
      "00:02:39\n",
      "00:02:40\n",
      "00:02:41\n",
      "00:02:42\n",
      "00:02:43\n",
      "TRIGGERED: application has been invoked\n",
      "NEW app_id: db6be4a997f386b37c6246aaeecf81ab81562db84cf4c0d44907d9df2d0ab9fc\n",
      "COLD START BECAUSE OF NEW APPLICATION\n",
      "keep alive time is: 10 mins\n",
      "keep alive till time: 779.606975\n",
      "COLD START\n",
      "keep alive list: [(601.633981, 'f274d71de386ccc77e4ca74766dbc485461c3053059d47266463c45ec92001b3'), (602.134637, '7b2c43a2bc30f6bb438074df88b603d2cb982d3e7961de05270735055950a568'), (602.743405, 'f7bfe5bc8d2a37a5c15986fbfc2c477a746e866adcb9663f9df7535b61c3eb9b'), (605.629778, '85479ef37b5dc75dd5aeca3bab499129b97a134dac5d740d2c68941de9d63031'), (609.484851, '938e7f49544b3293cd6cc7ec3e63e1751085cf5cb6a004dcc9e94543934f607b'), (611.105671, '18ed3ca44bd1f7d411f1d047ed8cf38853fb184196afa59e91e68e5d06fda834'), (612.811717, '734272c01926d19690e5ec308bab64ef97950b75b1c7582283e0783fce1751d8'), (657.192034, '1573b95c039e51cc012b543a4af3bc7c3ee9485acbb0033ba5648b74969e0556'), (723.764362, '17c37a0fdd5d1932b755c0e6447137bc08fd524f455e14fdac414f584de08dc5'), (756.476498, '7fa05b607ae861b85ec53cea12d3efaed8be0f9a92f5d6e8067244161d491e96'), (779.606975, 'db6be4a997f386b37c6246aaeecf81ab81562db84cf4c0d44907d9df2d0ab9fc')]\n",
      "00:02:44\n",
      "TRIGGERED: application has been invoked\n",
      "OLD app_id: 734272c01926d19690e5ec308bab64ef97950b75b1c7582283e0783fce1751d8 \n",
      "IDLE TIME (IT) for application: 734272c01926d19690e5ec308bab64ef97950b75b1c7582283e0783fce1751d8 is: 0.0 mins\n",
      "appplication IT data is: [0.0, 0.0, 0.0, 0.0, 0.0, 0.0, 0.0, 0.0, 0.0, 0.0, 0.0, 0.0, 0.0, 0.0, 0.0, 0.0, 0.0, 0.0, 0.0, 0.0, 0.0, 1.0, 0.0]\n",
      "calculating CV =  2.0200662482566245\n",
      "Histogram is representative\n"
     ]
    },
    {
     "data": {
      "image/png": "[encoded data removed]",
      "text/plain": [
       "<Figure size 432x288 with 1 Axes>"
      ]
     },
     "metadata": {
      "needs_background": "light"
     },
     "output_type": "display_data"
    },
    {
     "name": "stdout",
     "output_type": "stream",
     "text": [
      "[22.  1.  0.  0.  0.  0.  0.  0.  0.  0.  0.  0.  0.  0.  0.  0.  0.  0.\n",
      "  0.  0.  0.  0.  0.  0.  0.  0.  0.  0.  0.  0.  0.  0.  0.  0.  0.  0.\n",
      "  0.  0.  0.  0.  0.  0.  0.  0.  0.  0.  0.  0.  0.  0.  0.  0.  0.  0.\n",
      "  0.  0.  0.  0.  0.  0.  0.  0.  0.  0.  0.  0.  0.  0.  0.  0.  0.  0.\n",
      "  0.  0.  0.  0.  0.  0.  0.  0.  0.  0.  0.  0.  0.  0.  0.  0.  0.  0.\n",
      "  0.  0.  0.  0.  0.  0.  0.  0.  0.  0.  0.  0.  0.  0.  0.  0.  0.  0.\n",
      "  0.  0.  0.  0.  0.  0.  0.  0.  0.  0.  0.  0.  0.  0.  0.  0.  0.  0.\n",
      "  0.  0.  0.  0.  0.  0.  0.  0.  0.  0.  0.  0.  0.  0.  0.  0.  0.  0.\n",
      "  0.  0.  0.  0.  0.  0.  0.  0.  0.  0.  0.  0.  0.  0.  0.  0.  0.  0.\n",
      "  0.  0.  0.  0.  0.  0.  0.  0.  0.  0.  0.  0.  0.  0.  0.  0.  0.  0.\n",
      "  0.  0.  0.  0.  0.  0.  0.  0.  0.  0.  0.  0.  0.  0.  0.  0.  0.  0.\n",
      "  0.  0.  0.  0.  0.  0.  0.  0.  0.  0.  0.  0.  0.  0.  0.  0.  0.  0.\n",
      "  0.  0.  0.  0.  0.  0.  0.  0.  0.  0.  0.  0.  0.  0.  0.  0.  0.  0.\n",
      "  0.  0.  0.  0.  0.  0.]\n",
      "TRIGGERED: application has been invoked\n",
      "OLD app_id: 85479ef37b5dc75dd5aeca3bab499129b97a134dac5d740d2c68941de9d63031 \n",
      "IDLE TIME (IT) for application: 85479ef37b5dc75dd5aeca3bab499129b97a134dac5d740d2c68941de9d63031 is: 0.0 mins\n",
      "appplication IT data is: [0.0, 0.0, 0.0, 0.0, 0.0, 0.0, 0.0, 1.0, 0.0, 0.0]\n",
      "calculating CV =  0.34135285913528574\n",
      "Histogram is representative\n"
     ]
    },
    {
     "data": {
      "image/png": "[encoded data removed]",
      "text/plain": [
       "<Figure size 432x288 with 1 Axes>"
      ]
     },
     "metadata": {
      "needs_background": "light"
     },
     "output_type": "display_data"
    },
    {
     "name": "stdout",
     "output_type": "stream",
     "text": [
      "[9. 1. 0. 0. 0. 0. 0. 0. 0. 0. 0. 0. 0. 0. 0. 0. 0. 0. 0. 0. 0. 0. 0. 0.\n",
      " 0. 0. 0. 0. 0. 0. 0. 0. 0. 0. 0. 0. 0. 0. 0. 0. 0. 0. 0. 0. 0. 0. 0. 0.\n",
      " 0. 0. 0. 0. 0. 0. 0. 0. 0. 0. 0. 0. 0. 0. 0. 0. 0. 0. 0. 0. 0. 0. 0. 0.\n",
      " 0. 0. 0. 0. 0. 0. 0. 0. 0. 0. 0. 0. 0. 0. 0. 0. 0. 0. 0. 0. 0. 0. 0. 0.\n",
      " 0. 0. 0. 0. 0. 0. 0. 0. 0. 0. 0. 0. 0. 0. 0. 0. 0. 0. 0. 0. 0. 0. 0. 0.\n",
      " 0. 0. 0. 0. 0. 0. 0. 0. 0. 0. 0. 0. 0. 0. 0. 0. 0. 0. 0. 0. 0. 0. 0. 0.\n",
      " 0. 0. 0. 0. 0. 0. 0. 0. 0. 0. 0. 0. 0. 0. 0. 0. 0. 0. 0. 0. 0. 0. 0. 0.\n",
      " 0. 0. 0. 0. 0. 0. 0. 0. 0. 0. 0. 0. 0. 0. 0. 0. 0. 0. 0. 0. 0. 0. 0. 0.\n",
      " 0. 0. 0. 0. 0. 0. 0. 0. 0. 0. 0. 0. 0. 0. 0. 0. 0. 0. 0. 0. 0. 0. 0. 0.\n",
      " 0. 0. 0. 0. 0. 0. 0. 0. 0. 0. 0. 0. 0. 0. 0. 0. 0. 0. 0. 0. 0. 0. 0. 0.]\n",
      "00:02:45\n",
      "TRIGGERED: application has been invoked\n",
      "OLD app_id: 85479ef37b5dc75dd5aeca3bab499129b97a134dac5d740d2c68941de9d63031 \n",
      "IDLE TIME (IT) for application: 85479ef37b5dc75dd5aeca3bab499129b97a134dac5d740d2c68941de9d63031 is: 0.0 mins\n",
      "appplication IT data is: [0.0, 0.0, 0.0, 0.0, 0.0, 0.0, 0.0, 1.0, 0.0, 0.0, 0.0]\n",
      "calculating CV =  0.420484658298466\n",
      "Histogram is representative\n"
     ]
    },
    {
     "data": {
      "image/png": "[encoded data removed]",
      "text/plain": [
       "<Figure size 432x288 with 1 Axes>"
      ]
     },
     "metadata": {
      "needs_background": "light"
     },
     "output_type": "display_data"
    },
    {
     "name": "stdout",
     "output_type": "stream",
     "text": [
      "[10.  1.  0.  0.  0.  0.  0.  0.  0.  0.  0.  0.  0.  0.  0.  0.  0.  0.\n",
      "  0.  0.  0.  0.  0.  0.  0.  0.  0.  0.  0.  0.  0.  0.  0.  0.  0.  0.\n",
      "  0.  0.  0.  0.  0.  0.  0.  0.  0.  0.  0.  0.  0.  0.  0.  0.  0.  0.\n",
      "  0.  0.  0.  0.  0.  0.  0.  0.  0.  0.  0.  0.  0.  0.  0.  0.  0.  0.\n",
      "  0.  0.  0.  0.  0.  0.  0.  0.  0.  0.  0.  0.  0.  0.  0.  0.  0.  0.\n",
      "  0.  0.  0.  0.  0.  0.  0.  0.  0.  0.  0.  0.  0.  0.  0.  0.  0.  0.\n",
      "  0.  0.  0.  0.  0.  0.  0.  0.  0.  0.  0.  0.  0.  0.  0.  0.  0.  0.\n",
      "  0.  0.  0.  0.  0.  0.  0.  0.  0.  0.  0.  0.  0.  0.  0.  0.  0.  0.\n",
      "  0.  0.  0.  0.  0.  0.  0.  0.  0.  0.  0.  0.  0.  0.  0.  0.  0.  0.\n",
      "  0.  0.  0.  0.  0.  0.  0.  0.  0.  0.  0.  0.  0.  0.  0.  0.  0.  0.\n",
      "  0.  0.  0.  0.  0.  0.  0.  0.  0.  0.  0.  0.  0.  0.  0.  0.  0.  0.\n",
      "  0.  0.  0.  0.  0.  0.  0.  0.  0.  0.  0.  0.  0.  0.  0.  0.  0.  0.\n",
      "  0.  0.  0.  0.  0.  0.  0.  0.  0.  0.  0.  0.  0.  0.  0.  0.  0.  0.\n",
      "  0.  0.  0.  0.  0.  0.]\n",
      "TRIGGERED: application has been invoked\n",
      "OLD app_id: f7bfe5bc8d2a37a5c15986fbfc2c477a746e866adcb9663f9df7535b61c3eb9b \n",
      "IDLE TIME (IT) for application: f7bfe5bc8d2a37a5c15986fbfc2c477a746e866adcb9663f9df7535b61c3eb9b is: 2.0 mins\n",
      "appplication IT data is: [2.0]\n",
      "calculating CV =  0.004166666666666665\n",
      "Histogram is not representative\n",
      "keep alive time is: 10 mins\n",
      "keep alive till time: 782.673879\n",
      "WARM START\n",
      "keep alive list: [(601.633981, 'f274d71de386ccc77e4ca74766dbc485461c3053059d47266463c45ec92001b3'), (602.134637, '7b2c43a2bc30f6bb438074df88b603d2cb982d3e7961de05270735055950a568'), (605.629778, '85479ef37b5dc75dd5aeca3bab499129b97a134dac5d740d2c68941de9d63031'), (609.484851, '938e7f49544b3293cd6cc7ec3e63e1751085cf5cb6a004dcc9e94543934f607b'), (611.105671, '18ed3ca44bd1f7d411f1d047ed8cf38853fb184196afa59e91e68e5d06fda834'), (612.811717, '734272c01926d19690e5ec308bab64ef97950b75b1c7582283e0783fce1751d8'), (657.192034, '1573b95c039e51cc012b543a4af3bc7c3ee9485acbb0033ba5648b74969e0556'), (723.764362, '17c37a0fdd5d1932b755c0e6447137bc08fd524f455e14fdac414f584de08dc5'), (756.476498, '7fa05b607ae861b85ec53cea12d3efaed8be0f9a92f5d6e8067244161d491e96'), (779.606975, 'db6be4a997f386b37c6246aaeecf81ab81562db84cf4c0d44907d9df2d0ab9fc'), (782.673879, 'f7bfe5bc8d2a37a5c15986fbfc2c477a746e866adcb9663f9df7535b61c3eb9b')]\n",
      "00:02:46\n",
      "00:02:47\n",
      "00:02:48\n",
      "00:02:49\n",
      "00:02:50\n",
      "TRIGGERED: application has been invoked\n",
      "OLD app_id: 7fa05b607ae861b85ec53cea12d3efaed8be0f9a92f5d6e8067244161d491e96 \n",
      "IDLE TIME (IT) for application: 7fa05b607ae861b85ec53cea12d3efaed8be0f9a92f5d6e8067244161d491e96 is: 0.0 mins\n",
      "appplication IT data is: [0.0, 0.0, 0.0, 0.0]\n",
      "calculating CV =  0.06666666666666664\n",
      "Histogram is not representative\n",
      "keep alive time is: 10 mins\n",
      "keep alive till time: 787.387477\n",
      "WARM START\n",
      "keep alive list: [(601.633981, 'f274d71de386ccc77e4ca74766dbc485461c3053059d47266463c45ec92001b3'), (602.134637, '7b2c43a2bc30f6bb438074df88b603d2cb982d3e7961de05270735055950a568'), (605.629778, '85479ef37b5dc75dd5aeca3bab499129b97a134dac5d740d2c68941de9d63031'), (609.484851, '938e7f49544b3293cd6cc7ec3e63e1751085cf5cb6a004dcc9e94543934f607b'), (611.105671, '18ed3ca44bd1f7d411f1d047ed8cf38853fb184196afa59e91e68e5d06fda834'), (612.811717, '734272c01926d19690e5ec308bab64ef97950b75b1c7582283e0783fce1751d8'), (657.192034, '1573b95c039e51cc012b543a4af3bc7c3ee9485acbb0033ba5648b74969e0556'), (723.764362, '17c37a0fdd5d1932b755c0e6447137bc08fd524f455e14fdac414f584de08dc5'), (779.606975, 'db6be4a997f386b37c6246aaeecf81ab81562db84cf4c0d44907d9df2d0ab9fc'), (782.673879, 'f7bfe5bc8d2a37a5c15986fbfc2c477a746e866adcb9663f9df7535b61c3eb9b'), (787.387477, '7fa05b607ae861b85ec53cea12d3efaed8be0f9a92f5d6e8067244161d491e96')]\n",
      "00:02:51\n",
      "00:02:52\n",
      "00:02:53\n",
      "00:02:54\n",
      "00:02:55\n",
      "00:02:56\n",
      "00:02:57\n",
      "00:02:58\n",
      "00:02:59\n",
      "00:03:00\n",
      "00:03:01\n",
      "00:03:02\n",
      "00:03:03\n",
      "00:03:04\n",
      "00:03:05\n",
      "00:03:06\n",
      "00:03:07\n",
      "00:03:08\n",
      "00:03:09\n",
      "00:03:10\n",
      "00:03:11\n",
      "00:03:12\n",
      "00:03:13\n",
      "00:03:14\n",
      "00:03:15\n",
      "00:03:16\n",
      "00:03:17\n",
      "00:03:18\n",
      "00:03:19\n",
      "00:03:20\n",
      "00:03:21\n",
      "00:03:22\n",
      "00:03:23\n",
      "00:03:24\n",
      "00:03:25\n",
      "00:03:26\n",
      "00:03:27\n",
      "00:03:28\n",
      "TRIGGERED: application has been invoked\n",
      "OLD app_id: 7fa05b607ae861b85ec53cea12d3efaed8be0f9a92f5d6e8067244161d491e96 \n",
      "IDLE TIME (IT) for application: 7fa05b607ae861b85ec53cea12d3efaed8be0f9a92f5d6e8067244161d491e96 is: 0.0 mins\n",
      "appplication IT data is: [0.0, 0.0, 0.0, 0.0, 0.0]\n",
      "calculating CV =  0.1041666666666666\n",
      "Histogram is representative\n"
     ]
    },
    {
     "data": {
      "image/png": "[encoded data removed]",
      "text/plain": [
       "<Figure size 432x288 with 1 Axes>"
      ]
     },
     "metadata": {
      "needs_background": "light"
     },
     "output_type": "display_data"
    },
    {
     "name": "stdout",
     "output_type": "stream",
     "text": [
      "[5. 0. 0. 0. 0. 0. 0. 0. 0. 0. 0. 0. 0. 0. 0. 0. 0. 0. 0. 0. 0. 0. 0. 0.\n",
      " 0. 0. 0. 0. 0. 0. 0. 0. 0. 0. 0. 0. 0. 0. 0. 0. 0. 0. 0. 0. 0. 0. 0. 0.\n",
      " 0. 0. 0. 0. 0. 0. 0. 0. 0. 0. 0. 0. 0. 0. 0. 0. 0. 0. 0. 0. 0. 0. 0. 0.\n",
      " 0. 0. 0. 0. 0. 0. 0. 0. 0. 0. 0. 0. 0. 0. 0. 0. 0. 0. 0. 0. 0. 0. 0. 0.\n",
      " 0. 0. 0. 0. 0. 0. 0. 0. 0. 0. 0. 0. 0. 0. 0. 0. 0. 0. 0. 0. 0. 0. 0. 0.\n",
      " 0. 0. 0. 0. 0. 0. 0. 0. 0. 0. 0. 0. 0. 0. 0. 0. 0. 0. 0. 0. 0. 0. 0. 0.\n",
      " 0. 0. 0. 0. 0. 0. 0. 0. 0. 0. 0. 0. 0. 0. 0. 0. 0. 0. 0. 0. 0. 0. 0. 0.\n",
      " 0. 0. 0. 0. 0. 0. 0. 0. 0. 0. 0. 0. 0. 0. 0. 0. 0. 0. 0. 0. 0. 0. 0. 0.\n",
      " 0. 0. 0. 0. 0. 0. 0. 0. 0. 0. 0. 0. 0. 0. 0. 0. 0. 0. 0. 0. 0. 0. 0. 0.\n",
      " 0. 0. 0. 0. 0. 0. 0. 0. 0. 0. 0. 0. 0. 0. 0. 0. 0. 0. 0. 0. 0. 0. 0. 0.]\n",
      "00:03:29\n",
      "00:03:30\n",
      "00:03:31\n",
      "00:03:32\n",
      "00:03:33\n",
      "00:03:34\n",
      "00:03:35\n",
      "00:03:36\n",
      "00:03:37\n"
     ]
    },
    {
     "ename": "KeyboardInterrupt",
     "evalue": "",
     "output_type": "error",
     "traceback": [
      "\u001b[1;31m---------------------------------------------------------------------------\u001b[0m",
      "\u001b[1;31mKeyboardInterrupt\u001b[0m                         Traceback (most recent call last)",
      "\u001b[1;32mC:\\Users\\ZHIHAO~1\\AppData\\Local\\Temp/ipykernel_7356/3493799142.py\u001b[0m in \u001b[0;36m<module>\u001b[1;34m\u001b[0m\n\u001b[0;32m     74\u001b[0m     \u001b[1;32mif\u001b[0m \u001b[1;33m(\u001b[0m\u001b[0mlen\u001b[0m\u001b[1;33m(\u001b[0m\u001b[0mincoming_invocations\u001b[0m\u001b[1;33m)\u001b[0m \u001b[1;33m==\u001b[0m \u001b[1;36m0\u001b[0m\u001b[1;33m)\u001b[0m \u001b[1;32mand\u001b[0m \u001b[1;33m(\u001b[0m\u001b[0mlen\u001b[0m\u001b[1;33m(\u001b[0m\u001b[0mkeep_alive_list\u001b[0m\u001b[1;33m)\u001b[0m \u001b[1;33m==\u001b[0m \u001b[1;36m0\u001b[0m\u001b[1;33m)\u001b[0m\u001b[1;33m:\u001b[0m\u001b[1;33m\u001b[0m\u001b[1;33m\u001b[0m\u001b[0m\n\u001b[0;32m     75\u001b[0m         \u001b[1;32mbreak\u001b[0m\u001b[1;33m\u001b[0m\u001b[1;33m\u001b[0m\u001b[0m\n\u001b[1;32m---> 76\u001b[1;33m     \u001b[0mtime\u001b[0m\u001b[1;33m.\u001b[0m\u001b[0msleep\u001b[0m\u001b[1;33m(\u001b[0m\u001b[1;36m0.5\u001b[0m\u001b[1;33m)\u001b[0m\u001b[1;33m\u001b[0m\u001b[1;33m\u001b[0m\u001b[0m\n\u001b[0m\u001b[0;32m     77\u001b[0m \u001b[1;33m\u001b[0m\u001b[0m\n\u001b[0;32m     78\u001b[0m \u001b[0mprint\u001b[0m\u001b[1;33m(\u001b[0m\u001b[1;34m\"==end of run==\"\u001b[0m\u001b[1;33m)\u001b[0m\u001b[1;33m\u001b[0m\u001b[1;33m\u001b[0m\u001b[0m\n",
      "\u001b[1;31mKeyboardInterrupt\u001b[0m: "
     ]
    }
   ],
   "source": [
    "import datetime as dt\n",
    "import time\n",
    "\n",
    "start_time = dt.datetime.now()\n",
    "timer = dt.datetime(2021,1,31,0,0,0) # used to output incremental timestamp\n",
    "timer_temp = dt.datetime.now() # used to check for every second\n",
    "result = open(\"result.txt\",\"w\") # output logs into a txt file as data is large\n",
    "stop_time_seconds = 28800 # how long should the program run\n",
    "\n",
    "count_warm = 0\n",
    "count_cold = 0\n",
    "count_oob = 0\n",
    "count_oob_default = 0\n",
    "count_oob_prediction = 0\n",
    "\n",
    "\n",
    "while True:\n",
    "    # accumulating seconds to track to check for incoming functions as well as calculating time to live (TTL)\n",
    "    difference_timer = dt.datetime.now()-start_time \n",
    "    \n",
    "    #non-incremental timer to check if 1sec has lapsed\n",
    "    delta_timer = dt.datetime.now()-timer_temp\n",
    "    \n",
    "    #print out every second incrementally\n",
    "    if delta_timer.seconds >= 1:\n",
    "        timer = timer + dt.timedelta(0,1)\n",
    "        print(timer.time())\n",
    "        result.write(\"{}\\n\".format(timer.time()))\n",
    "        timer_temp = dt.datetime.now()\n",
    "    \n",
    "    #if still have functions pending invocation\n",
    "    if len(incoming_invocations) != 0:\n",
    "        #while(True):\n",
    "        # since the start_time column is sorted, the first index is always the first to be invoked\n",
    "        incoming_application_time = dt.timedelta(seconds=incoming_invocations[0][1])\n",
    "        if(difference_timer >= incoming_application_time):\n",
    "        \n",
    "            print(\"TRIGGERED: application has been invoked\")\n",
    "            result.write(\"TRIGGERED: application has been invoked \\n\")\n",
    "            # here the return is the histogram output, 10 if OOB, -1 if new function\n",
    "            keep_alive_time = function_invoked(incoming_invocations[0][0])\n",
    "            # here we ignore -1 as a new function does not have any frequency\n",
    "            # we calculate the TTL end time with current simulation time (difference_timer) + returned minute bin\n",
    "            if(keep_alive_time>0):\n",
    "                print(\"keep alive time is: {} mins\".format(keep_alive_time))\n",
    "                result.write(\"keep alive time is: {} mins \\n\".format(keep_alive_time))\n",
    "                alive_timer = difference_timer + dt.timedelta(minutes = keep_alive_time)\n",
    "                print(\"keep alive till time: {}\".format(alive_timer.total_seconds()))\n",
    "                #hq.heappush(keep_alive_list,(alive_timer.total_seconds(),incoming_invocations[0][0]))\n",
    "                update_heap_element(keep_alive_list, alive_timer.total_seconds(), incoming_invocations[0][0])\n",
    "                print(\"keep alive list: {}\".format(keep_alive_list))\n",
    "                result.write(\"keep alive list: {} \\n\".format(keep_alive_list))\n",
    "            del incoming_invocations[0]\n",
    "            \n",
    "    \n",
    "    # as long as there is still applications in the TTL list, we will keep checking\n",
    "    if len(keep_alive_list) != 0:\n",
    "        # since the TTL list is a heap queue, the first position is always the earliest terminated one\n",
    "        # so we check if first element is pending expiry, then remove from heap queue\n",
    "        check_expiry = keep_alive_list[0][0]\n",
    "        # check if current simulation time has caught up with the application's TTL timing\n",
    "        if difference_timer.total_seconds() >= check_expiry:\n",
    "            print(\"{} container has expired\".format(keep_alive_list[0][1]))\n",
    "            result.write(\"{} container has expired \\n\".format(keep_alive_list[0][1]))\n",
    "            hq.heappop(keep_alive_list)\n",
    "            print(keep_alive_list)\n",
    "            result.write(\"keep alive list: {} \\n\".format(keep_alive_list))\n",
    "        #else:\n",
    "            #print(\"{} container has NOT expired yet\".format(keep_alive_list[0][1]))\n",
    "\n",
    "    #terminate program if exceeded input time\n",
    "    if (dt.datetime.now() - start_time).seconds >= stop_time_seconds:\n",
    "        break\n",
    "    if (len(incoming_invocations) == 0) and (len(keep_alive_list) == 0):\n",
    "        break\n",
    "    time.sleep(0.5)\n",
    "        \n",
    "print(\"==end of run==\")\n",
    "result.write(\"==end of run==\\n\")\n",
    "result.close()"
   ]
  },
  {
   "cell_type": "code",
   "execution_count": null,
   "id": "e58b0412",
   "metadata": {},
   "outputs": [],
   "source": [
    "for key,value in may28_3hr_dict.items():\n",
    "    print(key)"
   ]
  },
  {
   "cell_type": "code",
   "execution_count": 17,
   "id": "12de92bc",
   "metadata": {},
   "outputs": [
    {
     "data": {
      "text/plain": [
       "{'app1': [datetime.datetime(2023, 6, 17, 15, 51, 9, 883144), 0.0, 0.0, 0.0]}"
      ]
     },
     "execution_count": 17,
     "metadata": {},
     "output_type": "execute_result"
    }
   ],
   "source": [
    "applicationDict"
   ]
  },
  {
   "cell_type": "code",
   "execution_count": 44,
   "id": "c29f06ab",
   "metadata": {},
   "outputs": [
    {
     "data": {
      "text/plain": [
       "[0.0,\n",
       " 0.0,\n",
       " 0.0,\n",
       " 9.0,\n",
       " 0.0,\n",
       " 0.0,\n",
       " 0.0,\n",
       " 0.0,\n",
       " 0.0,\n",
       " 0.0,\n",
       " 0.0,\n",
       " 0.0,\n",
       " 0.0,\n",
       " 0.0,\n",
       " 0.0,\n",
       " 0.0,\n",
       " 0.0,\n",
       " 0.0,\n",
       " 0.0,\n",
       " 64.0,\n",
       " 1.0,\n",
       " 0.0,\n",
       " 0.0,\n",
       " 0.0,\n",
       " 3.0,\n",
       " 0.0,\n",
       " 0.0,\n",
       " 0.0,\n",
       " 3.0,\n",
       " 0.0,\n",
       " 0.0,\n",
       " 0.0]"
      ]
     },
     "execution_count": 44,
     "metadata": {},
     "output_type": "execute_result"
    }
   ],
   "source": [
    "applicationDict['app1'][1:]\n"
   ]
  },
  {
   "cell_type": "code",
   "execution_count": 49,
   "id": "147c8e0a",
   "metadata": {},
   "outputs": [
    {
     "name": "stdout",
     "output_type": "stream",
     "text": [
      "triggered oob prediction =  [5.51902583]\n",
      "5.51902583139456\n"
     ]
    }
   ],
   "source": [
    "a = predictIntervalTiming(\"app1\")\n",
    "print(a[0])"
   ]
  },
  {
   "cell_type": "markdown",
   "id": "67b21891",
   "metadata": {},
   "source": [
    "# test CV"
   ]
  },
  {
   "cell_type": "code",
   "execution_count": null,
   "id": "6b61159e",
   "metadata": {},
   "outputs": [],
   "source": [
    "sample_bin1 = [0] * 240\n",
    "sample_bin2 = [0] * 240\n",
    "sample_bin1[1] = 3\n",
    "sample_bin2[1] = 20"
   ]
  },
  {
   "cell_type": "code",
   "execution_count": null,
   "id": "3260f6ca",
   "metadata": {},
   "outputs": [],
   "source": [
    "print(\"sample_bin1 CV = {}\".format(calculate_CV(sample_bin1)))\n",
    "print(\"sample_bin2 CV = {}\".format(calculate_CV(sample_bin2)))"
   ]
  },
  {
   "cell_type": "code",
   "execution_count": null,
   "id": "5346192f",
   "metadata": {},
   "outputs": [],
   "source": [
    "import pmdarima as pm\n",
    "from pmdarima.model_selection import train_test_split\n",
    "import numpy as np\n",
    "import matplotlib.pyplot as plt\n",
    "\n",
    "# Load/split your data\n",
    "y = pm.datasets.load_wineind()\n",
    "train, test = train_test_split(y, train_size=150)\n",
    "\n",
    "# Fit your model\n",
    "model = pm.auto_arima(train, seasonal=True, m=12)\n",
    "\n",
    "# make your forecasts\n",
    "forecasts = model.predict(test.shape[0])  # predict N steps into the future\n",
    "\n",
    "# Visualize the forecasts (blue=train, green=forecasts)\n",
    "x = np.arange(y.shape[0])\n",
    "plt.plot(x[:150], train, c='blue')\n",
    "plt.plot(x[150:], forecasts, c='green')\n",
    "plt.show()"
   ]
  },
  {
   "cell_type": "markdown",
   "id": "c6d8b202",
   "metadata": {},
   "source": [
    "# testing for auto arima"
   ]
  },
  {
   "cell_type": "code",
   "execution_count": null,
   "id": "151b4a03",
   "metadata": {},
   "outputs": [],
   "source": [
    "#traces of IT > 240\n",
    "df = trace[['date','IT']]\n",
    "df.set_index('date',inplace=True)\n",
    "IT_more_than_240 = df.loc[df['IT'] > 240]\n",
    "#IT_more_than_240.set_index('date',inplace=True)\n",
    "\n",
    "print(\"{} of IT > 240\".format(len(IT_more_than_240)))\n",
    "IT_more_than_240.head()"
   ]
  },
  {
   "cell_type": "code",
   "execution_count": null,
   "id": "f171cb45",
   "metadata": {},
   "outputs": [],
   "source": [
    "#traces of IT < 240\n",
    "IT_less_than_240 = df.loc[df['IT'] <= 240]\n",
    "#IT_less_than_240.set_index('date',inplace=True)\n",
    "\n",
    "print(\"{} of IT <= 240\".format(len(IT_less_than_240)))\n",
    "IT_less_than_240.head()"
   ]
  },
  {
   "cell_type": "code",
   "execution_count": null,
   "id": "a03d244c",
   "metadata": {},
   "outputs": [],
   "source": [
    "fig, (ax1,ax2,ax3) = plt.subplots(1, 3,sharex=True, sharey=True, figsize=(15, 5))\n",
    "fig.autofmt_xdate(bottom=0.2, rotation=30, ha='right')\n",
    "ax1.set_xlabel('Normal IT')\n",
    "ax2.set_xlabel('IT < 240')\n",
    "ax3.set_xlabel('IT > 240')\n",
    "\n",
    "ax1.plot(df)\n",
    "ax2.plot(IT_less_than_240)\n",
    "ax3.plot(IT_more_than_240)"
   ]
  },
  {
   "cell_type": "code",
   "execution_count": null,
   "id": "6b371ab8",
   "metadata": {},
   "outputs": [],
   "source": [
    "start = len(option1_train)\n",
    "end = len(option1_train) + len(option1_test) -1\n",
    "option1_predict = model1.predict(n_periods=len(option1_test))\n",
    "\n",
    "option1_df = app\n",
    "option1_predict.index = option1_df.index[start:end+1]\n",
    "option1_df['forecast'] = [None]*len(option1_train) + list(option1_predict)\n",
    "\n",
    "#clearer_image = option1_df.iloc[-1386665:]\n",
    "\n",
    "fig, (ax1,ax2) = plt.subplots(1, 2, figsize=(15, 5))\n",
    "fig.autofmt_xdate(bottom=0.2, rotation=30, ha='right')\n",
    "\n",
    "\n",
    "ax1.plot(option1_df)\n",
    "#ax2.plot(clearer_image)"
   ]
  },
  {
   "cell_type": "code",
   "execution_count": null,
   "id": "c1d9c09c",
   "metadata": {},
   "outputs": [],
   "source": [
    "from sklearn import metrics\n",
    "\n",
    "print(\"Mean:\",option1_test['IT'].mean())\n",
    "#print(\"MSE:\",metrics.mean_squared_error(option2_test['IT'],option2_predict))\n",
    "print(\"RMSE:\",np.sqrt(metrics.mean_squared_error(option1_test['IT'],option1_predict)))"
   ]
  },
  {
   "cell_type": "code",
   "execution_count": null,
   "id": "02072baf",
   "metadata": {},
   "outputs": [],
   "source": []
  },
  {
   "cell_type": "code",
   "execution_count": null,
   "id": "d35f5002",
   "metadata": {},
   "outputs": [],
   "source": []
  }
 ],
 "metadata": {
  "kernelspec": {
   "display_name": "Python 3 (ipykernel)",
   "language": "python",
   "name": "python3"
  },
  "language_info": {
   "codemirror_mode": {
    "name": "ipython",
    "version": 3
   },
   "file_extension": ".py",
   "mimetype": "text/x-python",
   "name": "python",
   "nbconvert_exporter": "python",
   "pygments_lexer": "ipython3",
   "version": "3.9.7"
  }
 },
 "nbformat": 4,
 "nbformat_minor": 5
}
