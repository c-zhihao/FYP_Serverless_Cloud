{
 "cells": [
  {
   "cell_type": "markdown",
   "id": "f3ab93b8",
   "metadata": {},
   "source": [
    "### AzureFunctionsInvocationTrace2021 - This is a trace of function invocations for two weeks starting on 2021-01-31. The trace contains invocation arrival and departure (or compeletion) times, with the following schema:\n",
    "\n",
    "- app: application id (encrypted)\n",
    "- func: function id (encrypted), and unique only within an application\n",
    "- end_timestamp: function invocation end timestamp in millisecond\n",
    "- duration: duration of function invocation in millisecond"
   ]
  },
  {
   "cell_type": "code",
   "execution_count": 1,
   "id": "eeaedb87",
   "metadata": {},
   "outputs": [],
   "source": [
    "import pandas as pd\n",
    "import numpy as np\n",
    "import matplotlib.pyplot as plt\n",
    "import heapq as hq\n",
    "import datetime as dt\n",
    "import time\n",
    "import warnings\n",
    "import pmdarima as pm\n",
    "import datetime as dt\n",
    "warnings.filterwarnings('ignore')\n",
    "pd.options.display.max_columns = None\n",
    "pd.set_option('display.max_rows', None)\n",
    "pd.set_option('display.max_colwidth', None)"
   ]
  },
  {
   "cell_type": "markdown",
   "id": "9ec5b0ac",
   "metadata": {},
   "source": [
    "# appending new attributes \n",
    "- start_timestamp\n",
    "- IT"
   ]
  },
  {
   "cell_type": "code",
   "execution_count": 2,
   "id": "b6eb7b0e",
   "metadata": {
    "scrolled": true
   },
   "outputs": [
    {
     "name": "stdout",
     "output_type": "stream",
     "text": [
      "Total number of traces: 1980951\n"
     ]
    },
    {
     "data": {
      "text/html": [
       "<div>\n",
       "<style scoped>\n",
       "    .dataframe tbody tr th:only-of-type {\n",
       "        vertical-align: middle;\n",
       "    }\n",
       "\n",
       "    .dataframe tbody tr th {\n",
       "        vertical-align: top;\n",
       "    }\n",
       "\n",
       "    .dataframe thead th {\n",
       "        text-align: right;\n",
       "    }\n",
       "</style>\n",
       "<table border=\"1\" class=\"dataframe\">\n",
       "  <thead>\n",
       "    <tr style=\"text-align: right;\">\n",
       "      <th></th>\n",
       "      <th>app_id</th>\n",
       "      <th>func_id</th>\n",
       "      <th>start_timestamp</th>\n",
       "      <th>end_timestamp</th>\n",
       "      <th>duration</th>\n",
       "      <th>IT</th>\n",
       "    </tr>\n",
       "  </thead>\n",
       "  <tbody>\n",
       "    <tr>\n",
       "      <th>0</th>\n",
       "      <td>7b2c43a2bc30f6bb438074df88b603d2cb982d3e7961de05270735055950a568</td>\n",
       "      <td>e3cdb48830f66eb8689cc0223514569a69812b77e6611e3d59814fac0747bd2f</td>\n",
       "      <td>0.001491</td>\n",
       "      <td>0.079491</td>\n",
       "      <td>0.078</td>\n",
       "      <td>0.0</td>\n",
       "    </tr>\n",
       "    <tr>\n",
       "      <th>1</th>\n",
       "      <td>1573b95c039e51cc012b543a4af3bc7c3ee9485acbb0033ba5648b74969e0556</td>\n",
       "      <td>337cd24a7d5fd5c92460faee4ebe6a186a0eb322bd17b73da7ffa153025794e1</td>\n",
       "      <td>0.003860</td>\n",
       "      <td>57.157860</td>\n",
       "      <td>57.154</td>\n",
       "      <td>0.0</td>\n",
       "    </tr>\n",
       "    <tr>\n",
       "      <th>2</th>\n",
       "      <td>1573b95c039e51cc012b543a4af3bc7c3ee9485acbb0033ba5648b74969e0556</td>\n",
       "      <td>48cc770d590d3c5a7691b3b4e9302f82ec3be5ddc2a037d94ad2e76f44dd8946</td>\n",
       "      <td>0.005478</td>\n",
       "      <td>59.130478</td>\n",
       "      <td>59.125</td>\n",
       "      <td>0.0</td>\n",
       "    </tr>\n",
       "    <tr>\n",
       "      <th>3</th>\n",
       "      <td>f274d71de386ccc77e4ca74766dbc485461c3053059d47266463c45ec92001b3</td>\n",
       "      <td>3d2aee54a133509f16fb636d74128c2adcfcac71c6dcef78fda1ace004f2ab47</td>\n",
       "      <td>0.016541</td>\n",
       "      <td>6.252541</td>\n",
       "      <td>6.236</td>\n",
       "      <td>0.0</td>\n",
       "    </tr>\n",
       "    <tr>\n",
       "      <th>4</th>\n",
       "      <td>7b2c43a2bc30f6bb438074df88b603d2cb982d3e7961de05270735055950a568</td>\n",
       "      <td>68bbfd828223a505d7917339f4656c5f33ff93225cdb9d0fcbc9889edb49253a</td>\n",
       "      <td>0.016824</td>\n",
       "      <td>0.066824</td>\n",
       "      <td>0.050</td>\n",
       "      <td>0.0</td>\n",
       "    </tr>\n",
       "  </tbody>\n",
       "</table>\n",
       "</div>"
      ],
      "text/plain": [
       "                                                             app_id  \\\n",
       "0  7b2c43a2bc30f6bb438074df88b603d2cb982d3e7961de05270735055950a568   \n",
       "1  1573b95c039e51cc012b543a4af3bc7c3ee9485acbb0033ba5648b74969e0556   \n",
       "2  1573b95c039e51cc012b543a4af3bc7c3ee9485acbb0033ba5648b74969e0556   \n",
       "3  f274d71de386ccc77e4ca74766dbc485461c3053059d47266463c45ec92001b3   \n",
       "4  7b2c43a2bc30f6bb438074df88b603d2cb982d3e7961de05270735055950a568   \n",
       "\n",
       "                                                            func_id  \\\n",
       "0  e3cdb48830f66eb8689cc0223514569a69812b77e6611e3d59814fac0747bd2f   \n",
       "1  337cd24a7d5fd5c92460faee4ebe6a186a0eb322bd17b73da7ffa153025794e1   \n",
       "2  48cc770d590d3c5a7691b3b4e9302f82ec3be5ddc2a037d94ad2e76f44dd8946   \n",
       "3  3d2aee54a133509f16fb636d74128c2adcfcac71c6dcef78fda1ace004f2ab47   \n",
       "4  68bbfd828223a505d7917339f4656c5f33ff93225cdb9d0fcbc9889edb49253a   \n",
       "\n",
       "   start_timestamp  end_timestamp  duration   IT  \n",
       "0         0.001491       0.079491     0.078  0.0  \n",
       "1         0.003860      57.157860    57.154  0.0  \n",
       "2         0.005478      59.130478    59.125  0.0  \n",
       "3         0.016541       6.252541     6.236  0.0  \n",
       "4         0.016824       0.066824     0.050  0.0  "
      ]
     },
     "execution_count": 2,
     "metadata": {},
     "output_type": "execute_result"
    }
   ],
   "source": [
    "trace = pd.read_csv('Trace2021/AzureFunctionsInvocationTraceForTwoWeeksJan2021.txt')\n",
    "trace[\"start_timestamp\"] = trace[\"end_timestamp\"] - trace[\"duration\"]\n",
    "trace = trace[['app','func','start_timestamp','end_timestamp','duration']]\n",
    "trace = trace.rename(columns = {'app': 'app_id', 'func': 'func_id'}, inplace = False)\n",
    "trace.sort_values(by=['start_timestamp'], ascending=False)\n",
    "\n",
    "    \n",
    "#append IT to the DF\n",
    "listIT = []\n",
    "tempDict = {}\n",
    "app_id = trace['app_id']\n",
    "start_time = trace['start_timestamp']\n",
    "for i in range(0,len(trace)):\n",
    "    if tempDict.get(app_id[i]) == None:\n",
    "        tempDict[app_id[i]] = start_time[i]\n",
    "        listIT.append(0)\n",
    "    else:\n",
    "        IT = start_time[i] - tempDict.get(app_id[i])\n",
    "        IT = np.rint(IT)\n",
    "        IT = np.floor(IT/60)\n",
    "        if IT == -1:\n",
    "            IT = 0\n",
    "        tempDict[app_id[i]] = start_time[i]\n",
    "        listIT.append(IT)\n",
    "\n",
    "trace[\"IT\"] = listIT\n",
    "print(\"Total number of traces:\",len(trace))\n",
    "trace.head()"
   ]
  },
  {
   "cell_type": "markdown",
   "id": "2c7937e1",
   "metadata": {},
   "source": [
    "# Graph 1 (application count and ranking)"
   ]
  },
  {
   "cell_type": "code",
   "execution_count": 3,
   "id": "5e8eef2e",
   "metadata": {},
   "outputs": [
    {
     "data": {
      "text/html": [
       "<div>\n",
       "<style scoped>\n",
       "    .dataframe tbody tr th:only-of-type {\n",
       "        vertical-align: middle;\n",
       "    }\n",
       "\n",
       "    .dataframe tbody tr th {\n",
       "        vertical-align: top;\n",
       "    }\n",
       "\n",
       "    .dataframe thead th {\n",
       "        text-align: right;\n",
       "    }\n",
       "</style>\n",
       "<table border=\"1\" class=\"dataframe\">\n",
       "  <thead>\n",
       "    <tr style=\"text-align: right;\">\n",
       "      <th></th>\n",
       "      <th>unique_application_id</th>\n",
       "      <th>counts</th>\n",
       "    </tr>\n",
       "  </thead>\n",
       "  <tbody>\n",
       "    <tr>\n",
       "      <th>0</th>\n",
       "      <td>a594f92f84072b4cd031fe5283d1781a6e98f430696dec0a8e3b02eadb5fc0b8</td>\n",
       "      <td>535667</td>\n",
       "    </tr>\n",
       "    <tr>\n",
       "      <th>1</th>\n",
       "      <td>a9644719e5d173a27e098cffdd5e9227ba9c4a325d082c84d8bcadae6723f19c</td>\n",
       "      <td>328885</td>\n",
       "    </tr>\n",
       "    <tr>\n",
       "      <th>2</th>\n",
       "      <td>96149d3ed4f00afb92f12856101e693e93c4683f030ae6ca6ebfbb7ba5a2a345</td>\n",
       "      <td>299817</td>\n",
       "    </tr>\n",
       "    <tr>\n",
       "      <th>3</th>\n",
       "      <td>7958f89676bf3653f72cda8f38f6b3c0574dcae5169824a571b6996732dd1425</td>\n",
       "      <td>143521</td>\n",
       "    </tr>\n",
       "    <tr>\n",
       "      <th>4</th>\n",
       "      <td>62ed48c098820db02aa8e99ad41e5438e61334ba7b1618aaff2f40868c927a97</td>\n",
       "      <td>124927</td>\n",
       "    </tr>\n",
       "    <tr>\n",
       "      <th>5</th>\n",
       "      <td>70b9cea7ca266637479483f517194c402dfe99b5fc2357e6ebac5e715c9a34a2</td>\n",
       "      <td>71837</td>\n",
       "    </tr>\n",
       "    <tr>\n",
       "      <th>6</th>\n",
       "      <td>5fb02cfeb979fec16df02d1ece227157238477b19fc6e37554e2e2af6018d3ba</td>\n",
       "      <td>59798</td>\n",
       "    </tr>\n",
       "    <tr>\n",
       "      <th>7</th>\n",
       "      <td>73e9cf25a1a3b312f60ead2177d7d259f128661e3b6763e2515f92438b30e514</td>\n",
       "      <td>34713</td>\n",
       "    </tr>\n",
       "    <tr>\n",
       "      <th>8</th>\n",
       "      <td>6e42a4e8ea1df408e059ba37d0e04255fd8385235b310265a57091132d760a65</td>\n",
       "      <td>31260</td>\n",
       "    </tr>\n",
       "    <tr>\n",
       "      <th>9</th>\n",
       "      <td>734272c01926d19690e5ec308bab64ef97950b75b1c7582283e0783fce1751d8</td>\n",
       "      <td>31100</td>\n",
       "    </tr>\n",
       "  </tbody>\n",
       "</table>\n",
       "</div>"
      ],
      "text/plain": [
       "                                              unique_application_id  counts\n",
       "0  a594f92f84072b4cd031fe5283d1781a6e98f430696dec0a8e3b02eadb5fc0b8  535667\n",
       "1  a9644719e5d173a27e098cffdd5e9227ba9c4a325d082c84d8bcadae6723f19c  328885\n",
       "2  96149d3ed4f00afb92f12856101e693e93c4683f030ae6ca6ebfbb7ba5a2a345  299817\n",
       "3  7958f89676bf3653f72cda8f38f6b3c0574dcae5169824a571b6996732dd1425  143521\n",
       "4  62ed48c098820db02aa8e99ad41e5438e61334ba7b1618aaff2f40868c927a97  124927\n",
       "5  70b9cea7ca266637479483f517194c402dfe99b5fc2357e6ebac5e715c9a34a2   71837\n",
       "6  5fb02cfeb979fec16df02d1ece227157238477b19fc6e37554e2e2af6018d3ba   59798\n",
       "7  73e9cf25a1a3b312f60ead2177d7d259f128661e3b6763e2515f92438b30e514   34713\n",
       "8  6e42a4e8ea1df408e059ba37d0e04255fd8385235b310265a57091132d760a65   31260\n",
       "9  734272c01926d19690e5ec308bab64ef97950b75b1c7582283e0783fce1751d8   31100"
      ]
     },
     "execution_count": 3,
     "metadata": {},
     "output_type": "execute_result"
    }
   ],
   "source": [
    "applicationCounts = trace['app_id'].value_counts().rename_axis('unique_application_id').reset_index(name='counts')\n",
    "applicationCounts.head(10)"
   ]
  },
  {
   "cell_type": "code",
   "execution_count": 20,
   "id": "335cce8a",
   "metadata": {},
   "outputs": [
    {
     "data": {
      "image/png": "[encoded data removed]",
      "text/plain": [
       "<Figure size 432x288 with 1 Axes>"
      ]
     },
     "metadata": {
      "needs_background": "light"
     },
     "output_type": "display_data"
    }
   ],
   "source": [
    "import matplotlib.pyplot as plt\n",
    "filteredCounts = applicationCounts.loc[applicationCounts['counts'] > 500]\n",
    "x = filteredCounts['unique_application_id']\n",
    "y = filteredCounts['counts']\n",
    "fig = plt.figure()\n",
    "ax = fig.add_axes([0,0,1,1])\n",
    "ax.bar(x,y)\n",
    "#ax.legend(labels=['Men', 'Women'])\n",
    "ax.set_ylabel('Number of application calls')\n",
    "ax.set_xlabel('Name of applicationID')\n",
    "ax.set_title('Most popular applications that was invoked over 2 weeks')\n",
    "\n",
    "plt.show()"
   ]
  },
  {
   "cell_type": "markdown",
   "id": "13e765b8",
   "metadata": {},
   "source": [
    "# top 5 application IT statistics"
   ]
  },
  {
   "cell_type": "code",
   "execution_count": 4,
   "id": "e9ee58bf",
   "metadata": {
    "scrolled": true
   },
   "outputs": [
    {
     "name": "stdout",
     "output_type": "stream",
     "text": [
      "Description of application: \n",
      "a594f92f84072b4cd031fe52...\n"
     ]
    },
    {
     "data": {
      "text/plain": [
       "count    535667.000000\n",
       "mean          0.023595\n",
       "std           2.052783\n",
       "min           0.000000\n",
       "25%           0.000000\n",
       "50%           0.000000\n",
       "75%           0.000000\n",
       "max         651.000000\n",
       "Name: IT, dtype: float64"
      ]
     },
     "execution_count": 4,
     "metadata": {},
     "output_type": "execute_result"
    }
   ],
   "source": [
    "a = trace.loc[(trace['app_id'] == 'a594f92f84072b4cd031fe5283d1781a6e98f430696dec0a8e3b02eadb5fc0b8')]['IT']\n",
    "print(\"Description of application: \\na594f92f84072b4cd031fe52...\")\n",
    "a.describe()"
   ]
  },
  {
   "cell_type": "code",
   "execution_count": 5,
   "id": "12315f18",
   "metadata": {},
   "outputs": [
    {
     "name": "stdout",
     "output_type": "stream",
     "text": [
      "Description of application: \n",
      "a9644719e5d173a27e098cffd...\n"
     ]
    },
    {
     "data": {
      "text/plain": [
       "count    328885.000000\n",
       "mean          0.026125\n",
       "std          11.639315\n",
       "min           0.000000\n",
       "25%           0.000000\n",
       "50%           0.000000\n",
       "75%           0.000000\n",
       "max        6516.000000\n",
       "Name: IT, dtype: float64"
      ]
     },
     "execution_count": 5,
     "metadata": {},
     "output_type": "execute_result"
    }
   ],
   "source": [
    "a = trace.loc[(trace['app_id'] == 'a9644719e5d173a27e098cffdd5e9227ba9c4a325d082c84d8bcadae6723f19c')]['IT']\n",
    "print(\"Description of application: \\na9644719e5d173a27e098cffd...\")\n",
    "a.describe()"
   ]
  },
  {
   "cell_type": "code",
   "execution_count": 6,
   "id": "e43c33c6",
   "metadata": {},
   "outputs": [
    {
     "name": "stdout",
     "output_type": "stream",
     "text": [
      "Description of application: \n",
      "96149d3ed4f00afb92f128561...\n"
     ]
    },
    {
     "data": {
      "text/plain": [
       "count    299817.000000\n",
       "mean          0.037550\n",
       "std          16.830154\n",
       "min           0.000000\n",
       "25%           0.000000\n",
       "50%           0.000000\n",
       "75%           0.000000\n",
       "max        9205.000000\n",
       "Name: IT, dtype: float64"
      ]
     },
     "execution_count": 6,
     "metadata": {},
     "output_type": "execute_result"
    }
   ],
   "source": [
    "a = trace.loc[(trace['app_id'] == '96149d3ed4f00afb92f12856101e693e93c4683f030ae6ca6ebfbb7ba5a2a345')]['IT']\n",
    "print(\"Description of application: \\n96149d3ed4f00afb92f128561...\")\n",
    "a.describe()"
   ]
  },
  {
   "cell_type": "code",
   "execution_count": 7,
   "id": "2b209d9a",
   "metadata": {},
   "outputs": [
    {
     "name": "stdout",
     "output_type": "stream",
     "text": [
      "Description of application: \n",
      "7958f89676bf3653f72cda8f38...\n"
     ]
    },
    {
     "data": {
      "text/plain": [
       "count    143521.000000\n",
       "mean          0.094997\n",
       "std           5.334092\n",
       "min           0.000000\n",
       "25%           0.000000\n",
       "50%           0.000000\n",
       "75%           0.000000\n",
       "max         661.000000\n",
       "Name: IT, dtype: float64"
      ]
     },
     "execution_count": 7,
     "metadata": {},
     "output_type": "execute_result"
    }
   ],
   "source": [
    "a = trace.loc[(trace['app_id'] == '7958f89676bf3653f72cda8f38f6b3c0574dcae5169824a571b6996732dd1425')]['IT']\n",
    "print(\"Description of application: \\n7958f89676bf3653f72cda8f38...\")\n",
    "a.describe()"
   ]
  },
  {
   "cell_type": "code",
   "execution_count": 8,
   "id": "c0b1656a",
   "metadata": {},
   "outputs": [
    {
     "name": "stdout",
     "output_type": "stream",
     "text": [
      "Description of application: \n",
      "62ed48c098820db02aa8e99...\n"
     ]
    },
    {
     "data": {
      "text/plain": [
       "count    124927.000000\n",
       "mean          0.074868\n",
       "std          19.971244\n",
       "min           0.000000\n",
       "25%           0.000000\n",
       "50%           0.000000\n",
       "75%           0.000000\n",
       "max        6882.000000\n",
       "Name: IT, dtype: float64"
      ]
     },
     "execution_count": 8,
     "metadata": {},
     "output_type": "execute_result"
    }
   ],
   "source": [
    "a = trace.loc[(trace['app_id'] == '62ed48c098820db02aa8e99ad41e5438e61334ba7b1618aaff2f40868c927a97')]['IT']\n",
    "print(\"Description of application: \\n62ed48c098820db02aa8e99...\")\n",
    "a.describe()"
   ]
  },
  {
   "cell_type": "markdown",
   "id": "e08bed6b",
   "metadata": {},
   "source": [
    "# Summary of top 5 application IT statistics"
   ]
  },
  {
   "cell_type": "code",
   "execution_count": 9,
   "id": "15f314e3",
   "metadata": {},
   "outputs": [
    {
     "data": {
      "text/html": [
       "<style type=\"text/css\">\n",
       "#T_99d22_ th {\n",
       "  text-align: center;\n",
       "}\n",
       "#T_99d22_row0_col0, #T_99d22_row0_col1, #T_99d22_row0_col2, #T_99d22_row0_col3, #T_99d22_row0_col4, #T_99d22_row0_col5, #T_99d22_row1_col0, #T_99d22_row1_col1, #T_99d22_row1_col2, #T_99d22_row1_col3, #T_99d22_row1_col4, #T_99d22_row1_col5, #T_99d22_row2_col0, #T_99d22_row2_col1, #T_99d22_row2_col2, #T_99d22_row2_col3, #T_99d22_row2_col4, #T_99d22_row2_col5, #T_99d22_row3_col0, #T_99d22_row3_col1, #T_99d22_row3_col2, #T_99d22_row3_col3, #T_99d22_row3_col4, #T_99d22_row3_col5, #T_99d22_row4_col0, #T_99d22_row4_col1, #T_99d22_row4_col2, #T_99d22_row4_col3, #T_99d22_row4_col4, #T_99d22_row4_col5, #T_99d22_row5_col0, #T_99d22_row5_col1, #T_99d22_row5_col2, #T_99d22_row5_col3, #T_99d22_row5_col4, #T_99d22_row5_col5, #T_99d22_row6_col0, #T_99d22_row6_col1, #T_99d22_row6_col2, #T_99d22_row6_col3, #T_99d22_row6_col4, #T_99d22_row6_col5, #T_99d22_row7_col0, #T_99d22_row7_col1, #T_99d22_row7_col2, #T_99d22_row7_col3, #T_99d22_row7_col4, #T_99d22_row7_col5 {\n",
       "  text-align: center;\n",
       "}\n",
       "</style>\n",
       "<table id=\"T_99d22_\">\n",
       "  <thead>\n",
       "    <tr>\n",
       "      <th class=\"blank level0\" >&nbsp;</th>\n",
       "      <th class=\"col_heading level0 col0\" >Metric</th>\n",
       "      <th class=\"col_heading level0 col1\" >Application 1</th>\n",
       "      <th class=\"col_heading level0 col2\" >Application 2</th>\n",
       "      <th class=\"col_heading level0 col3\" >Application 3</th>\n",
       "      <th class=\"col_heading level0 col4\" >Application 4</th>\n",
       "      <th class=\"col_heading level0 col5\" >Application 5</th>\n",
       "    </tr>\n",
       "  </thead>\n",
       "  <tbody>\n",
       "    <tr>\n",
       "      <th id=\"T_99d22_level0_row0\" class=\"row_heading level0 row0\" >0</th>\n",
       "      <td id=\"T_99d22_row0_col0\" class=\"data row0 col0\" >total count</td>\n",
       "      <td id=\"T_99d22_row0_col1\" class=\"data row0 col1\" >535667.000000</td>\n",
       "      <td id=\"T_99d22_row0_col2\" class=\"data row0 col2\" >328885.000000</td>\n",
       "      <td id=\"T_99d22_row0_col3\" class=\"data row0 col3\" >299817.000000</td>\n",
       "      <td id=\"T_99d22_row0_col4\" class=\"data row0 col4\" >143521.000000</td>\n",
       "      <td id=\"T_99d22_row0_col5\" class=\"data row0 col5\" >124927.000000</td>\n",
       "    </tr>\n",
       "    <tr>\n",
       "      <th id=\"T_99d22_level0_row1\" class=\"row_heading level0 row1\" >1</th>\n",
       "      <td id=\"T_99d22_row1_col0\" class=\"data row1 col0\" >mean</td>\n",
       "      <td id=\"T_99d22_row1_col1\" class=\"data row1 col1\" >0.023554</td>\n",
       "      <td id=\"T_99d22_row1_col2\" class=\"data row1 col2\" >0.026125</td>\n",
       "      <td id=\"T_99d22_row1_col3\" class=\"data row1 col3\" >0.037533</td>\n",
       "      <td id=\"T_99d22_row1_col4\" class=\"data row1 col4\" >0.094969</td>\n",
       "      <td id=\"T_99d22_row1_col5\" class=\"data row1 col5\" >0.074804</td>\n",
       "    </tr>\n",
       "    <tr>\n",
       "      <th id=\"T_99d22_level0_row2\" class=\"row_heading level0 row2\" >2</th>\n",
       "      <td id=\"T_99d22_row2_col0\" class=\"data row2 col0\" >std</td>\n",
       "      <td id=\"T_99d22_row2_col1\" class=\"data row2 col1\" >2.052770</td>\n",
       "      <td id=\"T_99d22_row2_col2\" class=\"data row2 col2\" >11.639315</td>\n",
       "      <td id=\"T_99d22_row2_col3\" class=\"data row2 col3\" >16.830154</td>\n",
       "      <td id=\"T_99d22_row2_col4\" class=\"data row2 col4\" >5.334090</td>\n",
       "      <td id=\"T_99d22_row2_col5\" class=\"data row2 col5\" >19.971239</td>\n",
       "    </tr>\n",
       "    <tr>\n",
       "      <th id=\"T_99d22_level0_row3\" class=\"row_heading level0 row3\" >3</th>\n",
       "      <td id=\"T_99d22_row3_col0\" class=\"data row3 col0\" >min</td>\n",
       "      <td id=\"T_99d22_row3_col1\" class=\"data row3 col1\" >0.000000</td>\n",
       "      <td id=\"T_99d22_row3_col2\" class=\"data row3 col2\" >0.000000</td>\n",
       "      <td id=\"T_99d22_row3_col3\" class=\"data row3 col3\" >0.000000</td>\n",
       "      <td id=\"T_99d22_row3_col4\" class=\"data row3 col4\" >0.000000</td>\n",
       "      <td id=\"T_99d22_row3_col5\" class=\"data row3 col5\" >0.000000</td>\n",
       "    </tr>\n",
       "    <tr>\n",
       "      <th id=\"T_99d22_level0_row4\" class=\"row_heading level0 row4\" >4</th>\n",
       "      <td id=\"T_99d22_row4_col0\" class=\"data row4 col0\" >max</td>\n",
       "      <td id=\"T_99d22_row4_col1\" class=\"data row4 col1\" >651.000000</td>\n",
       "      <td id=\"T_99d22_row4_col2\" class=\"data row4 col2\" >6516.000000</td>\n",
       "      <td id=\"T_99d22_row4_col3\" class=\"data row4 col3\" >9205.000000</td>\n",
       "      <td id=\"T_99d22_row4_col4\" class=\"data row4 col4\" >661.000000</td>\n",
       "      <td id=\"T_99d22_row4_col5\" class=\"data row4 col5\" >6882.000000</td>\n",
       "    </tr>\n",
       "    <tr>\n",
       "      <th id=\"T_99d22_level0_row5\" class=\"row_heading level0 row5\" >5</th>\n",
       "      <td id=\"T_99d22_row5_col0\" class=\"data row5 col0\" >25th Percentile</td>\n",
       "      <td id=\"T_99d22_row5_col1\" class=\"data row5 col1\" >0.000000</td>\n",
       "      <td id=\"T_99d22_row5_col2\" class=\"data row5 col2\" >0.000000</td>\n",
       "      <td id=\"T_99d22_row5_col3\" class=\"data row5 col3\" >0.000000</td>\n",
       "      <td id=\"T_99d22_row5_col4\" class=\"data row5 col4\" >0.000000</td>\n",
       "      <td id=\"T_99d22_row5_col5\" class=\"data row5 col5\" >0.000000</td>\n",
       "    </tr>\n",
       "    <tr>\n",
       "      <th id=\"T_99d22_level0_row6\" class=\"row_heading level0 row6\" >6</th>\n",
       "      <td id=\"T_99d22_row6_col0\" class=\"data row6 col0\" >50th Percentile</td>\n",
       "      <td id=\"T_99d22_row6_col1\" class=\"data row6 col1\" >0.000000</td>\n",
       "      <td id=\"T_99d22_row6_col2\" class=\"data row6 col2\" >0.000000</td>\n",
       "      <td id=\"T_99d22_row6_col3\" class=\"data row6 col3\" >0.000000</td>\n",
       "      <td id=\"T_99d22_row6_col4\" class=\"data row6 col4\" >0.000000</td>\n",
       "      <td id=\"T_99d22_row6_col5\" class=\"data row6 col5\" >0.000000</td>\n",
       "    </tr>\n",
       "    <tr>\n",
       "      <th id=\"T_99d22_level0_row7\" class=\"row_heading level0 row7\" >7</th>\n",
       "      <td id=\"T_99d22_row7_col0\" class=\"data row7 col0\" >75th Percentile</td>\n",
       "      <td id=\"T_99d22_row7_col1\" class=\"data row7 col1\" >0.000000</td>\n",
       "      <td id=\"T_99d22_row7_col2\" class=\"data row7 col2\" >0.000000</td>\n",
       "      <td id=\"T_99d22_row7_col3\" class=\"data row7 col3\" >0.000000</td>\n",
       "      <td id=\"T_99d22_row7_col4\" class=\"data row7 col4\" >0.000000</td>\n",
       "      <td id=\"T_99d22_row7_col5\" class=\"data row7 col5\" >0.000000</td>\n",
       "    </tr>\n",
       "  </tbody>\n",
       "</table>\n"
      ],
      "text/plain": [
       "<pandas.io.formats.style.Styler at 0x1578d44c850>"
      ]
     },
     "execution_count": 9,
     "metadata": {},
     "output_type": "execute_result"
    }
   ],
   "source": [
    "# Sample DataFrames\n",
    "df1 = pd.DataFrame({\n",
    "    'Metric': ['total count', 'mean','std','min','max','25th Percentile', '50th Percentile', '75th Percentile'],\n",
    "    'Application 1': [535667, 0.023554, 2.052770, 0, 651, 0, 0, 0]\n",
    "})\n",
    "\n",
    "df2 = pd.DataFrame({\n",
    "    'Metric': ['total count', 'mean','std','min','max','25th Percentile', '50th Percentile', '75th Percentile'],\n",
    "    'Application 2': [328885, 0.026125, 11.639315, 0, 6516, 0, 0, 0]\n",
    "})\n",
    "\n",
    "df3 = pd.DataFrame({\n",
    "    'Metric': ['total count', 'mean','std','min','max','25th Percentile', '50th Percentile', '75th Percentile'],\n",
    "    'Application 3': [299817, 0.037533, 16.830154, 0, 9205, 0, 0, 0]\n",
    "})\n",
    "\n",
    "df4 = pd.DataFrame({\n",
    "    'Metric': ['total count', 'mean','std','min','max','25th Percentile', '50th Percentile', '75th Percentile'],\n",
    "    'Application 4': [143521, 0.094969, 5.334090, 0, 661, 0, 0, 0]\n",
    "})\n",
    "\n",
    "df5 = pd.DataFrame({\n",
    "    'Metric': ['total count', 'mean','std','min','max','25th Percentile', '50th Percentile', '75th Percentile'],\n",
    "    'Application 5': [124927, 0.074804, 19.971239, 0, 6882, 0, 0, 0]\n",
    "})\n",
    "\n",
    "\n",
    "# Combine DataFrames\n",
    "#combined_df = pd.merge(df1, df2, on='Metric')\n",
    "combined_df = pd.merge(pd.merge(pd.merge(pd.merge(df1,df2,on='Metric'),df3,on='Metric'),df4, on = 'Metric'), df5, on='Metric')\n",
    "\n",
    "# Convert combined DataFrame to a list of lists\n",
    "table_data = combined_df.values.tolist()\n",
    "\n",
    "# Headers for the table\n",
    "headers = ['Metric', 'Invocation Counts of Trace 1', 'Invocation Counts of Trace 2']\n",
    "\n",
    "\n",
    "combined_df = combined_df.style.set_properties(**{'text-align': 'center'})\n",
    "combined_df.set_table_styles([dict(selector='th', props=[('text-align', 'center')])])\n",
    "combined_df"
   ]
  },
  {
   "cell_type": "markdown",
   "id": "b0e95d7e",
   "metadata": {},
   "source": [
    "# top 5 application duration statistics"
   ]
  },
  {
   "cell_type": "code",
   "execution_count": 10,
   "id": "15775ce7",
   "metadata": {},
   "outputs": [
    {
     "name": "stdout",
     "output_type": "stream",
     "text": [
      "Description of application: \n",
      "a594f92f84072b4cd031fe52...\n"
     ]
    },
    {
     "data": {
      "text/plain": [
       "count    535667.000000\n",
       "mean          0.001658\n",
       "std           0.014055\n",
       "min           0.001000\n",
       "25%           0.001000\n",
       "50%           0.001000\n",
       "75%           0.001000\n",
       "max           1.470000\n",
       "Name: duration, dtype: float64"
      ]
     },
     "execution_count": 10,
     "metadata": {},
     "output_type": "execute_result"
    }
   ],
   "source": [
    "a = trace.loc[(trace['app_id'] == 'a594f92f84072b4cd031fe5283d1781a6e98f430696dec0a8e3b02eadb5fc0b8')]['duration']\n",
    "print(\"Description of application: \\na594f92f84072b4cd031fe52...\")\n",
    "a.describe()"
   ]
  },
  {
   "cell_type": "code",
   "execution_count": 11,
   "id": "c79c5752",
   "metadata": {},
   "outputs": [
    {
     "name": "stdout",
     "output_type": "stream",
     "text": [
      "Description of application: \n",
      "a9644719e5d173a27e098cffd...\n"
     ]
    },
    {
     "data": {
      "text/plain": [
       "count    328885.000000\n",
       "mean          0.043588\n",
       "std           0.158681\n",
       "min           0.000000\n",
       "25%           0.000000\n",
       "50%           0.015000\n",
       "75%           0.062000\n",
       "max          61.036000\n",
       "Name: duration, dtype: float64"
      ]
     },
     "execution_count": 11,
     "metadata": {},
     "output_type": "execute_result"
    }
   ],
   "source": [
    "a = trace.loc[(trace['app_id'] == 'a9644719e5d173a27e098cffdd5e9227ba9c4a325d082c84d8bcadae6723f19c')]['duration']\n",
    "print(\"Description of application: \\na9644719e5d173a27e098cffd...\")\n",
    "a.describe()"
   ]
  },
  {
   "cell_type": "code",
   "execution_count": 12,
   "id": "f418addf",
   "metadata": {},
   "outputs": [
    {
     "name": "stdout",
     "output_type": "stream",
     "text": [
      "Description of application: \n",
      "96149d3ed4f00afb92f128561...\n"
     ]
    },
    {
     "data": {
      "text/plain": [
       "count    299817.000000\n",
       "mean          0.361656\n",
       "std           0.869501\n",
       "min           0.000000\n",
       "25%           0.003000\n",
       "50%           0.036000\n",
       "75%           0.770000\n",
       "max         127.991000\n",
       "Name: duration, dtype: float64"
      ]
     },
     "execution_count": 12,
     "metadata": {},
     "output_type": "execute_result"
    }
   ],
   "source": [
    "a = trace.loc[(trace['app_id'] == '96149d3ed4f00afb92f12856101e693e93c4683f030ae6ca6ebfbb7ba5a2a345')]['duration']\n",
    "print(\"Description of application: \\n96149d3ed4f00afb92f128561...\")\n",
    "a.describe()"
   ]
  },
  {
   "cell_type": "code",
   "execution_count": 13,
   "id": "99d9dd1c",
   "metadata": {},
   "outputs": [
    {
     "name": "stdout",
     "output_type": "stream",
     "text": [
      "Description of application: \n",
      "7958f89676bf3653f72cda8f38...\n"
     ]
    },
    {
     "data": {
      "text/plain": [
       "count    143521.000000\n",
       "mean          0.806569\n",
       "std           4.896070\n",
       "min           0.024000\n",
       "25%           0.373000\n",
       "50%           0.383000\n",
       "75%           0.415000\n",
       "max         133.553000\n",
       "Name: duration, dtype: float64"
      ]
     },
     "execution_count": 13,
     "metadata": {},
     "output_type": "execute_result"
    }
   ],
   "source": [
    "a = trace.loc[(trace['app_id'] == '7958f89676bf3653f72cda8f38f6b3c0574dcae5169824a571b6996732dd1425')]['duration']\n",
    "print(\"Description of application: \\n7958f89676bf3653f72cda8f38...\")\n",
    "a.describe()"
   ]
  },
  {
   "cell_type": "code",
   "execution_count": 14,
   "id": "f121dddc",
   "metadata": {},
   "outputs": [
    {
     "name": "stdout",
     "output_type": "stream",
     "text": [
      "Description of application: \n",
      "62ed48c098820db02aa8e99...\n"
     ]
    },
    {
     "data": {
      "text/plain": [
       "count    124927.000000\n",
       "mean          0.362149\n",
       "std           2.221979\n",
       "min           0.008000\n",
       "25%           0.093000\n",
       "50%           0.246000\n",
       "75%           0.284000\n",
       "max         240.580000\n",
       "Name: duration, dtype: float64"
      ]
     },
     "execution_count": 14,
     "metadata": {},
     "output_type": "execute_result"
    }
   ],
   "source": [
    "a = trace.loc[(trace['app_id'] == '62ed48c098820db02aa8e99ad41e5438e61334ba7b1618aaff2f40868c927a97')]['duration']\n",
    "print(\"Description of application: \\n62ed48c098820db02aa8e99...\")\n",
    "a.describe()"
   ]
  },
  {
   "cell_type": "markdown",
   "id": "5f00ee57",
   "metadata": {},
   "source": [
    "# summary of top 5 application duration"
   ]
  },
  {
   "cell_type": "code",
   "execution_count": 15,
   "id": "fec41353",
   "metadata": {},
   "outputs": [
    {
     "data": {
      "text/html": [
       "<style type=\"text/css\">\n",
       "#T_e2d36_ th {\n",
       "  text-align: center;\n",
       "}\n",
       "#T_e2d36_row0_col0, #T_e2d36_row0_col1, #T_e2d36_row0_col2, #T_e2d36_row0_col3, #T_e2d36_row0_col4, #T_e2d36_row0_col5, #T_e2d36_row1_col0, #T_e2d36_row1_col1, #T_e2d36_row1_col2, #T_e2d36_row1_col3, #T_e2d36_row1_col4, #T_e2d36_row1_col5, #T_e2d36_row2_col0, #T_e2d36_row2_col1, #T_e2d36_row2_col2, #T_e2d36_row2_col3, #T_e2d36_row2_col4, #T_e2d36_row2_col5, #T_e2d36_row3_col0, #T_e2d36_row3_col1, #T_e2d36_row3_col2, #T_e2d36_row3_col3, #T_e2d36_row3_col4, #T_e2d36_row3_col5, #T_e2d36_row4_col0, #T_e2d36_row4_col1, #T_e2d36_row4_col2, #T_e2d36_row4_col3, #T_e2d36_row4_col4, #T_e2d36_row4_col5, #T_e2d36_row5_col0, #T_e2d36_row5_col1, #T_e2d36_row5_col2, #T_e2d36_row5_col3, #T_e2d36_row5_col4, #T_e2d36_row5_col5, #T_e2d36_row6_col0, #T_e2d36_row6_col1, #T_e2d36_row6_col2, #T_e2d36_row6_col3, #T_e2d36_row6_col4, #T_e2d36_row6_col5, #T_e2d36_row7_col0, #T_e2d36_row7_col1, #T_e2d36_row7_col2, #T_e2d36_row7_col3, #T_e2d36_row7_col4, #T_e2d36_row7_col5 {\n",
       "  text-align: center;\n",
       "}\n",
       "</style>\n",
       "<table id=\"T_e2d36_\">\n",
       "  <thead>\n",
       "    <tr>\n",
       "      <th class=\"blank level0\" >&nbsp;</th>\n",
       "      <th class=\"col_heading level0 col0\" >Metric</th>\n",
       "      <th class=\"col_heading level0 col1\" >Application 1</th>\n",
       "      <th class=\"col_heading level0 col2\" >Application 2</th>\n",
       "      <th class=\"col_heading level0 col3\" >Application 3</th>\n",
       "      <th class=\"col_heading level0 col4\" >Application 4</th>\n",
       "      <th class=\"col_heading level0 col5\" >Application 5</th>\n",
       "    </tr>\n",
       "  </thead>\n",
       "  <tbody>\n",
       "    <tr>\n",
       "      <th id=\"T_e2d36_level0_row0\" class=\"row_heading level0 row0\" >0</th>\n",
       "      <td id=\"T_e2d36_row0_col0\" class=\"data row0 col0\" >total count</td>\n",
       "      <td id=\"T_e2d36_row0_col1\" class=\"data row0 col1\" >535667.000000</td>\n",
       "      <td id=\"T_e2d36_row0_col2\" class=\"data row0 col2\" >328885.000000</td>\n",
       "      <td id=\"T_e2d36_row0_col3\" class=\"data row0 col3\" >299817.000000</td>\n",
       "      <td id=\"T_e2d36_row0_col4\" class=\"data row0 col4\" >143521.000000</td>\n",
       "      <td id=\"T_e2d36_row0_col5\" class=\"data row0 col5\" >124927.000000</td>\n",
       "    </tr>\n",
       "    <tr>\n",
       "      <th id=\"T_e2d36_level0_row1\" class=\"row_heading level0 row1\" >1</th>\n",
       "      <td id=\"T_e2d36_row1_col0\" class=\"data row1 col0\" >mean</td>\n",
       "      <td id=\"T_e2d36_row1_col1\" class=\"data row1 col1\" >0.001658</td>\n",
       "      <td id=\"T_e2d36_row1_col2\" class=\"data row1 col2\" >0.043588</td>\n",
       "      <td id=\"T_e2d36_row1_col3\" class=\"data row1 col3\" >0.361656</td>\n",
       "      <td id=\"T_e2d36_row1_col4\" class=\"data row1 col4\" >0.806569</td>\n",
       "      <td id=\"T_e2d36_row1_col5\" class=\"data row1 col5\" >0.362149</td>\n",
       "    </tr>\n",
       "    <tr>\n",
       "      <th id=\"T_e2d36_level0_row2\" class=\"row_heading level0 row2\" >2</th>\n",
       "      <td id=\"T_e2d36_row2_col0\" class=\"data row2 col0\" >std</td>\n",
       "      <td id=\"T_e2d36_row2_col1\" class=\"data row2 col1\" >0.014055</td>\n",
       "      <td id=\"T_e2d36_row2_col2\" class=\"data row2 col2\" >0.158681</td>\n",
       "      <td id=\"T_e2d36_row2_col3\" class=\"data row2 col3\" >0.869501</td>\n",
       "      <td id=\"T_e2d36_row2_col4\" class=\"data row2 col4\" >4.896070</td>\n",
       "      <td id=\"T_e2d36_row2_col5\" class=\"data row2 col5\" >2.221979</td>\n",
       "    </tr>\n",
       "    <tr>\n",
       "      <th id=\"T_e2d36_level0_row3\" class=\"row_heading level0 row3\" >3</th>\n",
       "      <td id=\"T_e2d36_row3_col0\" class=\"data row3 col0\" >min</td>\n",
       "      <td id=\"T_e2d36_row3_col1\" class=\"data row3 col1\" >0.001000</td>\n",
       "      <td id=\"T_e2d36_row3_col2\" class=\"data row3 col2\" >0.000000</td>\n",
       "      <td id=\"T_e2d36_row3_col3\" class=\"data row3 col3\" >0.000000</td>\n",
       "      <td id=\"T_e2d36_row3_col4\" class=\"data row3 col4\" >0.024000</td>\n",
       "      <td id=\"T_e2d36_row3_col5\" class=\"data row3 col5\" >0.008000</td>\n",
       "    </tr>\n",
       "    <tr>\n",
       "      <th id=\"T_e2d36_level0_row4\" class=\"row_heading level0 row4\" >4</th>\n",
       "      <td id=\"T_e2d36_row4_col0\" class=\"data row4 col0\" >max</td>\n",
       "      <td id=\"T_e2d36_row4_col1\" class=\"data row4 col1\" >1.470001</td>\n",
       "      <td id=\"T_e2d36_row4_col2\" class=\"data row4 col2\" >61.036000</td>\n",
       "      <td id=\"T_e2d36_row4_col3\" class=\"data row4 col3\" >127.991000</td>\n",
       "      <td id=\"T_e2d36_row4_col4\" class=\"data row4 col4\" >133.553000</td>\n",
       "      <td id=\"T_e2d36_row4_col5\" class=\"data row4 col5\" >240.580000</td>\n",
       "    </tr>\n",
       "    <tr>\n",
       "      <th id=\"T_e2d36_level0_row5\" class=\"row_heading level0 row5\" >5</th>\n",
       "      <td id=\"T_e2d36_row5_col0\" class=\"data row5 col0\" >25th Percentile</td>\n",
       "      <td id=\"T_e2d36_row5_col1\" class=\"data row5 col1\" >0.001000</td>\n",
       "      <td id=\"T_e2d36_row5_col2\" class=\"data row5 col2\" >0.000000</td>\n",
       "      <td id=\"T_e2d36_row5_col3\" class=\"data row5 col3\" >0.003000</td>\n",
       "      <td id=\"T_e2d36_row5_col4\" class=\"data row5 col4\" >0.373000</td>\n",
       "      <td id=\"T_e2d36_row5_col5\" class=\"data row5 col5\" >0.093000</td>\n",
       "    </tr>\n",
       "    <tr>\n",
       "      <th id=\"T_e2d36_level0_row6\" class=\"row_heading level0 row6\" >6</th>\n",
       "      <td id=\"T_e2d36_row6_col0\" class=\"data row6 col0\" >50th Percentile</td>\n",
       "      <td id=\"T_e2d36_row6_col1\" class=\"data row6 col1\" >0.001000</td>\n",
       "      <td id=\"T_e2d36_row6_col2\" class=\"data row6 col2\" >0.015000</td>\n",
       "      <td id=\"T_e2d36_row6_col3\" class=\"data row6 col3\" >0.036000</td>\n",
       "      <td id=\"T_e2d36_row6_col4\" class=\"data row6 col4\" >0.383000</td>\n",
       "      <td id=\"T_e2d36_row6_col5\" class=\"data row6 col5\" >0.246000</td>\n",
       "    </tr>\n",
       "    <tr>\n",
       "      <th id=\"T_e2d36_level0_row7\" class=\"row_heading level0 row7\" >7</th>\n",
       "      <td id=\"T_e2d36_row7_col0\" class=\"data row7 col0\" >75th Percentile</td>\n",
       "      <td id=\"T_e2d36_row7_col1\" class=\"data row7 col1\" >0.001000</td>\n",
       "      <td id=\"T_e2d36_row7_col2\" class=\"data row7 col2\" >0.062000</td>\n",
       "      <td id=\"T_e2d36_row7_col3\" class=\"data row7 col3\" >0.770000</td>\n",
       "      <td id=\"T_e2d36_row7_col4\" class=\"data row7 col4\" >0.415000</td>\n",
       "      <td id=\"T_e2d36_row7_col5\" class=\"data row7 col5\" >0.284000</td>\n",
       "    </tr>\n",
       "  </tbody>\n",
       "</table>\n"
      ],
      "text/plain": [
       "<pandas.io.formats.style.Styler at 0x1578d4408b0>"
      ]
     },
     "execution_count": 15,
     "metadata": {},
     "output_type": "execute_result"
    }
   ],
   "source": [
    "# Sample DataFrames\n",
    "df1 = pd.DataFrame({\n",
    "    'Metric': ['total count', 'mean','std','min','max','25th Percentile', '50th Percentile', '75th Percentile'],\n",
    "    'Application 1': [535667, 0.001658, 0.014055, 0.001000, 1.470001, 0.001000, 0.001000, 0.001000]\n",
    "})\n",
    "\n",
    "df2 = pd.DataFrame({\n",
    "    'Metric': ['total count', 'mean','std','min','max','25th Percentile', '50th Percentile', '75th Percentile'],\n",
    "    'Application 2': [328885, 0.043588, 0.158681, 0.000000, 61.036000, 0.000000, 0.015000, 0.062000]\n",
    "})\n",
    "\n",
    "df3 = pd.DataFrame({\n",
    "    'Metric': ['total count', 'mean','std','min','max','25th Percentile', '50th Percentile', '75th Percentile'],\n",
    "    'Application 3': [299817, 0.361656, 0.869501, 0.000000, 127.991000, 0.003000, 0.036000, 0.770000]\n",
    "})\n",
    "\n",
    "df4 = pd.DataFrame({\n",
    "    'Metric': ['total count', 'mean','std','min','max','25th Percentile', '50th Percentile', '75th Percentile'],\n",
    "    'Application 4': [143521, 0.806569, 4.896070, 0.024000, 133.553000, 0.373000, 0.383000, 0.415000]\n",
    "})\n",
    "\n",
    "df5 = pd.DataFrame({\n",
    "    'Metric': ['total count', 'mean','std','min','max','25th Percentile', '50th Percentile', '75th Percentile'],\n",
    "    'Application 5': [124927, 0.362149, 2.221979, 0.008000, 240.580000, 0.093000, 0.246000, 0.284000]\n",
    "})\n",
    "\n",
    "\n",
    "# Combine DataFrames\n",
    "#combined_df = pd.merge(df1, df2, on='Metric')\n",
    "combined_df = pd.merge(pd.merge(pd.merge(pd.merge(df1,df2,on='Metric'),df3,on='Metric'),df4, on = 'Metric'), df5, on='Metric')\n",
    "\n",
    "# Convert combined DataFrame to a list of lists\n",
    "table_data = combined_df.values.tolist()\n",
    "\n",
    "# Headers for the table\n",
    "headers = ['Metric', 'Invocation Counts of Trace 1', 'Invocation Counts of Trace 2']\n",
    "\n",
    "\n",
    "combined_df = combined_df.style.set_properties(**{'text-align': 'center'})\n",
    "combined_df.set_table_styles([dict(selector='th', props=[('text-align', 'center')])])\n",
    "combined_df"
   ]
  },
  {
   "cell_type": "markdown",
   "id": "333bac73",
   "metadata": {},
   "source": [
    "# Graph 2: Number of functions per application"
   ]
  },
  {
   "cell_type": "code",
   "execution_count": 21,
   "id": "ffcc28b6",
   "metadata": {},
   "outputs": [
    {
     "data": {
      "text/html": [
       "<div>\n",
       "<style scoped>\n",
       "    .dataframe tbody tr th:only-of-type {\n",
       "        vertical-align: middle;\n",
       "    }\n",
       "\n",
       "    .dataframe tbody tr th {\n",
       "        vertical-align: top;\n",
       "    }\n",
       "\n",
       "    .dataframe thead th {\n",
       "        text-align: right;\n",
       "    }\n",
       "</style>\n",
       "<table border=\"1\" class=\"dataframe\">\n",
       "  <thead>\n",
       "    <tr style=\"text-align: right;\">\n",
       "      <th></th>\n",
       "      <th>unique_application_id</th>\n",
       "      <th>func_counts</th>\n",
       "    </tr>\n",
       "  </thead>\n",
       "  <tbody>\n",
       "    <tr>\n",
       "      <th>0</th>\n",
       "      <td>a9fd6223e00378edd60a03c721f9345f34d198757a4057b349d0e85e3aa111b2</td>\n",
       "      <td>29</td>\n",
       "    </tr>\n",
       "    <tr>\n",
       "      <th>1</th>\n",
       "      <td>3efeb602c2eb29e2729b18ad18da8936f44c862a205fd915f5a40c8df429cf04</td>\n",
       "      <td>23</td>\n",
       "    </tr>\n",
       "    <tr>\n",
       "      <th>2</th>\n",
       "      <td>96149d3ed4f00afb92f12856101e693e93c4683f030ae6ca6ebfbb7ba5a2a345</td>\n",
       "      <td>16</td>\n",
       "    </tr>\n",
       "    <tr>\n",
       "      <th>3</th>\n",
       "      <td>a0ed6d33dc4622e0a557f45a85a64d359ca20c3e5888fe64519cc08893395a98</td>\n",
       "      <td>15</td>\n",
       "    </tr>\n",
       "    <tr>\n",
       "      <th>4</th>\n",
       "      <td>b81ed828cb5e719288b0c64b3e27bcd36d78d32c4e45657670b847f988fea43d</td>\n",
       "      <td>15</td>\n",
       "    </tr>\n",
       "    <tr>\n",
       "      <th>5</th>\n",
       "      <td>a03d8277f9ec95f7202dbb6fbce63466b552f028c9aedffa03791d629e58124d</td>\n",
       "      <td>14</td>\n",
       "    </tr>\n",
       "    <tr>\n",
       "      <th>6</th>\n",
       "      <td>dfcd50e431bff00cbb9b2fb9e3e6f312fab091b64488a46c6dffe525830aacea</td>\n",
       "      <td>13</td>\n",
       "    </tr>\n",
       "    <tr>\n",
       "      <th>7</th>\n",
       "      <td>7b2c43a2bc30f6bb438074df88b603d2cb982d3e7961de05270735055950a568</td>\n",
       "      <td>12</td>\n",
       "    </tr>\n",
       "    <tr>\n",
       "      <th>8</th>\n",
       "      <td>734272c01926d19690e5ec308bab64ef97950b75b1c7582283e0783fce1751d8</td>\n",
       "      <td>10</td>\n",
       "    </tr>\n",
       "    <tr>\n",
       "      <th>9</th>\n",
       "      <td>b1034a4b389601e02fcf2318a83a64cc779bf47aa1100a6782cf14c91569cba0</td>\n",
       "      <td>9</td>\n",
       "    </tr>\n",
       "  </tbody>\n",
       "</table>\n",
       "</div>"
      ],
      "text/plain": [
       "                                              unique_application_id  \\\n",
       "0  a9fd6223e00378edd60a03c721f9345f34d198757a4057b349d0e85e3aa111b2   \n",
       "1  3efeb602c2eb29e2729b18ad18da8936f44c862a205fd915f5a40c8df429cf04   \n",
       "2  96149d3ed4f00afb92f12856101e693e93c4683f030ae6ca6ebfbb7ba5a2a345   \n",
       "3  a0ed6d33dc4622e0a557f45a85a64d359ca20c3e5888fe64519cc08893395a98   \n",
       "4  b81ed828cb5e719288b0c64b3e27bcd36d78d32c4e45657670b847f988fea43d   \n",
       "5  a03d8277f9ec95f7202dbb6fbce63466b552f028c9aedffa03791d629e58124d   \n",
       "6  dfcd50e431bff00cbb9b2fb9e3e6f312fab091b64488a46c6dffe525830aacea   \n",
       "7  7b2c43a2bc30f6bb438074df88b603d2cb982d3e7961de05270735055950a568   \n",
       "8  734272c01926d19690e5ec308bab64ef97950b75b1c7582283e0783fce1751d8   \n",
       "9  b1034a4b389601e02fcf2318a83a64cc779bf47aa1100a6782cf14c91569cba0   \n",
       "\n",
       "   func_counts  \n",
       "0           29  \n",
       "1           23  \n",
       "2           16  \n",
       "3           15  \n",
       "4           15  \n",
       "5           14  \n",
       "6           13  \n",
       "7           12  \n",
       "8           10  \n",
       "9            9  "
      ]
     },
     "execution_count": 21,
     "metadata": {},
     "output_type": "execute_result"
    }
   ],
   "source": [
    "function_per_application_count = trace.groupby('app_id')['func_id'].nunique().rename_axis('unique_application_id').reset_index(name='func_counts').sort_values(['func_counts'], ascending=[False])\n",
    "function_per_application_count.reset_index(drop=True, inplace=True)\n",
    "function_per_application_count.head(10)"
   ]
  },
  {
   "cell_type": "code",
   "execution_count": 22,
   "id": "5e1531d9",
   "metadata": {},
   "outputs": [
    {
     "name": "stdout",
     "output_type": "stream",
     "text": [
      "111 out of 119 applications has only 1 function, 93.27731092436974 %\n"
     ]
    },
    {
     "data": {
      "image/png": "[encoded data removed]",
      "text/plain": [
       "<Figure size 432x288 with 1 Axes>"
      ]
     },
     "metadata": {
      "needs_background": "light"
     },
     "output_type": "display_data"
    }
   ],
   "source": [
    "x = np.sort(function_per_application_count['func_counts'])\n",
    "y = np.arange(1, len(x)+1) / len(x)\n",
    "function_per_application_CDF = plt.plot(x,y)\n",
    "function_per_application_CDF = plt.xticks(x, fontsize=10)\n",
    "function_per_application_CDF = plt.xlabel('Function count')\n",
    "function_per_application_CDF = plt.ylabel('CDF')\n",
    "\n",
    "a = function_per_application_count.loc[function_per_application_count['func_counts'] <=10]\n",
    "print(\"{} out of {} applications has only 1 function, {} %\".format(len(a), len(function_per_application_count), len(a)/len(function_per_application_count)*100))"
   ]
  },
  {
   "cell_type": "markdown",
   "id": "7cc891b7",
   "metadata": {},
   "source": [
    "# Improved version of Graph 2"
   ]
  },
  {
   "cell_type": "code",
   "execution_count": 23,
   "id": "044bd5bb",
   "metadata": {},
   "outputs": [
    {
     "data": {
      "image/png": "[encoded data removed]",
      "text/plain": [
       "<Figure size 720x288 with 1 Axes>"
      ]
     },
     "metadata": {
      "needs_background": "light"
     },
     "output_type": "display_data"
    }
   ],
   "source": [
    "x = np.sort(function_per_application_count['func_counts'])\n",
    "y = np.arange(1, len(x)+1) / len(x)\n",
    "# Create the plot\n",
    "fig, ax = plt.subplots()\n",
    "ax.plot(x, y)\n",
    "\n",
    "# Set the x-axis to a logarithmic scale\n",
    "ax.set_xscale('log')\n",
    "\n",
    "# Set the tick locations and labels for the x-axis\n",
    "ax.set_xticks([1,2,3,4,5,10,20, 30])\n",
    "ax.set_xticklabels(['1','2','3','4','5','10','20','30'])\n",
    "ax.set_title('Number of functions per application')\n",
    "fig.set_figwidth(10)\n",
    "# Display the plot\n",
    "plt.xlabel('Function count')\n",
    "plt.ylabel('CDF')\n",
    "plt.show()"
   ]
  },
  {
   "cell_type": "markdown",
   "id": "2db1bff9",
   "metadata": {},
   "source": [
    "# Graph 3: invocation duration of functions"
   ]
  },
  {
   "cell_type": "code",
   "execution_count": 24,
   "id": "b4e049ec",
   "metadata": {},
   "outputs": [
    {
     "data": {
      "image/png": "[encoded data removed]",
      "text/plain": [
       "<Figure size 720x288 with 1 Axes>"
      ]
     },
     "metadata": {
      "needs_background": "light"
     },
     "output_type": "display_data"
    },
    {
     "name": "stdout",
     "output_type": "stream",
     "text": [
      "1731643 out of 1980951 total functions has execution time of less than 0.1s, 87.41473161123116 %\n"
     ]
    }
   ],
   "source": [
    "x = np.sort(trace['duration'])\n",
    "y = np.arange(1, len(x)+1) / len(x)\n",
    "\n",
    "# Create the plot\n",
    "fig, ax = plt.subplots()\n",
    "ax.plot(x, y)\n",
    "\n",
    "# Set the x-axis to a logarithmic scale\n",
    "ax.set_xscale('log')\n",
    "\n",
    "# Set the tick locations and labels for the x-axis\n",
    "ax.set_xticks([0.001,0.01,0.1,1, 10, 100,300,500])\n",
    "ax.set_xticklabels(['0.001','0.01','0.1','1','10', '100','300','500'])\n",
    "fig.set_figwidth(10)\n",
    "# Display the plot\n",
    "plt.xlabel('duration(s)')\n",
    "plt.ylabel('CDF')\n",
    "plt.show()\n",
    "\n",
    "a = trace.loc[trace['duration'] <=1]\n",
    "print(\"{} out of {} total functions has execution time of less than 0.1s, {} %\".format(len(a), len(trace), len(a)/len(trace)*100))"
   ]
  },
  {
   "cell_type": "markdown",
   "id": "074bfc82",
   "metadata": {},
   "source": [
    "# invocation duration of applications (adding up all functions duration under the same application)"
   ]
  },
  {
   "cell_type": "code",
   "execution_count": 26,
   "id": "a33a0395",
   "metadata": {
    "scrolled": true
   },
   "outputs": [
    {
     "data": {
      "text/html": [
       "<div>\n",
       "<style scoped>\n",
       "    .dataframe tbody tr th:only-of-type {\n",
       "        vertical-align: middle;\n",
       "    }\n",
       "\n",
       "    .dataframe tbody tr th {\n",
       "        vertical-align: top;\n",
       "    }\n",
       "\n",
       "    .dataframe thead th {\n",
       "        text-align: right;\n",
       "    }\n",
       "</style>\n",
       "<table border=\"1\" class=\"dataframe\">\n",
       "  <thead>\n",
       "    <tr style=\"text-align: right;\">\n",
       "      <th></th>\n",
       "      <th>app_id</th>\n",
       "      <th>duration</th>\n",
       "    </tr>\n",
       "  </thead>\n",
       "  <tbody>\n",
       "    <tr>\n",
       "      <th>0</th>\n",
       "      <td>85effaac4d59e8d2b8cce94be2794ccae809b5ee04701003a3475bcef198a7c9</td>\n",
       "      <td>1299852.707</td>\n",
       "    </tr>\n",
       "    <tr>\n",
       "      <th>1</th>\n",
       "      <td>a4a3c0390fad6c1ab8f2dc77113af81781edc24961772adb9fe5219bd8b3f2af</td>\n",
       "      <td>1039683.413</td>\n",
       "    </tr>\n",
       "    <tr>\n",
       "      <th>2</th>\n",
       "      <td>734272c01926d19690e5ec308bab64ef97950b75b1c7582283e0783fce1751d8</td>\n",
       "      <td>964339.937</td>\n",
       "    </tr>\n",
       "    <tr>\n",
       "      <th>3</th>\n",
       "      <td>85479ef37b5dc75dd5aeca3bab499129b97a134dac5d740d2c68941de9d63031</td>\n",
       "      <td>641037.551</td>\n",
       "    </tr>\n",
       "    <tr>\n",
       "      <th>4</th>\n",
       "      <td>1573b95c039e51cc012b543a4af3bc7c3ee9485acbb0033ba5648b74969e0556</td>\n",
       "      <td>581711.665</td>\n",
       "    </tr>\n",
       "    <tr>\n",
       "      <th>5</th>\n",
       "      <td>6e42a4e8ea1df408e059ba37d0e04255fd8385235b310265a57091132d760a65</td>\n",
       "      <td>321577.584</td>\n",
       "    </tr>\n",
       "    <tr>\n",
       "      <th>6</th>\n",
       "      <td>7fa05b607ae861b85ec53cea12d3efaed8be0f9a92f5d6e8067244161d491e96</td>\n",
       "      <td>188252.585</td>\n",
       "    </tr>\n",
       "    <tr>\n",
       "      <th>7</th>\n",
       "      <td>70b9cea7ca266637479483f517194c402dfe99b5fc2357e6ebac5e715c9a34a2</td>\n",
       "      <td>175441.887</td>\n",
       "    </tr>\n",
       "    <tr>\n",
       "      <th>8</th>\n",
       "      <td>046b5f12d0ed300f37f207b6fb77b87e23fad3a7480d764b0f278e9822b945a0</td>\n",
       "      <td>168829.442</td>\n",
       "    </tr>\n",
       "    <tr>\n",
       "      <th>9</th>\n",
       "      <td>d27353c8ad7c924a609457eb5a53333a7e519bcf8efd884dcca7ffb908ca3fa6</td>\n",
       "      <td>147942.518</td>\n",
       "    </tr>\n",
       "  </tbody>\n",
       "</table>\n",
       "</div>"
      ],
      "text/plain": [
       "                                                             app_id  \\\n",
       "0  85effaac4d59e8d2b8cce94be2794ccae809b5ee04701003a3475bcef198a7c9   \n",
       "1  a4a3c0390fad6c1ab8f2dc77113af81781edc24961772adb9fe5219bd8b3f2af   \n",
       "2  734272c01926d19690e5ec308bab64ef97950b75b1c7582283e0783fce1751d8   \n",
       "3  85479ef37b5dc75dd5aeca3bab499129b97a134dac5d740d2c68941de9d63031   \n",
       "4  1573b95c039e51cc012b543a4af3bc7c3ee9485acbb0033ba5648b74969e0556   \n",
       "5  6e42a4e8ea1df408e059ba37d0e04255fd8385235b310265a57091132d760a65   \n",
       "6  7fa05b607ae861b85ec53cea12d3efaed8be0f9a92f5d6e8067244161d491e96   \n",
       "7  70b9cea7ca266637479483f517194c402dfe99b5fc2357e6ebac5e715c9a34a2   \n",
       "8  046b5f12d0ed300f37f207b6fb77b87e23fad3a7480d764b0f278e9822b945a0   \n",
       "9  d27353c8ad7c924a609457eb5a53333a7e519bcf8efd884dcca7ffb908ca3fa6   \n",
       "\n",
       "      duration  \n",
       "0  1299852.707  \n",
       "1  1039683.413  \n",
       "2   964339.937  \n",
       "3   641037.551  \n",
       "4   581711.665  \n",
       "5   321577.584  \n",
       "6   188252.585  \n",
       "7   175441.887  \n",
       "8   168829.442  \n",
       "9   147942.518  "
      ]
     },
     "execution_count": 26,
     "metadata": {},
     "output_type": "execute_result"
    }
   ],
   "source": [
    "duration_per_application = trace.groupby(['app_id'])['duration'].sum().rename_axis('app_id').reset_index(name='duration').sort_values(['duration'], ascending=[False])\n",
    "duration_per_application.reset_index(drop=True, inplace=True)\n",
    "duration_per_application.head(10)\n"
   ]
  },
  {
   "cell_type": "code",
   "execution_count": 28,
   "id": "039984e7",
   "metadata": {},
   "outputs": [
    {
     "data": {
      "image/png": "[encoded data removed]",
      "text/plain": [
       "<Figure size 720x288 with 1 Axes>"
      ]
     },
     "metadata": {
      "needs_background": "light"
     },
     "output_type": "display_data"
    },
    {
     "name": "stdout",
     "output_type": "stream",
     "text": [
      "86 out of 119 applications has total execution time of less than 10,000s, 72.26890756302521 %\n"
     ]
    }
   ],
   "source": [
    "x = np.sort(duration_per_application['duration'])\n",
    "y = np.arange(1, len(x)+1) / len(x)\n",
    "# Create the plot\n",
    "fig, ax = plt.subplots()\n",
    "ax.plot(x, y)\n",
    "\n",
    "# Set the x-axis to a logarithmic scale\n",
    "ax.set_xscale('log')\n",
    "\n",
    "# Set the tick locations and labels for the x-axis\n",
    "ax.set_xticks([1,10, 100,500,10000,100000,500000])\n",
    "ax.set_xticklabels(['1','10', '100','500','10000','100000','500000'])\n",
    "fig.set_figwidth(10)\n",
    "# Display the plot\n",
    "plt.xlabel('duration(s)')\n",
    "plt.ylabel('CDF')\n",
    "plt.show()\n",
    "\n",
    "a = duration_per_application.loc[duration_per_application['duration'] <=10000]\n",
    "print(\"{} out of {} applications has total execution time of less than 10,000s, {} %\".format(len(a), len(duration_per_application), len(a)/len(duration_per_application)*100))"
   ]
  },
  {
   "cell_type": "markdown",
   "id": "896b08dc",
   "metadata": {},
   "source": [
    "# We can compare the top applications with the most number of functions vs the top application with the longest execution duration"
   ]
  },
  {
   "cell_type": "code",
   "execution_count": 29,
   "id": "03f2f6fe",
   "metadata": {},
   "outputs": [
    {
     "data": {
      "text/html": [
       "<div>\n",
       "<style scoped>\n",
       "    .dataframe tbody tr th:only-of-type {\n",
       "        vertical-align: middle;\n",
       "    }\n",
       "\n",
       "    .dataframe tbody tr th {\n",
       "        vertical-align: top;\n",
       "    }\n",
       "\n",
       "    .dataframe thead th {\n",
       "        text-align: right;\n",
       "    }\n",
       "</style>\n",
       "<table border=\"1\" class=\"dataframe\">\n",
       "  <thead>\n",
       "    <tr style=\"text-align: right;\">\n",
       "      <th></th>\n",
       "      <th>app_id</th>\n",
       "      <th>duration</th>\n",
       "    </tr>\n",
       "  </thead>\n",
       "  <tbody>\n",
       "    <tr>\n",
       "      <th>0</th>\n",
       "      <td>85effaac4d59e8d2b8cce94be2794ccae809b5ee04701003a3475bcef198a7c9</td>\n",
       "      <td>1299852.707</td>\n",
       "    </tr>\n",
       "    <tr>\n",
       "      <th>1</th>\n",
       "      <td>a4a3c0390fad6c1ab8f2dc77113af81781edc24961772adb9fe5219bd8b3f2af</td>\n",
       "      <td>1039683.413</td>\n",
       "    </tr>\n",
       "    <tr>\n",
       "      <th>2</th>\n",
       "      <td>734272c01926d19690e5ec308bab64ef97950b75b1c7582283e0783fce1751d8</td>\n",
       "      <td>964339.937</td>\n",
       "    </tr>\n",
       "    <tr>\n",
       "      <th>3</th>\n",
       "      <td>85479ef37b5dc75dd5aeca3bab499129b97a134dac5d740d2c68941de9d63031</td>\n",
       "      <td>641037.551</td>\n",
       "    </tr>\n",
       "    <tr>\n",
       "      <th>4</th>\n",
       "      <td>1573b95c039e51cc012b543a4af3bc7c3ee9485acbb0033ba5648b74969e0556</td>\n",
       "      <td>581711.665</td>\n",
       "    </tr>\n",
       "    <tr>\n",
       "      <th>5</th>\n",
       "      <td>6e42a4e8ea1df408e059ba37d0e04255fd8385235b310265a57091132d760a65</td>\n",
       "      <td>321577.584</td>\n",
       "    </tr>\n",
       "    <tr>\n",
       "      <th>6</th>\n",
       "      <td>7fa05b607ae861b85ec53cea12d3efaed8be0f9a92f5d6e8067244161d491e96</td>\n",
       "      <td>188252.585</td>\n",
       "    </tr>\n",
       "    <tr>\n",
       "      <th>7</th>\n",
       "      <td>70b9cea7ca266637479483f517194c402dfe99b5fc2357e6ebac5e715c9a34a2</td>\n",
       "      <td>175441.887</td>\n",
       "    </tr>\n",
       "    <tr>\n",
       "      <th>8</th>\n",
       "      <td>046b5f12d0ed300f37f207b6fb77b87e23fad3a7480d764b0f278e9822b945a0</td>\n",
       "      <td>168829.442</td>\n",
       "    </tr>\n",
       "    <tr>\n",
       "      <th>9</th>\n",
       "      <td>d27353c8ad7c924a609457eb5a53333a7e519bcf8efd884dcca7ffb908ca3fa6</td>\n",
       "      <td>147942.518</td>\n",
       "    </tr>\n",
       "  </tbody>\n",
       "</table>\n",
       "</div>"
      ],
      "text/plain": [
       "                                                             app_id  \\\n",
       "0  85effaac4d59e8d2b8cce94be2794ccae809b5ee04701003a3475bcef198a7c9   \n",
       "1  a4a3c0390fad6c1ab8f2dc77113af81781edc24961772adb9fe5219bd8b3f2af   \n",
       "2  734272c01926d19690e5ec308bab64ef97950b75b1c7582283e0783fce1751d8   \n",
       "3  85479ef37b5dc75dd5aeca3bab499129b97a134dac5d740d2c68941de9d63031   \n",
       "4  1573b95c039e51cc012b543a4af3bc7c3ee9485acbb0033ba5648b74969e0556   \n",
       "5  6e42a4e8ea1df408e059ba37d0e04255fd8385235b310265a57091132d760a65   \n",
       "6  7fa05b607ae861b85ec53cea12d3efaed8be0f9a92f5d6e8067244161d491e96   \n",
       "7  70b9cea7ca266637479483f517194c402dfe99b5fc2357e6ebac5e715c9a34a2   \n",
       "8  046b5f12d0ed300f37f207b6fb77b87e23fad3a7480d764b0f278e9822b945a0   \n",
       "9  d27353c8ad7c924a609457eb5a53333a7e519bcf8efd884dcca7ffb908ca3fa6   \n",
       "\n",
       "      duration  \n",
       "0  1299852.707  \n",
       "1  1039683.413  \n",
       "2   964339.937  \n",
       "3   641037.551  \n",
       "4   581711.665  \n",
       "5   321577.584  \n",
       "6   188252.585  \n",
       "7   175441.887  \n",
       "8   168829.442  \n",
       "9   147942.518  "
      ]
     },
     "execution_count": 29,
     "metadata": {},
     "output_type": "execute_result"
    }
   ],
   "source": [
    "duration_per_application.head(10)"
   ]
  },
  {
   "cell_type": "code",
   "execution_count": 30,
   "id": "729756fd",
   "metadata": {},
   "outputs": [
    {
     "data": {
      "text/html": [
       "<div>\n",
       "<style scoped>\n",
       "    .dataframe tbody tr th:only-of-type {\n",
       "        vertical-align: middle;\n",
       "    }\n",
       "\n",
       "    .dataframe tbody tr th {\n",
       "        vertical-align: top;\n",
       "    }\n",
       "\n",
       "    .dataframe thead th {\n",
       "        text-align: right;\n",
       "    }\n",
       "</style>\n",
       "<table border=\"1\" class=\"dataframe\">\n",
       "  <thead>\n",
       "    <tr style=\"text-align: right;\">\n",
       "      <th></th>\n",
       "      <th>unique_application_id</th>\n",
       "      <th>func_counts</th>\n",
       "    </tr>\n",
       "  </thead>\n",
       "  <tbody>\n",
       "    <tr>\n",
       "      <th>0</th>\n",
       "      <td>a9fd6223e00378edd60a03c721f9345f34d198757a4057b349d0e85e3aa111b2</td>\n",
       "      <td>29</td>\n",
       "    </tr>\n",
       "    <tr>\n",
       "      <th>1</th>\n",
       "      <td>3efeb602c2eb29e2729b18ad18da8936f44c862a205fd915f5a40c8df429cf04</td>\n",
       "      <td>23</td>\n",
       "    </tr>\n",
       "    <tr>\n",
       "      <th>2</th>\n",
       "      <td>96149d3ed4f00afb92f12856101e693e93c4683f030ae6ca6ebfbb7ba5a2a345</td>\n",
       "      <td>16</td>\n",
       "    </tr>\n",
       "    <tr>\n",
       "      <th>3</th>\n",
       "      <td>a0ed6d33dc4622e0a557f45a85a64d359ca20c3e5888fe64519cc08893395a98</td>\n",
       "      <td>15</td>\n",
       "    </tr>\n",
       "    <tr>\n",
       "      <th>4</th>\n",
       "      <td>b81ed828cb5e719288b0c64b3e27bcd36d78d32c4e45657670b847f988fea43d</td>\n",
       "      <td>15</td>\n",
       "    </tr>\n",
       "    <tr>\n",
       "      <th>5</th>\n",
       "      <td>a03d8277f9ec95f7202dbb6fbce63466b552f028c9aedffa03791d629e58124d</td>\n",
       "      <td>14</td>\n",
       "    </tr>\n",
       "    <tr>\n",
       "      <th>6</th>\n",
       "      <td>dfcd50e431bff00cbb9b2fb9e3e6f312fab091b64488a46c6dffe525830aacea</td>\n",
       "      <td>13</td>\n",
       "    </tr>\n",
       "    <tr>\n",
       "      <th>7</th>\n",
       "      <td>7b2c43a2bc30f6bb438074df88b603d2cb982d3e7961de05270735055950a568</td>\n",
       "      <td>12</td>\n",
       "    </tr>\n",
       "    <tr>\n",
       "      <th>8</th>\n",
       "      <td>734272c01926d19690e5ec308bab64ef97950b75b1c7582283e0783fce1751d8</td>\n",
       "      <td>10</td>\n",
       "    </tr>\n",
       "    <tr>\n",
       "      <th>9</th>\n",
       "      <td>b1034a4b389601e02fcf2318a83a64cc779bf47aa1100a6782cf14c91569cba0</td>\n",
       "      <td>9</td>\n",
       "    </tr>\n",
       "  </tbody>\n",
       "</table>\n",
       "</div>"
      ],
      "text/plain": [
       "                                              unique_application_id  \\\n",
       "0  a9fd6223e00378edd60a03c721f9345f34d198757a4057b349d0e85e3aa111b2   \n",
       "1  3efeb602c2eb29e2729b18ad18da8936f44c862a205fd915f5a40c8df429cf04   \n",
       "2  96149d3ed4f00afb92f12856101e693e93c4683f030ae6ca6ebfbb7ba5a2a345   \n",
       "3  a0ed6d33dc4622e0a557f45a85a64d359ca20c3e5888fe64519cc08893395a98   \n",
       "4  b81ed828cb5e719288b0c64b3e27bcd36d78d32c4e45657670b847f988fea43d   \n",
       "5  a03d8277f9ec95f7202dbb6fbce63466b552f028c9aedffa03791d629e58124d   \n",
       "6  dfcd50e431bff00cbb9b2fb9e3e6f312fab091b64488a46c6dffe525830aacea   \n",
       "7  7b2c43a2bc30f6bb438074df88b603d2cb982d3e7961de05270735055950a568   \n",
       "8  734272c01926d19690e5ec308bab64ef97950b75b1c7582283e0783fce1751d8   \n",
       "9  b1034a4b389601e02fcf2318a83a64cc779bf47aa1100a6782cf14c91569cba0   \n",
       "\n",
       "   func_counts  \n",
       "0           29  \n",
       "1           23  \n",
       "2           16  \n",
       "3           15  \n",
       "4           15  \n",
       "5           14  \n",
       "6           13  \n",
       "7           12  \n",
       "8           10  \n",
       "9            9  "
      ]
     },
     "execution_count": 30,
     "metadata": {},
     "output_type": "execute_result"
    }
   ],
   "source": [
    "function_per_application_count.head(10)"
   ]
  },
  {
   "cell_type": "markdown",
   "id": "630c438f",
   "metadata": {},
   "source": [
    "# Here, we can see that the top 10 application with the most number of functions against their total execution time"
   ]
  },
  {
   "cell_type": "code",
   "execution_count": 35,
   "id": "4e485c55",
   "metadata": {},
   "outputs": [
    {
     "data": {
      "text/html": [
       "<div>\n",
       "<style scoped>\n",
       "    .dataframe tbody tr th:only-of-type {\n",
       "        vertical-align: middle;\n",
       "    }\n",
       "\n",
       "    .dataframe tbody tr th {\n",
       "        vertical-align: top;\n",
       "    }\n",
       "\n",
       "    .dataframe thead th {\n",
       "        text-align: right;\n",
       "    }\n",
       "</style>\n",
       "<table border=\"1\" class=\"dataframe\">\n",
       "  <thead>\n",
       "    <tr style=\"text-align: right;\">\n",
       "      <th></th>\n",
       "      <th>app_id</th>\n",
       "      <th>duration</th>\n",
       "    </tr>\n",
       "  </thead>\n",
       "  <tbody>\n",
       "    <tr>\n",
       "      <th>2</th>\n",
       "      <td>734272c01926d19690e5ec308bab64ef97950b75b1c7582283e0783fce1751d8</td>\n",
       "      <td>964339.937</td>\n",
       "    </tr>\n",
       "    <tr>\n",
       "      <th>11</th>\n",
       "      <td>96149d3ed4f00afb92f12856101e693e93c4683f030ae6ca6ebfbb7ba5a2a345</td>\n",
       "      <td>108430.759</td>\n",
       "    </tr>\n",
       "    <tr>\n",
       "      <th>28</th>\n",
       "      <td>b1034a4b389601e02fcf2318a83a64cc779bf47aa1100a6782cf14c91569cba0</td>\n",
       "      <td>14632.899</td>\n",
       "    </tr>\n",
       "    <tr>\n",
       "      <th>46</th>\n",
       "      <td>a0ed6d33dc4622e0a557f45a85a64d359ca20c3e5888fe64519cc08893395a98</td>\n",
       "      <td>1732.036</td>\n",
       "    </tr>\n",
       "    <tr>\n",
       "      <th>50</th>\n",
       "      <td>a03d8277f9ec95f7202dbb6fbce63466b552f028c9aedffa03791d629e58124d</td>\n",
       "      <td>1595.392</td>\n",
       "    </tr>\n",
       "    <tr>\n",
       "      <th>51</th>\n",
       "      <td>a9fd6223e00378edd60a03c721f9345f34d198757a4057b349d0e85e3aa111b2</td>\n",
       "      <td>1594.054</td>\n",
       "    </tr>\n",
       "    <tr>\n",
       "      <th>52</th>\n",
       "      <td>7b2c43a2bc30f6bb438074df88b603d2cb982d3e7961de05270735055950a568</td>\n",
       "      <td>1418.387</td>\n",
       "    </tr>\n",
       "    <tr>\n",
       "      <th>72</th>\n",
       "      <td>b81ed828cb5e719288b0c64b3e27bcd36d78d32c4e45657670b847f988fea43d</td>\n",
       "      <td>233.435</td>\n",
       "    </tr>\n",
       "    <tr>\n",
       "      <th>80</th>\n",
       "      <td>3efeb602c2eb29e2729b18ad18da8936f44c862a205fd915f5a40c8df429cf04</td>\n",
       "      <td>72.208</td>\n",
       "    </tr>\n",
       "    <tr>\n",
       "      <th>89</th>\n",
       "      <td>dfcd50e431bff00cbb9b2fb9e3e6f312fab091b64488a46c6dffe525830aacea</td>\n",
       "      <td>37.604</td>\n",
       "    </tr>\n",
       "  </tbody>\n",
       "</table>\n",
       "</div>"
      ],
      "text/plain": [
       "                                                              app_id  \\\n",
       "2   734272c01926d19690e5ec308bab64ef97950b75b1c7582283e0783fce1751d8   \n",
       "11  96149d3ed4f00afb92f12856101e693e93c4683f030ae6ca6ebfbb7ba5a2a345   \n",
       "28  b1034a4b389601e02fcf2318a83a64cc779bf47aa1100a6782cf14c91569cba0   \n",
       "46  a0ed6d33dc4622e0a557f45a85a64d359ca20c3e5888fe64519cc08893395a98   \n",
       "50  a03d8277f9ec95f7202dbb6fbce63466b552f028c9aedffa03791d629e58124d   \n",
       "51  a9fd6223e00378edd60a03c721f9345f34d198757a4057b349d0e85e3aa111b2   \n",
       "52  7b2c43a2bc30f6bb438074df88b603d2cb982d3e7961de05270735055950a568   \n",
       "72  b81ed828cb5e719288b0c64b3e27bcd36d78d32c4e45657670b847f988fea43d   \n",
       "80  3efeb602c2eb29e2729b18ad18da8936f44c862a205fd915f5a40c8df429cf04   \n",
       "89  dfcd50e431bff00cbb9b2fb9e3e6f312fab091b64488a46c6dffe525830aacea   \n",
       "\n",
       "      duration  \n",
       "2   964339.937  \n",
       "11  108430.759  \n",
       "28   14632.899  \n",
       "46    1732.036  \n",
       "50    1595.392  \n",
       "51    1594.054  \n",
       "52    1418.387  \n",
       "72     233.435  \n",
       "80      72.208  \n",
       "89      37.604  "
      ]
     },
     "execution_count": 35,
     "metadata": {},
     "output_type": "execute_result"
    }
   ],
   "source": [
    "top_function_counts = ['a9fd6223e00378edd60a03c721f9345f34d198757a4057','3efeb602c2eb29e2729b18ad18da8936f44c862a205fd9','96149d3ed4f00afb92f12856101e693e93c4683f030ae6','a0ed6d33dc4622e0a557f45a85a64d359ca20c3e5888fe','b81ed828cb5e719288b0c64b3e27bcd36d78d32c4e4565','a03d8277f9ec95f7202dbb6fbce63466b552f028c9aedf','dfcd50e431bff00cbb9b2fb9e3e6f312fab091b64488a4','7b2c43a2bc30f6bb438074df88b603d2cb982d3e7961de','734272c01926d19690e5ec308bab64ef97950b75b1c758','b1034a4b389601e02fcf2318a83a64cc779bf47aa1100a']\n",
    "top_function_duration = duration_per_application[duration_per_application['app_id'].str.contains('|'.join(top_function_counts))]\n",
    "top_function_duration"
   ]
  },
  {
   "cell_type": "markdown",
   "id": "d524dc19",
   "metadata": {},
   "source": [
    "# Here, we can see that the top 10 application with the longest execution time have majority only single digit function counts"
   ]
  },
  {
   "cell_type": "code",
   "execution_count": 37,
   "id": "b077e27d",
   "metadata": {},
   "outputs": [
    {
     "data": {
      "text/html": [
       "<div>\n",
       "<style scoped>\n",
       "    .dataframe tbody tr th:only-of-type {\n",
       "        vertical-align: middle;\n",
       "    }\n",
       "\n",
       "    .dataframe tbody tr th {\n",
       "        vertical-align: top;\n",
       "    }\n",
       "\n",
       "    .dataframe thead th {\n",
       "        text-align: right;\n",
       "    }\n",
       "</style>\n",
       "<table border=\"1\" class=\"dataframe\">\n",
       "  <thead>\n",
       "    <tr style=\"text-align: right;\">\n",
       "      <th></th>\n",
       "      <th>unique_application_id</th>\n",
       "      <th>func_counts</th>\n",
       "    </tr>\n",
       "  </thead>\n",
       "  <tbody>\n",
       "    <tr>\n",
       "      <th>2</th>\n",
       "      <td>96149d3ed4f00afb92f12856101e693e93c4683f030ae6ca6ebfbb7ba5a2a345</td>\n",
       "      <td>16</td>\n",
       "    </tr>\n",
       "    <tr>\n",
       "      <th>10</th>\n",
       "      <td>85479ef37b5dc75dd5aeca3bab499129b97a134dac5d740d2c68941de9d63031</td>\n",
       "      <td>9</td>\n",
       "    </tr>\n",
       "    <tr>\n",
       "      <th>14</th>\n",
       "      <td>85effaac4d59e8d2b8cce94be2794ccae809b5ee04701003a3475bcef198a7c9</td>\n",
       "      <td>7</td>\n",
       "    </tr>\n",
       "    <tr>\n",
       "      <th>19</th>\n",
       "      <td>a4a3c0390fad6c1ab8f2dc77113af81781edc24961772adb9fe5219bd8b3f2af</td>\n",
       "      <td>6</td>\n",
       "    </tr>\n",
       "    <tr>\n",
       "      <th>20</th>\n",
       "      <td>046b5f12d0ed300f37f207b6fb77b87e23fad3a7480d764b0f278e9822b945a0</td>\n",
       "      <td>5</td>\n",
       "    </tr>\n",
       "    <tr>\n",
       "      <th>21</th>\n",
       "      <td>1573b95c039e51cc012b543a4af3bc7c3ee9485acbb0033ba5648b74969e0556</td>\n",
       "      <td>5</td>\n",
       "    </tr>\n",
       "    <tr>\n",
       "      <th>39</th>\n",
       "      <td>70b9cea7ca266637479483f517194c402dfe99b5fc2357e6ebac5e715c9a34a2</td>\n",
       "      <td>3</td>\n",
       "    </tr>\n",
       "    <tr>\n",
       "      <th>52</th>\n",
       "      <td>6e42a4e8ea1df408e059ba37d0e04255fd8385235b310265a57091132d760a65</td>\n",
       "      <td>2</td>\n",
       "    </tr>\n",
       "    <tr>\n",
       "      <th>73</th>\n",
       "      <td>d27353c8ad7c924a609457eb5a53333a7e519bcf8efd884dcca7ffb908ca3fa6</td>\n",
       "      <td>1</td>\n",
       "    </tr>\n",
       "    <tr>\n",
       "      <th>114</th>\n",
       "      <td>7fa05b607ae861b85ec53cea12d3efaed8be0f9a92f5d6e8067244161d491e96</td>\n",
       "      <td>1</td>\n",
       "    </tr>\n",
       "  </tbody>\n",
       "</table>\n",
       "</div>"
      ],
      "text/plain": [
       "                                                unique_application_id  \\\n",
       "2    96149d3ed4f00afb92f12856101e693e93c4683f030ae6ca6ebfbb7ba5a2a345   \n",
       "10   85479ef37b5dc75dd5aeca3bab499129b97a134dac5d740d2c68941de9d63031   \n",
       "14   85effaac4d59e8d2b8cce94be2794ccae809b5ee04701003a3475bcef198a7c9   \n",
       "19   a4a3c0390fad6c1ab8f2dc77113af81781edc24961772adb9fe5219bd8b3f2af   \n",
       "20   046b5f12d0ed300f37f207b6fb77b87e23fad3a7480d764b0f278e9822b945a0   \n",
       "21   1573b95c039e51cc012b543a4af3bc7c3ee9485acbb0033ba5648b74969e0556   \n",
       "39   70b9cea7ca266637479483f517194c402dfe99b5fc2357e6ebac5e715c9a34a2   \n",
       "52   6e42a4e8ea1df408e059ba37d0e04255fd8385235b310265a57091132d760a65   \n",
       "73   d27353c8ad7c924a609457eb5a53333a7e519bcf8efd884dcca7ffb908ca3fa6   \n",
       "114  7fa05b607ae861b85ec53cea12d3efaed8be0f9a92f5d6e8067244161d491e96   \n",
       "\n",
       "     func_counts  \n",
       "2             16  \n",
       "10             9  \n",
       "14             7  \n",
       "19             6  \n",
       "20             5  \n",
       "21             5  \n",
       "39             3  \n",
       "52             2  \n",
       "73             1  \n",
       "114            1  "
      ]
     },
     "execution_count": 37,
     "metadata": {},
     "output_type": "execute_result"
    }
   ],
   "source": [
    "top_application_time = ['85effaac4d59e8d2b8cce94be2794ccae809b5ee047010','a4a3c0390fad6c1ab8f2dc77113af81781edc24961772a','96149d3ed4f00afb92f12856101e693e93c4683f030ae6','85479ef37b5dc75dd5aeca3bab499129b97a134dac5d74','1573b95c039e51cc012b543a4af3bc7c3ee9485acbb003','6e42a4e8ea1df408e059ba37d0e04255fd8385235b3102','7fa05b607ae861b85ec53cea12d3efaed8be0f9a92f5d6','70b9cea7ca266637479483f517194c402dfe99b5fc2357','046b5f12d0ed300f37f207b6fb77b87e23fad3a7480d76','d27353c8ad7c924a609457eb5a53333a7e519bcf8efd88']\n",
    "top_function_count = function_per_application_count[function_per_application_count['unique_application_id'].str.contains('|'.join(top_application_time))]\n",
    "top_function_count"
   ]
  },
  {
   "cell_type": "code",
   "execution_count": 38,
   "id": "0eb4ed76",
   "metadata": {},
   "outputs": [],
   "source": [
    "a = duration_per_application['duration']\n",
    "b = top_function_duration['duration']"
   ]
  },
  {
   "cell_type": "code",
   "execution_count": 39,
   "id": "717fd9ac",
   "metadata": {},
   "outputs": [
    {
     "data": {
      "image/png": "[encoded data removed]",
      "text/plain": [
       "<Figure size 432x288 with 1 Axes>"
      ]
     },
     "metadata": {
      "needs_background": "light"
     },
     "output_type": "display_data"
    }
   ],
   "source": [
    "fig, ax = plt.subplots()\n",
    "ax.plot(a, label = \"Overall application\", linestyle=\"--\")\n",
    "ax.plot(b, label = \"Top 10 application function counts\", linestyle=\"\",marker=\"o\", ms = 10)\n",
    "ax.ticklabel_format(useOffset=False, style='plain')\n",
    "# plot lines\n",
    "# plt.plot(a, label = \"line 1\", linestyle=\":\")\n",
    "# plt.plot(b, label = \"line 2\", linestyle=\"\",marker=\"o\")\n",
    "\n",
    "plt.xlabel('Application ranking')\n",
    "plt.ylabel('Duration (s)')\n",
    "plt.legend()\n",
    "plt.show()"
   ]
  },
  {
   "cell_type": "code",
   "execution_count": 40,
   "id": "768a9844",
   "metadata": {},
   "outputs": [],
   "source": [
    "a = function_per_application_count['func_counts']\n",
    "b = top_function_count['func_counts']"
   ]
  },
  {
   "cell_type": "code",
   "execution_count": 41,
   "id": "e2275472",
   "metadata": {},
   "outputs": [
    {
     "data": {
      "image/png": "[encoded data removed]",
      "text/plain": [
       "<Figure size 432x288 with 1 Axes>"
      ]
     },
     "metadata": {
      "needs_background": "light"
     },
     "output_type": "display_data"
    }
   ],
   "source": [
    "fig, ax = plt.subplots()\n",
    "ax.plot(a, label = \"Overall application\", linestyle=\"--\")\n",
    "ax.plot(b, label = \"Top 10 application duration\", linestyle=\"\",marker=\"o\",ms = 10 )\n",
    "ax.ticklabel_format(useOffset=False, style='plain')\n",
    "# plot lines\n",
    "# plt.plot(a, label = \"line 1\", linestyle=\":\")\n",
    "# plt.plot(b, label = \"line 2\", linestyle=\"\",marker=\"o\")\n",
    "\n",
    "plt.xlabel('Application ranking')\n",
    "plt.ylabel('No. of functions')\n",
    "plt.legend()\n",
    "plt.show()"
   ]
  },
  {
   "cell_type": "markdown",
   "id": "b04ae8a1",
   "metadata": {},
   "source": [
    "# Graph 4: interval time between each subsequent incoming invocations from the trace"
   ]
  },
  {
   "cell_type": "code",
   "execution_count": 3,
   "id": "30ebc36c",
   "metadata": {},
   "outputs": [],
   "source": [
    "def functionInterval(list_end_timestamp,list_start_timestamp):\n",
    "    listInterval=[]\n",
    "    #assume first function invocation has no delay\n",
    "    listInterval.append(0)\n",
    "    for i in range(len(list_start_timestamp)-1):\n",
    "    #for i in range(5-1):\n",
    "        #print(\"start(i+1): {} start(i): {} difference: {}\".format(list_start_timestamp[i+1],list_start_timestamp[i],list_start_timestamp[i+1]-list_start_timestamp[i]))\n",
    "        listInterval.append(list_start_timestamp[i+1]-list_start_timestamp[i])\n",
    "    return listInterval\n",
    "\n",
    "#sort by the order that the functions are being executed\n",
    "final_df = trace.sort_values(by=['start_timestamp'], ascending=True)\n",
    "list_start_timestamp = final_df['start_timestamp'].tolist()\n",
    "list_end_timestamp = final_df['end_timestamp'].tolist()\n",
    "\n",
    "a = functionInterval(list_end_timestamp,list_start_timestamp)\n",
    "# mutate the column interval onto the dataset\n",
    "trace['interval'] = a\n"
   ]
  },
  {
   "cell_type": "code",
   "execution_count": 4,
   "id": "c5cc2e56",
   "metadata": {},
   "outputs": [
    {
     "data": {
      "image/png": "[encoded data removed]",
      "text/plain": [
       "<Figure size 360x288 with 1 Axes>"
      ]
     },
     "metadata": {
      "needs_background": "light"
     },
     "output_type": "display_data"
    },
    {
     "name": "stdout",
     "output_type": "stream",
     "text": [
      "1738457 out of 1980951 incoming functions has interval time of less than 1s, 87.75870781256073 %\n"
     ]
    }
   ],
   "source": [
    "x = np.sort(trace['interval'])\n",
    "y = np.arange(1, len(x)+1) / len(x)\n",
    "\n",
    "# Create the plot\n",
    "fig, ax = plt.subplots()\n",
    "ax.plot(x, y)\n",
    "\n",
    "# Set the x-axis to a logarithmic scale\n",
    "ax.set_xscale('symlog')\n",
    "\n",
    "# Set the tick locations and labels for the x-axis\n",
    "ax.set_xticks([0.1,1, 10, 100])\n",
    "ax.set_xticklabels(['0.1','1','10', '100'])\n",
    "fig.set_figwidth(5)\n",
    "# Display the plot\n",
    "plt.xlabel('Interval Time (s)')\n",
    "plt.ylabel('CDF')\n",
    "plt.show()\n",
    "\n",
    "a = trace.loc[trace['interval'] <=1]\n",
    "print(\"{} out of {} incoming functions has interval time of less than 1s, {} %\".format(len(a), len(trace), len(a)/len(trace)*100))"
   ]
  },
  {
   "cell_type": "code",
   "execution_count": 43,
   "id": "5c6bfb0c",
   "metadata": {},
   "outputs": [
    {
     "data": {
      "text/plain": [
       "count    1.980951e+06\n",
       "mean     6.106157e-01\n",
       "std      2.229057e+00\n",
       "min      0.000000e+00\n",
       "25%      4.050105e-02\n",
       "50%      1.443369e-01\n",
       "75%      4.812805e-01\n",
       "max      1.202443e+02\n",
       "Name: interval, dtype: float64"
      ]
     },
     "execution_count": 43,
     "metadata": {},
     "output_type": "execute_result"
    }
   ],
   "source": [
    "trace['interval'].describe()\n"
   ]
  },
  {
   "cell_type": "markdown",
   "id": "43c8de0b",
   "metadata": {},
   "source": [
    "# average interval time between each subsequent incoming invocations of the SAME function"
   ]
  },
  {
   "cell_type": "code",
   "execution_count": 5,
   "id": "b0fc0a31",
   "metadata": {
    "scrolled": true
   },
   "outputs": [
    {
     "data": {
      "image/png": "[encoded data removed]",
      "text/plain": [
       "<Figure size 360x288 with 1 Axes>"
      ]
     },
     "metadata": {
      "needs_background": "light"
     },
     "output_type": "display_data"
    },
    {
     "name": "stdout",
     "output_type": "stream",
     "text": [
      "424\n",
      "311 out of 424 incoming functions has interval time of less than 10 minute, 73.34905660377359 %\n"
     ]
    }
   ],
   "source": [
    "import numpy as np\n",
    "import matplotlib.pyplot as plt\n",
    "\n",
    "# Sample data: List of invocation with function name and interval time\n",
    "idle_time = trace[['func_id','IT']]\n",
    "invocation_data = idle_time.values.tolist()\n",
    "\n",
    "# Convert invocation data to a dictionary of daily invocation per function\n",
    "daily_invocations = {}\n",
    "\n",
    "for invocation in invocation_data:\n",
    "    function_name, interval_time = invocation\n",
    "    if function_name in daily_invocations:\n",
    "        daily_invocations[function_name].append(interval_time)\n",
    "    else:\n",
    "        daily_invocations[function_name] = [interval_time]\n",
    "    \n",
    "\n",
    "# Calculate cumulative sum of invocation counts per function\n",
    "average_list = []\n",
    "for function_name, invocations in daily_invocations.items():\n",
    "    avg = np.mean(invocations)\n",
    "    average_list.append(avg)\n",
    "\n",
    "# Plot CDF curves for each function\n",
    "x = np.sort(average_list)\n",
    "y = np.arange(1, len(x)+1) / len(x)\n",
    "fig, ax = plt.subplots()\n",
    "ax.plot(x, y, linestyle=\"-\")\n",
    "\n",
    "# Set the x-axis to a logarithmic scale\n",
    "ax.set_xscale('symlog')\n",
    "ax.set_xticks([0,1, 10, 100,1000])\n",
    "ax.set_xticklabels(['0','1','10', '100','1000'])\n",
    "\n",
    "fig.set_figwidth(5)\n",
    "\n",
    "# Add labels and title\n",
    "plt.xlabel('Interval Time (mins)')\n",
    "plt.ylabel('CDF')\n",
    "#plt.title('CDF of IT(Interval time) per Function')\n",
    "#ax.ticklabel_format(useOffset=False, style='plain')\n",
    "#ax.ticklabel_format(useOffset=False, style='plain')\n",
    "\n",
    "\n",
    "# Add legend\n",
    "#plt.legend()\n",
    "\n",
    "# Show the plot\n",
    "plt.show()\n",
    "\n",
    "df_interval_list = pd.DataFrame(average_list)\n",
    "a = df_interval_list.loc[df_interval_list[0] <=10]\n",
    "print(len(df_interval_list))\n",
    "print(\"{} out of {} incoming functions has interval time of less than 10 minute, {} %\".format(len(a), len(df_interval_list), len(a)/len(df_interval_list)*100))"
   ]
  },
  {
   "cell_type": "code",
   "execution_count": 45,
   "id": "c8c6373f",
   "metadata": {},
   "outputs": [
    {
     "data": {
      "text/html": [
       "<div>\n",
       "<style scoped>\n",
       "    .dataframe tbody tr th:only-of-type {\n",
       "        vertical-align: middle;\n",
       "    }\n",
       "\n",
       "    .dataframe tbody tr th {\n",
       "        vertical-align: top;\n",
       "    }\n",
       "\n",
       "    .dataframe thead th {\n",
       "        text-align: right;\n",
       "    }\n",
       "</style>\n",
       "<table border=\"1\" class=\"dataframe\">\n",
       "  <thead>\n",
       "    <tr style=\"text-align: right;\">\n",
       "      <th></th>\n",
       "      <th>0</th>\n",
       "    </tr>\n",
       "  </thead>\n",
       "  <tbody>\n",
       "    <tr>\n",
       "      <th>count</th>\n",
       "      <td>424.000000</td>\n",
       "    </tr>\n",
       "    <tr>\n",
       "      <th>mean</th>\n",
       "      <td>221.079853</td>\n",
       "    </tr>\n",
       "    <tr>\n",
       "      <th>std</th>\n",
       "      <td>872.603059</td>\n",
       "    </tr>\n",
       "    <tr>\n",
       "      <th>min</th>\n",
       "      <td>0.000000</td>\n",
       "    </tr>\n",
       "    <tr>\n",
       "      <th>25%</th>\n",
       "      <td>0.000000</td>\n",
       "    </tr>\n",
       "    <tr>\n",
       "      <th>50%</th>\n",
       "      <td>0.212235</td>\n",
       "    </tr>\n",
       "    <tr>\n",
       "      <th>75%</th>\n",
       "      <td>14.000000</td>\n",
       "    </tr>\n",
       "    <tr>\n",
       "      <th>max</th>\n",
       "      <td>11159.000000</td>\n",
       "    </tr>\n",
       "  </tbody>\n",
       "</table>\n",
       "</div>"
      ],
      "text/plain": [
       "                  0\n",
       "count    424.000000\n",
       "mean     221.079853\n",
       "std      872.603059\n",
       "min        0.000000\n",
       "25%        0.000000\n",
       "50%        0.212235\n",
       "75%       14.000000\n",
       "max    11159.000000"
      ]
     },
     "execution_count": 45,
     "metadata": {},
     "output_type": "execute_result"
    }
   ],
   "source": [
    "df_interval_list.describe()"
   ]
  },
  {
   "cell_type": "markdown",
   "id": "77a4e8dd",
   "metadata": {},
   "source": [
    "# Graph 5: number of invocation per hour, for 2 weeks\n",
    "- group applications invocation by days (binning in multiple of 216,000 seconds = 1day) - line chart\n"
   ]
  },
  {
   "cell_type": "code",
   "execution_count": 46,
   "id": "5165b31e",
   "metadata": {},
   "outputs": [],
   "source": [
    "invocation = { 0:0}\n",
    "start = 0\n",
    "end = 3600\n",
    "hour = 0\n",
    "timestamp = trace['start_timestamp'].values.tolist()\n",
    "\n",
    "for ST in timestamp:\n",
    "    if ST >= start and ST <=end:\n",
    "        invocation[hour] +=1\n",
    "    else:\n",
    "        hour+=1\n",
    "        start+=3600\n",
    "        end+=3600\n",
    "        invocation[hour]=0"
   ]
  },
  {
   "cell_type": "code",
   "execution_count": 47,
   "id": "7faaa9d1",
   "metadata": {},
   "outputs": [
    {
     "name": "stdout",
     "output_type": "stream",
     "text": [
      "['', 'day 0', 'day 2', 'day 4', 'day 6', 'day 8', 'day 10', 'day 12', 'day 14', '']\n"
     ]
    },
    {
     "data": {
      "image/png": "[encoded data removed]",
      "text/plain": [
       "<Figure size 1080x288 with 1 Axes>"
      ]
     },
     "metadata": {
      "needs_background": "light"
     },
     "output_type": "display_data"
    }
   ],
   "source": [
    "x = []\n",
    "y = []\n",
    "for hour, count in invocation.items():\n",
    "    x.append(hour)\n",
    "    y.append(count)\n",
    "    \n",
    "fig, ax = plt.subplots()\n",
    "ax.plot(x, y, label = \"invocations\", linestyle=\"-\")\n",
    "\n",
    "fig.set_figwidth(15)\n",
    "\n",
    "# Add labels and title\n",
    "plt.xlabel('Days')\n",
    "plt.ylabel('No. of invocation')\n",
    "plt.title('Number of invocation per hour')\n",
    "#ax.ticklabel_format(useOffset=False, style='plain')\n",
    "#ax.ticklabel_format(useOffset=False, style='plain')\n",
    "\n",
    "labels = [item.get_text() for item in ax.get_xticklabels()]\n",
    "count = 0\n",
    "for i in range(2,9):\n",
    "    count +=1\n",
    "    labels[i] = 'day {}'.format(count*2)\n",
    "labels[1]='day 0'\n",
    "print(labels)\n",
    "ax.set_xticklabels(labels)\n",
    "\n",
    "# Add legend\n",
    "plt.legend()\n",
    "\n",
    "# Show the plot\n",
    "plt.show()"
   ]
  },
  {
   "cell_type": "code",
   "execution_count": 48,
   "id": "a05d29f3",
   "metadata": {},
   "outputs": [
    {
     "name": "stdout",
     "output_type": "stream",
     "text": [
      "Lowest value: Key=152, Value=326, day = 6.333333333333333\n",
      "Highest value: Key=310, Value=46052, day = 12.916666666666666\n"
     ]
    }
   ],
   "source": [
    "min_key = min(invocation, key=invocation.get)\n",
    "min_value = invocation[min_key]\n",
    "print(f\"Lowest value: Key={min_key}, Value={min_value}, day = {min_key/24}\")\n",
    "\n",
    "# Get key and value of the highest value\n",
    "max_key = max(invocation, key=invocation.get)\n",
    "max_value = invocation[max_key]\n",
    "print(f\"Highest value: Key={max_key}, Value={max_value}, day = {max_key/24}\")\n"
   ]
  },
  {
   "cell_type": "markdown",
   "id": "e5b904a8",
   "metadata": {},
   "source": [
    "# CV analysis"
   ]
  },
  {
   "cell_type": "code",
   "execution_count": 52,
   "id": "b85b2720",
   "metadata": {
    "scrolled": true
   },
   "outputs": [
    {
     "data": {
      "image/png": "[encoded data removed]",
      "text/plain": [
       "<Figure size 432x288 with 1 Axes>"
      ]
     },
     "metadata": {
      "needs_background": "light"
     },
     "output_type": "display_data"
    }
   ],
   "source": [
    "import numpy as np\n",
    "import matplotlib.pyplot as plt\n",
    "\n",
    "#selecting subset of list for simulation\n",
    "\n",
    "filter_rows = trace.iloc[1000000:1010000]\n",
    "sampleTest = filter_rows[['app_id','func_id','start_timestamp','IT']]\n",
    "first_row_start_time = sampleTest.iloc[0, 2]\n",
    "sampleTest['start_timestamp'] = sampleTest['start_timestamp'] - first_row_start_time\n",
    "sampleTest = sampleTest.reset_index(drop = True)\n",
    "#append the date to the DF\n",
    "\n",
    "sampleTest.head()\n",
    "\n",
    "incoming_invocations = sampleTest.values.tolist()\n",
    "\n",
    "def calculate_CV(app_bins):\n",
    "    N = len(app_bins)\n",
    "    M = 0\n",
    "    S = 0\n",
    "\n",
    "    for k in range(1, N+1):\n",
    "        x = app_bins[k-1]\n",
    "        oldM = M\n",
    "        M = M + (x - M) / k\n",
    "        S = S + (x - M) * (x - oldM)\n",
    "    \n",
    "    return S / (N - 1)\n",
    "\n",
    "# Sample data: List of invocation with function name and interval time\n",
    "idle_time = sampleTest[['func_id','IT']]\n",
    "invocation_data = idle_time.values.tolist()\n",
    "\n",
    "\n",
    "# Convert invocation data to a dictionary of daily invocation per function\n",
    "daily_invocations = {}\n",
    "\n",
    "for invocation in invocation_data:\n",
    "    function_name, interval_time = invocation\n",
    "    if function_name in daily_invocations:\n",
    "        daily_invocations[function_name].append(interval_time)\n",
    "    else:\n",
    "        daily_invocations[function_name] = [interval_time]\n",
    "    \n",
    "\n",
    "# Calculate cumulative sum of invocation counts per function\n",
    "average_list = []\n",
    "CV_ranking = {}\n",
    "for function_name, invocations in daily_invocations.items():\n",
    "    counts, bins, _ = plt.hist(invocations, bins=240, range=(0, 240), density=False, edgecolor='black')\n",
    "    CV = calculate_CV(counts)\n",
    "    average_list.append(CV)\n",
    "    CV_ranking[function_name] = CV\n",
    "    "
   ]
  },
  {
   "cell_type": "code",
   "execution_count": 55,
   "id": "20c98a56",
   "metadata": {
    "scrolled": true
   },
   "outputs": [
    {
     "data": {
      "text/plain": [
       "{'ef2a2bc4e618a858b01e35be621968fe83764f376add8206195bd5876dc3a15f': 0.0,\n",
       " '102992e9e972d134ec0139cff7bfa30e972fd7ab90823cbf9c67c8f28ee07723': 0.0,\n",
       " 'b7e7d053011238b864618638466dcb386155ddfd5bcb29452899146866592615': 0.0,\n",
       " '4a58f4f30e96fdc2cbf8a589c1f2e2dac12a9468a0823f303432978538bd9c6c': 0.0,\n",
       " 'aa71fa462e3958a4d3193b44ea4d0854e9967a190877ace1c29d59d681e8c08d': 0.004166666666666665,\n",
       " 'c34cc21a3d54eb79302cacf992de37087ff2e0a58f1c8cdcfec89e978d143517': 0.004166666666666665,\n",
       " '5d5438d93d49387ba02837a7a370cb796522b5ca1de952c5336b1904d0278daf': 0.004166666666666665,\n",
       " '762fc922e0558dc7a188f03f82772779282c5828447ee73a84068df17756d7b7': 0.004166666666666665,\n",
       " '188c48df0965e228d47b64594c51fbc1c7fb431ac38ac59114fedbe1c6b44d7d': 0.004166666666666665,\n",
       " '09d33e85ae78ebab23a84a199c638e9711f216bb2a9bd26c59eb032b4f77fa35': 0.004166666666666665,\n",
       " 'd1813c1d64f97bae544e030ca3f49b0fcdeefe06d976bc93338fcf5ac935a558': 0.004166666666666665,\n",
       " '28ed8f5feed647bfda8cb9ca88a292d7cab8e461ab07b7be6477ca87f02d16fc': 0.004166666666666667,\n",
       " '27bf83f566fee037674aca11948e22150d01805bde82c789521d845fb96381df': 0.008298465829846583,\n",
       " 'c14b4bae54949a5b47081f285371c7d5bf0a60688a9f453298fa2bf6f85c99e2': 0.01666666666666666,\n",
       " 'e82f3b15ea2b9416b78d343a714f0156ff977191eaa5ff2996f06721239199a7': 0.01666666666666666,\n",
       " 'b7810d88770bd16e81d7787596597dee8ba2c88caeac31c1fedbc927b46cd262': 0.024825662482566246,\n",
       " '50bb98931d9e1fbba7d4411188779a5fc732fb5eaefca0c5de8bbb4f89ae540f': 0.03680264993026499,\n",
       " 'f8028773adc7867afcc54a2529032efd9c2ad7d46ba2cd9144966d4aba2712c8': 0.041562064156206426,\n",
       " 'd0c2acba96865aa48b000a084a1a256144153464ce8c14cd1bc21bb68bfc6d6f': 0.06666666666666664,\n",
       " 'dea190b390aa80ac2384632e91f5032bb78fc96ed12c22ef5c24a2847ba20e7b': 0.06666666666666664,\n",
       " '619caebdeff262e3b78a18e5c54a48f33f871f4210d57657e7fe4ce847e5a22c': 0.07357043235704323,\n",
       " '2cf25c6b121c99858da49cc401d57da49e0bdecd64d87aa0864f43c0bf343c32': 0.08645397489539751,\n",
       " '26709bc96ccb44b50e27a7be5cd8779e6b2301f0317bd22ccf228451c9af0ffc': 0.11992677824267782,\n",
       " 'd6b549affa248ec3db7443756f7155f40a49568bd10feb2ee35991c5fbd356f2': 0.20808926080892623,\n",
       " '04bf55f0a9d790ed3fd18c9960facdc85bca4e37974ccf0bb130d53936aac0c2': 0.2531206415620642,\n",
       " '4709036608e8deb4a562d881d2f0c5b4c49b3fb997ea7619da2ecf8bfc7b756a': 0.26666666666666655,\n",
       " 'b874d29de7ac8448ad3ad7dc3bdb8eadacf9df8f5746b352e5ed33ad90a580e7': 0.30711297071129734,\n",
       " '6b176c7a4c2a386204009baa180f099ec4980ce6e3e21a6861deaae7ad02ff5b': 0.33221757322175755,\n",
       " 'cd5a0be4e2cd7316d96047a7d4414e1c1706348b0b4aaee4f6cef25bcd6097ae': 0.3413528591352857,\n",
       " '97d6075b5c2b8fe67580274dbc57ffa982cd4e8d8bb7185f5ac2aac3b5bedf47': 0.3413528591352858,\n",
       " '2f2899ba8eb4ff50f5aff33df1a718f314948e8d195853f9217ab034573316d4': 0.35732217573221803,\n",
       " '8e88f42ec8c23fe44f8bad6c720351f21e56770ccd6b420e47796c9086a1d705': 0.3694386331938634,\n",
       " '38efaba861a5b15a20e34eca56eb09b983b316315d47c3ec8556ee89ecb99b5c': 0.4166666666666664,\n",
       " '77b0bef51008a4aea545c80879ef910dcbac1be1bda049db39817c64e7aec259': 0.5041666666666668,\n",
       " '7ddfe501d602bf7f0b90c6d80858e682eb7917354f6ca21f116d8c09b0a92f99': 0.5041666666666668,\n",
       " 'e6d0b781899c4822dda2bbdfe3a369eb478ce7db471aae7216aab6eda1e3051f': 0.5394700139470014,\n",
       " '68bbfd828223a505d7917339f4656c5f33ff93225cdb9d0fcbc9889edb49253a': 0.6087691771269165,\n",
       " 'e3cdb48830f66eb8689cc0223514569a69812b77e6611e3d59814fac0747bd2f': 0.6219665271966539,\n",
       " 'b30c90f74cc45cfcc1100ee232ad164c07645fb81b0409a423a7efbc6801b89c': 0.8323570432357038,\n",
       " '73d79bc1c654df7041737d9856a812398505da8bd63221dd832e5bd6bcf41851': 0.8323570432357038,\n",
       " '368bba83aafdb6e4ea12ae43820d30a14db888ce60f14521a06a2b4b7b05fa1e': 1.1380055788005587,\n",
       " '514a9bcff07d21b5580057748e55e78bb062e3001a01b75b497939d5378cc78c': 1.357043235704323,\n",
       " 'a84a988dcb614c6878e4fdcabc2d6d88f8eb2976d19865382fc67392c2525eeb': 1.392451185495119,\n",
       " 'ce1741e6cd9d97275485f48c50ce4700c4c22377bb2e5162e097f550f9d4e209': 1.4008193863319387,\n",
       " '449a838aea8cfe82bbf555476c04178732c351ca433788b9e59ea12f18a27817': 1.6666666666666656,\n",
       " 'b0b69bff286131daff6d4607fc300fdf1bfff18afd673729eb0ad3f2a80a40df': 1.7020746164574614,\n",
       " 'f36070dc919886d064b13a96bd0ad86ef36231cdb0f300372fdf96aaf8a54689': 1.844334030683403,\n",
       " '324b066a00beb334a11097adf27dfa12a8493e49b728588741dc17bfe098adb7': 2.016666666666667,\n",
       " '905e6674359f6487df567fa2c8ca1c8641e7740f2e32d9fd26e9fe1ff7a4670d': 2.1094665271966537,\n",
       " '155e47f8e7f751d0c845049456d01832013c61336a8cd85901330ac821a71534': 3.037499999999998,\n",
       " '653cdbc309bc359f3289d3b4df21c4a8e478d22946b35cbfdab05377dcacd3e0': 3.7321478382147824,\n",
       " '7940faf88dec730f882fc978f336d7a6db0c6069120abd95a953e9bfc988aecd': 12.24475244072525,\n",
       " 'cad5438d35e125ee9c4060b7083c78f20b41f9c2c5eadedb909208b3538750fd': 14.018811018131109,\n",
       " '7b0f28ac70d3af71d6f03866f2eaf250a4fabd999144d8180c4083b71feede89': 19.940010460251038,\n",
       " 'ebfe951bf36afd91115e54adab000c6325a83146c5f14e75ca03a16ed38f3831': 36.794909344490954,\n",
       " 'd880a3e25b4baf00977b29491a01e9cf3bfd963a31b2013859d67b2b43291d74': 39.63178172942816,\n",
       " 'cd9f7f333d59aede8088772edac3bff78c45e2dad8eb498b450b9af511452a36': 40.652649930265014,\n",
       " '1f33077bb2db73fd76a51e40e43f20173e3f038dd3f3705551751cf7724c3c40': 41.69030683403071,\n",
       " 'e6df36937abcf1f6d0be4f2e3ffd12d98717dd6f29a9cd233790506517888daf': 44.61917712691773,\n",
       " '4a4146ed669e9c0bdb2c7db94558df4ec44bf31ec5609d066408de4a4215efbd': 46.49365411436543,\n",
       " '3d2aee54a133509f16fb636d74128c2adcfcac71c6dcef78fda1ace004f2ab47': 58.01666666666668,\n",
       " '0eb88b877c658e7ffe86aa9272bf6c54f2a9791c8d10b427f5827aef3a5d87fd': 58.01666666666668,\n",
       " '6b2db95773685aa6d1f646584bbe1252579a0513df8057fba88b144d32d85816': 119.93612273361212,\n",
       " 'ca8b2d1318a114f0efef6accb358b8cace2a39a81a2f7847234bc0180a0c65eb': 161.7041666666664,\n",
       " '34f4775366e51728635af48df1a96d332cf1565eee069a0030f12966ae760274': 161.7041666666664,\n",
       " '556ccf8758c8c2a20082c161e955405e950439f0503522fe129e709a5dc0e58f': 178.5375000000001,\n",
       " '8e5f533dbf1092f56ac6c7542ef3bdec4661bd442c9b5e7537fabc7b8c03f5a8': 263.35118549511856,\n",
       " 'c9f8e30e36d1aef62c10b3cfca6e289a93848a148d876dd514753040314f4817': 352.8909344490935,\n",
       " '9b61fd55aa093a2d172db1a68a60af5cf6cbfa7f5ea1fbc71846027a5954616d': 400.4166666666666,\n",
       " '313c03f53a0d31f70aec25f62efb33e7dd779725ca4af579018452d1204beaad': 1297.1285913528588,\n",
       " 'cc5bb2108cc7daf53f9728ad21f661a8ef9c8b36284bacfcb712e2be87eef842': 18567.8041143654,\n",
       " '30aa434528bc68ee07745ee7be3a0bdb33d58961fdc8460ce5b5b46b4def96e8': 56270.50599721054}"
      ]
     },
     "execution_count": 55,
     "metadata": {},
     "output_type": "execute_result"
    }
   ],
   "source": [
    "newlist = {k: v for k, v in sorted(CV_ranking.items(), key=lambda item: item[1])}\n",
    "newlist"
   ]
  },
  {
   "cell_type": "code",
   "execution_count": 56,
   "id": "6a998bc4",
   "metadata": {},
   "outputs": [
    {
     "data": {
      "image/png": "[encoded data removed]",
      "text/plain": [
       "<Figure size 360x288 with 1 Axes>"
      ]
     },
     "metadata": {
      "needs_background": "light"
     },
     "output_type": "display_data"
    },
    {
     "name": "stdout",
     "output_type": "stream",
     "text": [
      "69 out of 72 incoming functions has CV less than 500, 95.83333333333334 %\n"
     ]
    }
   ],
   "source": [
    "# Plot CDF curves for each function\n",
    "x = np.sort(average_list)\n",
    "y = np.arange(1, len(x)+1) / len(x)\n",
    "fig, ax = plt.subplots()\n",
    "ax.plot(x, y, label = \"functions CV\", linestyle=\"-\")\n",
    "\n",
    "# Set the x-axis to a logarithmic scale\n",
    "ax.set_xscale('symlog')\n",
    "ax.set_xticks([0,1, 10, 100,1000,10000,100000])\n",
    "ax.set_xticklabels(['0','1','10', '100','1000','10000','100000'])\n",
    "\n",
    "fig.set_figwidth(5)\n",
    "\n",
    "# Add labels and title\n",
    "plt.xlabel('CV value')\n",
    "plt.ylabel('CDF')\n",
    "#ax.ticklabel_format(useOffset=False, style='plain')\n",
    "#ax.ticklabel_format(useOffset=False, style='plain')\n",
    "\n",
    "\n",
    "# Add legend\n",
    "plt.legend()\n",
    "\n",
    "# Show the plot\n",
    "plt.show()\n",
    "\n",
    "df_interval_list = pd.DataFrame(average_list)\n",
    "a = df_interval_list.loc[df_interval_list[0] <=500]\n",
    "print(\"{} out of {} incoming functions has CV less than 500, {} %\".format(len(a), len(df_interval_list), len(a)/len(df_interval_list)*100))"
   ]
  },
  {
   "cell_type": "code",
   "execution_count": null,
   "id": "c97e07bf",
   "metadata": {},
   "outputs": [],
   "source": []
  }
 ],
 "metadata": {
  "kernelspec": {
   "display_name": "Python 3 (ipykernel)",
   "language": "python",
   "name": "python3"
  },
  "language_info": {
   "codemirror_mode": {
    "name": "ipython",
    "version": 3
   },
   "file_extension": ".py",
   "mimetype": "text/x-python",
   "name": "python",
   "nbconvert_exporter": "python",
   "pygments_lexer": "ipython3",
   "version": "3.9.7"
  }
 },
 "nbformat": 4,
 "nbformat_minor": 5
}
