{
 "cells": [
  {
   "cell_type": "code",
   "execution_count": 1,
   "id": "d1a7957a",
   "metadata": {},
   "outputs": [],
   "source": [
    "import pandas as pd\n",
    "import numpy as np\n",
    "import matplotlib.pyplot as plt\n",
    "import heapq as hq\n",
    "import datetime as dt\n",
    "import time\n",
    "pd.options.display.max_columns = None\n",
    "pd.set_option('display.max_rows', None)"
   ]
  },
  {
   "cell_type": "code",
   "execution_count": 2,
   "id": "f317aa39",
   "metadata": {
    "scrolled": false
   },
   "outputs": [
    {
     "data": {
      "text/html": [
       "<div>\n",
       "<style scoped>\n",
       "    .dataframe tbody tr th:only-of-type {\n",
       "        vertical-align: middle;\n",
       "    }\n",
       "\n",
       "    .dataframe tbody tr th {\n",
       "        vertical-align: top;\n",
       "    }\n",
       "\n",
       "    .dataframe thead th {\n",
       "        text-align: right;\n",
       "    }\n",
       "</style>\n",
       "<table border=\"1\" class=\"dataframe\">\n",
       "  <thead>\n",
       "    <tr style=\"text-align: right;\">\n",
       "      <th></th>\n",
       "      <th>app_id</th>\n",
       "      <th>func_id</th>\n",
       "      <th>start_timestamp</th>\n",
       "      <th>end_timestamp</th>\n",
       "      <th>duration</th>\n",
       "      <th>date</th>\n",
       "      <th>IT</th>\n",
       "    </tr>\n",
       "  </thead>\n",
       "  <tbody>\n",
       "    <tr>\n",
       "      <th>0</th>\n",
       "      <td>7b2c43a2bc30f6bb438074df88b603d2cb982d3e7961de...</td>\n",
       "      <td>e3cdb48830f66eb8689cc0223514569a69812b77e6611e...</td>\n",
       "      <td>0.001491</td>\n",
       "      <td>0.079491</td>\n",
       "      <td>0.078</td>\n",
       "      <td>2021-01-31 00:00:00.001491</td>\n",
       "      <td>0.0</td>\n",
       "    </tr>\n",
       "    <tr>\n",
       "      <th>1</th>\n",
       "      <td>1573b95c039e51cc012b543a4af3bc7c3ee9485acbb003...</td>\n",
       "      <td>337cd24a7d5fd5c92460faee4ebe6a186a0eb322bd17b7...</td>\n",
       "      <td>0.003860</td>\n",
       "      <td>57.157860</td>\n",
       "      <td>57.154</td>\n",
       "      <td>2021-01-31 00:00:00.003860</td>\n",
       "      <td>0.0</td>\n",
       "    </tr>\n",
       "    <tr>\n",
       "      <th>2</th>\n",
       "      <td>1573b95c039e51cc012b543a4af3bc7c3ee9485acbb003...</td>\n",
       "      <td>48cc770d590d3c5a7691b3b4e9302f82ec3be5ddc2a037...</td>\n",
       "      <td>0.005478</td>\n",
       "      <td>59.130478</td>\n",
       "      <td>59.125</td>\n",
       "      <td>2021-01-31 00:00:00.005478</td>\n",
       "      <td>0.0</td>\n",
       "    </tr>\n",
       "    <tr>\n",
       "      <th>3</th>\n",
       "      <td>f274d71de386ccc77e4ca74766dbc485461c3053059d47...</td>\n",
       "      <td>3d2aee54a133509f16fb636d74128c2adcfcac71c6dcef...</td>\n",
       "      <td>0.016541</td>\n",
       "      <td>6.252541</td>\n",
       "      <td>6.236</td>\n",
       "      <td>2021-01-31 00:00:00.016541</td>\n",
       "      <td>0.0</td>\n",
       "    </tr>\n",
       "    <tr>\n",
       "      <th>4</th>\n",
       "      <td>7b2c43a2bc30f6bb438074df88b603d2cb982d3e7961de...</td>\n",
       "      <td>68bbfd828223a505d7917339f4656c5f33ff93225cdb9d...</td>\n",
       "      <td>0.016824</td>\n",
       "      <td>0.066824</td>\n",
       "      <td>0.050</td>\n",
       "      <td>2021-01-31 00:00:00.016824</td>\n",
       "      <td>0.0</td>\n",
       "    </tr>\n",
       "  </tbody>\n",
       "</table>\n",
       "</div>"
      ],
      "text/plain": [
       "                                              app_id  \\\n",
       "0  7b2c43a2bc30f6bb438074df88b603d2cb982d3e7961de...   \n",
       "1  1573b95c039e51cc012b543a4af3bc7c3ee9485acbb003...   \n",
       "2  1573b95c039e51cc012b543a4af3bc7c3ee9485acbb003...   \n",
       "3  f274d71de386ccc77e4ca74766dbc485461c3053059d47...   \n",
       "4  7b2c43a2bc30f6bb438074df88b603d2cb982d3e7961de...   \n",
       "\n",
       "                                             func_id  start_timestamp  \\\n",
       "0  e3cdb48830f66eb8689cc0223514569a69812b77e6611e...         0.001491   \n",
       "1  337cd24a7d5fd5c92460faee4ebe6a186a0eb322bd17b7...         0.003860   \n",
       "2  48cc770d590d3c5a7691b3b4e9302f82ec3be5ddc2a037...         0.005478   \n",
       "3  3d2aee54a133509f16fb636d74128c2adcfcac71c6dcef...         0.016541   \n",
       "4  68bbfd828223a505d7917339f4656c5f33ff93225cdb9d...         0.016824   \n",
       "\n",
       "   end_timestamp  duration                       date   IT  \n",
       "0       0.079491     0.078 2021-01-31 00:00:00.001491  0.0  \n",
       "1      57.157860    57.154 2021-01-31 00:00:00.003860  0.0  \n",
       "2      59.130478    59.125 2021-01-31 00:00:00.005478  0.0  \n",
       "3       6.252541     6.236 2021-01-31 00:00:00.016541  0.0  \n",
       "4       0.066824     0.050 2021-01-31 00:00:00.016824  0.0  "
      ]
     },
     "execution_count": 2,
     "metadata": {},
     "output_type": "execute_result"
    }
   ],
   "source": [
    "trace = pd.read_csv('Trace2021/AzureFunctionsInvocationTraceForTwoWeeksJan2021.txt')\n",
    "trace[\"start_timestamp\"] = trace[\"end_timestamp\"] - trace[\"duration\"]\n",
    "trace = trace[['app','func','start_timestamp','end_timestamp','duration']]\n",
    "trace = trace.rename(columns = {'app': 'app_id', 'func': 'func_id'}, inplace = False)\n",
    "trace.sort_values(by=['start_timestamp'], ascending=False)\n",
    "\n",
    "#append the date to the DF\n",
    "newDate = []\n",
    "for i in range(0,len(trace)):\n",
    "    sd = dt.datetime(2021,1,31,0,0,0) # used to output incremental timestamp\n",
    "    sd = sd = sd + dt.timedelta(seconds = trace['start_timestamp'][i])\n",
    "    #print(sd)\n",
    "    newDate.append(sd)\n",
    "    \n",
    "#append IT to the DF\n",
    "listIT = []\n",
    "tempDict = {}\n",
    "app_id = trace['app_id']\n",
    "start_time = trace['start_timestamp']\n",
    "for i in range(0,len(trace)):\n",
    "    if tempDict.get(app_id[i]) == None:\n",
    "        tempDict[app_id[i]] = 0\n",
    "        listIT.append(0)\n",
    "    else:\n",
    "        IT = start_time[i] - tempDict.get(app_id[i])\n",
    "        IT = np.floor(IT/60)\n",
    "        tempDict[app_id[i]] = start_time[i]\n",
    "        listIT.append(IT)\n",
    "trace[\"date\"] = newDate\n",
    "trace[\"IT\"] = listIT\n",
    "trace.head()"
   ]
  },
  {
   "cell_type": "code",
   "execution_count": 74,
   "id": "fd288219",
   "metadata": {
    "scrolled": false
   },
   "outputs": [
    {
     "name": "stdout",
     "output_type": "stream",
     "text": [
      "798 of IT > 240\n"
     ]
    },
    {
     "data": {
      "text/html": [
       "<div>\n",
       "<style scoped>\n",
       "    .dataframe tbody tr th:only-of-type {\n",
       "        vertical-align: middle;\n",
       "    }\n",
       "\n",
       "    .dataframe tbody tr th {\n",
       "        vertical-align: top;\n",
       "    }\n",
       "\n",
       "    .dataframe thead th {\n",
       "        text-align: right;\n",
       "    }\n",
       "</style>\n",
       "<table border=\"1\" class=\"dataframe\">\n",
       "  <thead>\n",
       "    <tr style=\"text-align: right;\">\n",
       "      <th></th>\n",
       "      <th>IT</th>\n",
       "    </tr>\n",
       "    <tr>\n",
       "      <th>date</th>\n",
       "      <th></th>\n",
       "    </tr>\n",
       "  </thead>\n",
       "  <tbody>\n",
       "    <tr>\n",
       "      <th>2021-01-31 05:09:00.012561</th>\n",
       "      <td>309.0</td>\n",
       "    </tr>\n",
       "    <tr>\n",
       "      <th>2021-01-31 05:30:22.544734</th>\n",
       "      <td>330.0</td>\n",
       "    </tr>\n",
       "    <tr>\n",
       "      <th>2021-01-31 06:00:00.137055</th>\n",
       "      <td>360.0</td>\n",
       "    </tr>\n",
       "    <tr>\n",
       "      <th>2021-01-31 06:50:09.688900</th>\n",
       "      <td>410.0</td>\n",
       "    </tr>\n",
       "    <tr>\n",
       "      <th>2021-01-31 07:30:00.153601</th>\n",
       "      <td>330.0</td>\n",
       "    </tr>\n",
       "  </tbody>\n",
       "</table>\n",
       "</div>"
      ],
      "text/plain": [
       "                               IT\n",
       "date                             \n",
       "2021-01-31 05:09:00.012561  309.0\n",
       "2021-01-31 05:30:22.544734  330.0\n",
       "2021-01-31 06:00:00.137055  360.0\n",
       "2021-01-31 06:50:09.688900  410.0\n",
       "2021-01-31 07:30:00.153601  330.0"
      ]
     },
     "execution_count": 74,
     "metadata": {},
     "output_type": "execute_result"
    }
   ],
   "source": [
    "df = trace[['date','IT']]\n",
    "IT_more_than_240 = df.loc[df['IT'] > 240]\n",
    "IT_more_than_240.set_index('date',inplace=True)\n",
    "print(\"{} of IT > 240\".format(len(IT_more_than_240)))\n",
    "IT_more_than_240.head()"
   ]
  },
  {
   "cell_type": "code",
   "execution_count": 11,
   "id": "af963212",
   "metadata": {},
   "outputs": [
    {
     "name": "stdout",
     "output_type": "stream",
     "text": [
      "1980153 of IT < 240\n"
     ]
    },
    {
     "data": {
      "text/html": [
       "<div>\n",
       "<style scoped>\n",
       "    .dataframe tbody tr th:only-of-type {\n",
       "        vertical-align: middle;\n",
       "    }\n",
       "\n",
       "    .dataframe tbody tr th {\n",
       "        vertical-align: top;\n",
       "    }\n",
       "\n",
       "    .dataframe thead th {\n",
       "        text-align: right;\n",
       "    }\n",
       "</style>\n",
       "<table border=\"1\" class=\"dataframe\">\n",
       "  <thead>\n",
       "    <tr style=\"text-align: right;\">\n",
       "      <th></th>\n",
       "      <th>IT</th>\n",
       "    </tr>\n",
       "  </thead>\n",
       "  <tbody>\n",
       "    <tr>\n",
       "      <th>count</th>\n",
       "      <td>1.980153e+06</td>\n",
       "    </tr>\n",
       "    <tr>\n",
       "      <th>mean</th>\n",
       "      <td>1.563920e-01</td>\n",
       "    </tr>\n",
       "    <tr>\n",
       "      <th>std</th>\n",
       "      <td>3.000906e+00</td>\n",
       "    </tr>\n",
       "    <tr>\n",
       "      <th>min</th>\n",
       "      <td>-1.000000e+00</td>\n",
       "    </tr>\n",
       "    <tr>\n",
       "      <th>25%</th>\n",
       "      <td>0.000000e+00</td>\n",
       "    </tr>\n",
       "    <tr>\n",
       "      <th>50%</th>\n",
       "      <td>0.000000e+00</td>\n",
       "    </tr>\n",
       "    <tr>\n",
       "      <th>75%</th>\n",
       "      <td>0.000000e+00</td>\n",
       "    </tr>\n",
       "    <tr>\n",
       "      <th>max</th>\n",
       "      <td>2.400000e+02</td>\n",
       "    </tr>\n",
       "  </tbody>\n",
       "</table>\n",
       "</div>"
      ],
      "text/plain": [
       "                 IT\n",
       "count  1.980153e+06\n",
       "mean   1.563920e-01\n",
       "std    3.000906e+00\n",
       "min   -1.000000e+00\n",
       "25%    0.000000e+00\n",
       "50%    0.000000e+00\n",
       "75%    0.000000e+00\n",
       "max    2.400000e+02"
      ]
     },
     "execution_count": 11,
     "metadata": {},
     "output_type": "execute_result"
    }
   ],
   "source": [
    "IT_less_than_240 = df.loc[df['IT'] <= 240]\n",
    "IT_less_than_240.set_index('date',inplace=True)\n",
    "print(\"{} of IT < 240\".format(len(IT_less_than_240)))\n",
    "IT_less_than_240.describe()"
   ]
  },
  {
   "cell_type": "code",
   "execution_count": 71,
   "id": "8ddc044c",
   "metadata": {
    "scrolled": true
   },
   "outputs": [
    {
     "name": "stdout",
     "output_type": "stream",
     "text": [
      "1980951\n"
     ]
    }
   ],
   "source": [
    "dftest = trace[['date','IT']]\n",
    "dftest.set_index('date',inplace=True)\n",
    "print(len(dftest))"
   ]
  },
  {
   "cell_type": "code",
   "execution_count": 10,
   "id": "3b443a91",
   "metadata": {},
   "outputs": [
    {
     "data": {
      "text/plain": [
       "[<matplotlib.lines.Line2D at 0x23f403df310>]"
      ]
     },
     "execution_count": 10,
     "metadata": {},
     "output_type": "execute_result"
    },
    {
     "data": {
      "image/png": "[encoded data removed]",
      "text/plain": [
       "<Figure size 1080x360 with 3 Axes>"
      ]
     },
     "metadata": {
      "needs_background": "light"
     },
     "output_type": "display_data"
    }
   ],
   "source": [
    "fig, (ax1,ax2,ax3) = plt.subplots(1, 3,sharex=True, sharey=True, figsize=(15, 5))\n",
    "fig.autofmt_xdate(bottom=0.2, rotation=30, ha='right')\n",
    "ax1.set_xlabel('Normal IT')\n",
    "ax2.set_xlabel('IT < 240')\n",
    "ax3.set_xlabel('IT > 240')\n",
    "\n",
    "ax1.plot(dftest)\n",
    "ax2.plot(IT_less_than_240)\n",
    "ax3.plot(IT_more_than_240)"
   ]
  },
  {
   "cell_type": "code",
   "execution_count": null,
   "id": "476e6058",
   "metadata": {},
   "outputs": [],
   "source": [
    "#Testing for stationarity\n",
    "from pmdarima.arima import ADFTest\n",
    "adf_test = ADFTest(alpha = 0.05)\n",
    "adf_test.should_diff(dftest)"
   ]
  },
  {
   "cell_type": "code",
   "execution_count": 75,
   "id": "b19d6ba4",
   "metadata": {
    "scrolled": false
   },
   "outputs": [
    {
     "name": "stdout",
     "output_type": "stream",
     "text": [
      "option 1:\n",
      "actual size: (1980951, 1)\n",
      "train: (594286, 1) \n",
      "test: (1386665, 1) \n",
      "\n",
      "option 2:\n",
      "actual size: (798, 1)\n",
      "train: (639, 1) \n",
      "test: (159, 1)\n"
     ]
    }
   ],
   "source": [
    "#option 1 - build arima time series model prediction from IT: 0 -> 20000\n",
    "option1_train = dftest[:594286]\n",
    "option1_test = dftest[-1386665:]\n",
    "\n",
    "print('option 1:')\n",
    "print('actual size: {}\\ntrain: {} \\ntest: {} \\n'.format(dftest.shape,option1_train.shape,option1_test.shape))\n",
    "\n",
    "#option 2 - build arima time series model prediction from IT > 240 (4 hours)\n",
    "option2_train = IT_more_than_240[:639]\n",
    "option2_test = IT_more_than_240[-159:]\n",
    "\n",
    "print('option 2:')\n",
    "print('actual size: {}\\ntrain: {} \\ntest: {}'.format(IT_more_than_240.shape,option2_train.shape,option2_test.shape))"
   ]
  },
  {
   "cell_type": "code",
   "execution_count": 76,
   "id": "7d575638",
   "metadata": {},
   "outputs": [
    {
     "name": "stdout",
     "output_type": "stream",
     "text": [
      " ARIMA(5,1,0)(0,0,0)[0] intercept\n",
      " ARIMA(2,1,3)(0,0,0)[0] intercept\n"
     ]
    }
   ],
   "source": [
    "import pmdarima as pm\n",
    "model1 = pm.auto_arima(option1_train,stepwise= False, seasonal= False, suppress_warnings= True)\n",
    "model2 = pm.auto_arima(option2_train,stepwise= False, seasonal= False, suppress_warnings= True)\n",
    "print(model1)\n",
    "print(model2)"
   ]
  },
  {
   "cell_type": "code",
   "execution_count": 99,
   "id": "60acf677",
   "metadata": {},
   "outputs": [
    {
     "name": "stdout",
     "output_type": "stream",
     "text": [
      "<class 'pandas.core.frame.DataFrame'>\n",
      "DatetimeIndex: 639 entries, 2021-01-31 05:09:00.012561 to 2021-02-11 13:28:03.582941\n",
      "Data columns (total 1 columns):\n",
      " #   Column  Non-Null Count  Dtype  \n",
      "---  ------  --------------  -----  \n",
      " 0   IT      639 non-null    float64\n",
      "dtypes: float64(1)\n",
      "memory usage: 10.0 KB\n"
     ]
    }
   ],
   "source": [
    "model.summary()"
   ]
  },
  {
   "cell_type": "code",
   "execution_count": 83,
   "id": "2215ff80",
   "metadata": {
    "scrolled": false
   },
   "outputs": [
    {
     "data": {
      "text/plain": [
       "[<matplotlib.lines.Line2D at 0x23f6878f1f0>,\n",
       " <matplotlib.lines.Line2D at 0x23f740aa460>]"
      ]
     },
     "execution_count": 83,
     "metadata": {},
     "output_type": "execute_result"
    },
    {
     "data": {
      "image/png": "[encoded data removed]",
      "text/plain": [
       "<Figure size 1080x360 with 2 Axes>"
      ]
     },
     "metadata": {
      "needs_background": "light"
     },
     "output_type": "display_data"
    }
   ],
   "source": [
    "start = len(option1_train)\n",
    "end = len(option1_train) + len(option1_test) -1\n",
    "option1_predict = model1.predict(n_periods=len(option1_test))\n",
    "option1_df = dftest\n",
    "option1_predict.index = option1_df.index[start:end+1]\n",
    "option1_df['forecast'] = [None]*len(option1_train) + list(option1_predict)\n",
    "\n",
    "clearer_image = option1_df.iloc[-1386665:]\n",
    "\n",
    "fig, (ax1,ax2) = plt.subplots(1, 2, figsize=(15, 5))\n",
    "fig.autofmt_xdate(bottom=0.2, rotation=30, ha='right')\n",
    "\n",
    "\n",
    "ax1.plot(option1_df)\n",
    "ax2.plot(clearer_image)"
   ]
  },
  {
   "cell_type": "code",
   "execution_count": 79,
   "id": "55121c6a",
   "metadata": {},
   "outputs": [
    {
     "name": "stdout",
     "output_type": "stream",
     "text": [
      "Mean: 1.1712713597011535\n",
      "RMSE: 90.41110928250536\n"
     ]
    }
   ],
   "source": [
    "from sklearn import metrics\n",
    "\n",
    "print(\"Mean:\",option1_test['IT'].mean())\n",
    "#print(\"MSE:\",metrics.mean_squared_error(option2_test['IT'],option2_predict))\n",
    "print(\"RMSE:\",np.sqrt(metrics.mean_squared_error(option1_test['IT'],option1_predict)))"
   ]
  },
  {
   "cell_type": "code",
   "execution_count": 23,
   "id": "482dd402",
   "metadata": {},
   "outputs": [],
   "source": [
    "import warnings\n",
    "warnings.filterwarnings('ignore')\n",
    "#warnings.filterwarnings(action='once')"
   ]
  },
  {
   "cell_type": "code",
   "execution_count": 77,
   "id": "c1ab967c",
   "metadata": {},
   "outputs": [
    {
     "data": {
      "text/plain": [
       "[<matplotlib.lines.Line2D at 0x23f45aa3d90>,\n",
       " <matplotlib.lines.Line2D at 0x23f46742160>]"
      ]
     },
     "execution_count": 77,
     "metadata": {},
     "output_type": "execute_result"
    },
    {
     "data": {
      "image/png": "[encoded data removed]",
      "text/plain": [
       "<Figure size 1080x360 with 2 Axes>"
      ]
     },
     "metadata": {
      "needs_background": "light"
     },
     "output_type": "display_data"
    }
   ],
   "source": [
    "start = len(option2_train)\n",
    "end = len(option2_train) + len(option2_test) -1\n",
    "#forecasts = model2.predict(option2_test.shape[0])\n",
    "option2_predict = model2.predict(n_periods=len(option2_test))\n",
    "option2_df = IT_more_than_240\n",
    "option2_predict.index = option2_df.index[start:end+1]\n",
    "option2_df['forecast'] = [None]*len(option2_train) + list(option2_predict)\n",
    "#option2_df.plot()\n",
    "\n",
    "clearer_image = IT_more_than_240.iloc[-159:]\n",
    "\n",
    "fig, (ax1,ax2) = plt.subplots(1, 2, figsize=(15, 5))\n",
    "fig.autofmt_xdate(bottom=0.2, rotation=30, ha='right')\n",
    "\n",
    "\n",
    "ax1.plot(option2_df)\n",
    "ax2.plot(clearer_image)\n"
   ]
  },
  {
   "cell_type": "code",
   "execution_count": 45,
   "id": "ab415074",
   "metadata": {},
   "outputs": [
    {
     "name": "stdout",
     "output_type": "stream",
     "text": [
      "Mean: 1969.7735849056603\n",
      "RMSE: 4207.281869019089\n"
     ]
    }
   ],
   "source": [
    "from sklearn import metrics\n",
    "\n",
    "print(\"Mean:\",option2_test['IT'].mean())\n",
    "#print(\"MSE:\",metrics.mean_squared_error(option2_test['IT'],option2_predict))\n",
    "print(\"RMSE:\",np.sqrt(metrics.mean_squared_error(option2_test['IT'],option2_predict)))"
   ]
  },
  {
   "cell_type": "code",
   "execution_count": 68,
   "id": "7924375a",
   "metadata": {},
   "outputs": [
    {
     "data": {
      "text/plain": [
       "[<matplotlib.lines.Line2D at 0x23f45a6e5e0>,\n",
       " <matplotlib.lines.Line2D at 0x23f65f799d0>]"
      ]
     },
     "execution_count": 68,
     "metadata": {},
     "output_type": "execute_result"
    },
    {
     "data": {
      "image/png": "[encoded data removed]",
      "text/plain": [
       "<Figure size 1080x360 with 2 Axes>"
      ]
     },
     "metadata": {
      "needs_background": "light"
     },
     "output_type": "display_data"
    }
   ],
   "source": [
    "start = len(option2_train)\n",
    "end = len(option2_train) + len(option2_test) -1\n",
    "#forecasts = model2.predict(option2_test.shape[0])\n",
    "option2_predict = model2.predict(n_periods=len(option2_test))\n",
    "option2_df = IT_more_than_240\n",
    "option2_predict.index = option2_df.index[start:end+1]\n",
    "option2_df['forecast'] = [None]*len(option2_train) + list(option2_predict)\n",
    "#option2_df.plot()\n",
    "\n",
    "clearer_image = IT_more_than_240.iloc[-159:]\n",
    "\n",
    "fig, (ax1,ax2) = plt.subplots(1, 2, figsize=(15, 5))\n",
    "fig.autofmt_xdate(bottom=0.2, rotation=30, ha='right')\n",
    "ax1.set_xlabel('Normal IT')\n",
    "ax2.set_xlabel('IT < 240')\n",
    "\n",
    "ax1.plot(option2_df)\n",
    "ax2.plot(clearer_image)"
   ]
  },
  {
   "cell_type": "code",
   "execution_count": 69,
   "id": "2d260487",
   "metadata": {},
   "outputs": [
    {
     "name": "stdout",
     "output_type": "stream",
     "text": [
      "Mean: 1171.2521008403362\n",
      "RMSE: 3554.7307794752683\n"
     ]
    }
   ],
   "source": [
    "from sklearn import metrics\n",
    "\n",
    "print(\"Mean:\",option2_test['IT'].mean())\n",
    "#print(\"MSE:\",metrics.mean_squared_error(option2_test['IT'],option2_predict))\n",
    "print(\"RMSE:\",np.sqrt(metrics.mean_squared_error(option2_test['IT'],option2_predict)))"
   ]
  },
  {
   "cell_type": "code",
   "execution_count": 70,
   "id": "d26e4c2c",
   "metadata": {},
   "outputs": [
    {
     "data": {
      "text/plain": [
       "955    2214.615493\n",
       "956    2955.171601\n",
       "957    1562.362650\n",
       "958    2305.901644\n",
       "959    2850.001102\n",
       "dtype: float64"
      ]
     },
     "execution_count": 70,
     "metadata": {},
     "output_type": "execute_result"
    }
   ],
   "source": [
    "model2.predict(5)"
   ]
  },
  {
   "cell_type": "code",
   "execution_count": 34,
   "id": "c28d6885",
   "metadata": {},
   "outputs": [
    {
     "name": "stdout",
     "output_type": "stream",
     "text": [
      "<class 'pandas.core.frame.DataFrame'>\n",
      "DatetimeIndex: 798 entries, 2021-01-31 05:09:00.012561 to 2021-02-13 23:30:00.197834\n",
      "Data columns (total 2 columns):\n",
      " #   Column    Non-Null Count  Dtype  \n",
      "---  ------    --------------  -----  \n",
      " 0   IT        798 non-null    float64\n",
      " 1   forecast  159 non-null    float64\n",
      "dtypes: float64(2)\n",
      "memory usage: 18.7 KB\n"
     ]
    }
   ],
   "source": [
    "IT_more_than_240.info()"
   ]
  },
  {
   "cell_type": "markdown",
   "id": "ea9b7098",
   "metadata": {},
   "source": [
    "# implementing histogram\n",
    "- each application is stored in a dictionary as a key\n",
    "- each key has a list of idle time (IT), with the first position stored as the last invocation time\n",
    "- histogram will be plotted for every invidual key with bins of 0 to 240 (each bins are of 1mins total 4hour)"
   ]
  },
  {
   "cell_type": "code",
   "execution_count": null,
   "id": "66827f43",
   "metadata": {},
   "outputs": [],
   "source": [
    "#sample data 1: to reflect incoming invocation call\n",
    "#sampleTest = trace[['app_id','start_timestamp']].head(100)\n",
    "sampleTest = trace[['app_id','start_timestamp']]\n",
    "incoming_invocations = sampleTest.values.tolist()"
   ]
  },
  {
   "cell_type": "code",
   "execution_count": null,
   "id": "d38d9fb6",
   "metadata": {},
   "outputs": [],
   "source": [
    "incoming_invocations = [['app1', 1], # cold start, new id\n",
    "['app1', 65], # cold start, IT = 1min, keep alive = current time + 1min\n",
    "['app1', 130], # cold start, IT = 1min, keep alive 1min = current time + 1min\n",
    "['app1', 150]] # warm start, "
   ]
  },
  {
   "cell_type": "markdown",
   "id": "f96363c5",
   "metadata": {},
   "source": [
    "# how an application will be stored in a dictionary: \n",
    "{ 'application1': [datetime.datetime(2023, 3, 12, 2, 0, 22, 60499),  0.0,  0.0,  0.0,  0.0,  0.0,  0.0,  0.0,  0.0,  0.0,  0.0,  0.0], <br>\n",
    " 'application2': [datetime.datetime(2023, 3, 12, 2, 0, 22, 60499),  0.0,  0.0,  0.0,  0.0,  0.0,  0.0,  0.0,  0.0,  0.0,  0.0,  0.0] }\n",
    "- key: app_id\n",
    "- value: list of idle time (IT) for every invocation (first position of the list contains the most recent invocation time)\n",
    "- first element of the value is the latest function invocation time\n",
    "\n",
    "\n",
    "# keep_alive_list parameters:\n",
    "Priority heap queue: [(12.5, \"app1\"), (100, \"app2\"), (150, \"app3\")]\n",
    "- (keep alive until, application_id)\n"
   ]
  },
  {
   "cell_type": "code",
   "execution_count": null,
   "id": "17594ab0",
   "metadata": {},
   "outputs": [],
   "source": [
    "# dictionary to store all the app_id\n",
    "applicationDict = {}\n",
    "# list to store all the current keep alive application id\n",
    "keep_alive_list = []"
   ]
  },
  {
   "cell_type": "code",
   "execution_count": null,
   "id": "96ee8120",
   "metadata": {},
   "outputs": [],
   "source": [
    "default_keep_alive_time = 10\n",
    "\n",
    "# when an incoming function has been invoked\n",
    "def function_invoked(app_id):\n",
    "    # application id has not been seen before\n",
    "    if applicationDict.get(app_id) == None:\n",
    "        print(\"NEW app_id: {}\".format(app_id))\n",
    "        result.write(\"NEW app_id: {} \\n\".format(app_id))\n",
    "        applicationDict[app_id] = []\n",
    "        applicationDict[app_id].append(dt.datetime.now())\n",
    "        return -1\n",
    "    \n",
    "    # application id is already in the dictionary\n",
    "    else:\n",
    "        print(\"OLD app_id: {} \".format(app_id))\n",
    "        result.write(\"OLD app_id: {} \\n\".format(app_id))\n",
    "        curTime = dt.datetime.now()\n",
    "        # calculate idle time (IT) by datetime.now - last previous invoked timing\n",
    "        IT = curTime - applicationDict[app_id][0]\n",
    "        IT = np.floor(IT.seconds/60)\n",
    "        print('IDLE TIME (IT) for application: {} is: {} mins'.format(app_id,IT))\n",
    "        result.write('IDLE TIME (IT) for application: {} is: {} \\n'.format(app_id,IT))\n",
    "        # if the idle time is more than 240mins, return default 10mins as it is out of bounds (OOB)\n",
    "        if(IT > 240):\n",
    "            print('application {} is OOB with idle time of: {}'.format(app_id,IT))\n",
    "            return default_keep_alive_time\n",
    "        # add the IT into the dictionary and plot the histogram to determine the TTL duration (mins)\n",
    "        else:\n",
    "            #print(\"adding idle time into histogram\")\n",
    "            #result.write(\"adding idle time into histogram \\n\")\n",
    "            applicationDict[app_id].append(IT)\n",
    "            #update first index of list with the current time\n",
    "            applicationDict[app_id][0] = curTime\n",
    "            return plotHistogram(app_id)\n",
    "            \n",
    "# hybrid histogram policy\n",
    "# categorise the histogram into 240 different minutes bins, returning the bin with the highest amount of frequency\n",
    "# in the event of same frequency, return the lowest number bin\n",
    "def plotHistogram(app_id):\n",
    "    appData = applicationDict[app_id][1:]\n",
    "    print('app_id: {}\\'s IT data is: {}'.format(app_id, appData))\n",
    "    \n",
    "    # Plot histogram with 240 bins ranging from 0 to 240\n",
    "    counts, bins, _ = plt.hist(appData, bins=240, range=(0, 240), density=False, edgecolor='black')\n",
    "\n",
    "    # Add labels and title\n",
    "    plt.xlabel('Value')\n",
    "    plt.ylabel('Frequency')\n",
    "    plt.title('Histogram')\n",
    "\n",
    "    # Show the plot\n",
    "    plt.show()\n",
    "    plt.close()\n",
    "    print(counts)\n",
    "    data = counts.tolist()\n",
    "    #print(\"highest frequency of minutes bin of the application is: {}\".format(data.index(max(data))))\n",
    "    return data.index(max(data))\n",
    "\n",
    "def update_heap_element(keep_alive_list, new_time, app_id):\n",
    "    # Find the index of the element you want to update\n",
    "    index = next((i for i, (value1, value2) in enumerate(keep_alive_list) if value2 == app_id), None)\n",
    "\n",
    "    if index is not None:\n",
    "        # Update the value of the element\n",
    "        keep_alive_list[index] = (new_time, keep_alive_list[index][1])\n",
    "        # Rebuild the heap\n",
    "        hq.heapify(keep_alive_list)\n",
    "        keep_alive_list.sort()\n",
    "        print(\"warm start\")\n",
    "        result.write(\"warm start \\n\")\n",
    "    else:\n",
    "        hq.heappush(keep_alive_list, (new_time, app_id))\n",
    "        print(\"cold start\")\n",
    "        result.write(\"cold start \\n\")\n",
    "\n",
    "# Welford’s online algorithm (CV)\n",
    "def calculate_CV(app_bins):\n",
    "    N = len(app_bins)\n",
    "    M = 0\n",
    "    S = 0\n",
    "\n",
    "    for k in range(1, N+1):\n",
    "        x = app_bins[k-1]\n",
    "        oldM = M\n",
    "        M = M + (x - M) / k\n",
    "        S = S + (x - M) * (x - oldM)\n",
    "    \n",
    "    return S / (N - 1)\n",
    "\n",
    "def addKeepAlive(app_id,TTL):\n",
    "    return 0\n",
    "\n",
    "def removeKeepAlive(app_id):\n",
    "    return 0\n",
    "\n",
    "def checkKeepAlive():\n",
    "    return 0"
   ]
  },
  {
   "cell_type": "markdown",
   "id": "13a976aa",
   "metadata": {},
   "source": [
    "# simulation\n",
    "in this simulation, we have 2 kinds of timer, difference_timer and delta_timer.\n",
    "- difference_timer: incrementally increasing in time since the start for time calculation\n",
    "- delta_timer: printing of simulation's current time (every 1 second)"
   ]
  },
  {
   "cell_type": "code",
   "execution_count": null,
   "id": "9532cd3f",
   "metadata": {
    "scrolled": true
   },
   "outputs": [],
   "source": [
    "import datetime as dt\n",
    "import time\n",
    "\n",
    "start_time = dt.datetime.now()\n",
    "timer = dt.datetime(2021,1,31,0,0,0) # used to output incremental timestamp\n",
    "timer_temp = dt.datetime.now() # used to check for every second\n",
    "result = open(\"result.txt\",\"w\") # output logs into a txt file as data is large\n",
    "stop_time_seconds = 28800 # how long should the program run\n",
    "\n",
    "while True:\n",
    "    # accumulating seconds to track to check for incoming functions as well as calculating time to live (TTL)\n",
    "    difference_timer = dt.datetime.now()-start_time \n",
    "    \n",
    "    #non-incremental timer to check if 1sec has lapsed\n",
    "    delta_timer = dt.datetime.now()-timer_temp\n",
    "    \n",
    "    #print out every second incrementally\n",
    "    if delta_timer.seconds >= 1:\n",
    "        timer = timer + dt.timedelta(0,1)\n",
    "        print(timer.time())\n",
    "        result.write(\"{}\\n\".format(timer.time()))\n",
    "        timer_temp = dt.datetime.now()\n",
    "    \n",
    "    #if still have functions pending invocation\n",
    "    if len(incoming_invocations) != 0:\n",
    "        #while(True):\n",
    "        # since the start_time column is sorted, the first index is always the first to be invoked\n",
    "        incoming_application_time = dt.timedelta(seconds=incoming_invocations[0][1])\n",
    "        if(difference_timer >= incoming_application_time):\n",
    "        \n",
    "            print(\"TRIGGERED: application {} has been invoked\".format(incoming_invocations[0][0]))\n",
    "            result.write(\"TRIGGERED: application {} has been invoked \\n\".format(incoming_invocations[0][0]))\n",
    "            # here the return is the histogram output, 10 if OOB, -1 if new function\n",
    "            keep_alive_time = function_invoked(incoming_invocations[0][0])\n",
    "            # here we ignore -1 as a new function does not have any frequency\n",
    "            # we calculate the TTL end time with current simulation time (difference_timer) + returned minute bin\n",
    "            if(keep_alive_time>0):\n",
    "                print(\"keep alive time is: {} mins\".format(keep_alive_time))\n",
    "                result.write(\"keep alive time is: {} mins \\n\".format(keep_alive_time))\n",
    "                alive_timer = difference_timer + dt.timedelta(minutes = keep_alive_time)\n",
    "                print(\"keep alive till time: {}\".format(alive_timer.total_seconds()))\n",
    "                #hq.heappush(keep_alive_list,(alive_timer.total_seconds(),incoming_invocations[0][0]))\n",
    "                update_heap_element(keep_alive_list, alive_timer.total_seconds(), incoming_invocations[0][0])\n",
    "                print(\"keep alive list: {}\".format(keep_alive_list))\n",
    "                result.write(\"keep alive list: {} \\n\".format(keep_alive_list))\n",
    "            del incoming_invocations[0]\n",
    "            \n",
    "#         else:\n",
    "#             break\n",
    "    \n",
    "    # as long as there is still applications in the TTL list, we will keep checking\n",
    "    if len(keep_alive_list) != 0:\n",
    "        # since the TTL list is a heap queue, the first position is always the earliest terminated one\n",
    "        # so we check if first element is pending expiry, then remove from heap queue\n",
    "        check_expiry = keep_alive_list[0][0]\n",
    "        # check if current simulation time has caught up with the application's TTL timing\n",
    "        if difference_timer.total_seconds() >= check_expiry:\n",
    "            print(\"{} container has expired\".format(keep_alive_list[0][1]))\n",
    "            result.write(\"{} container has expired \\n\".format(keep_alive_list[0][1]))\n",
    "            hq.heappop(keep_alive_list)\n",
    "            print(keep_alive_list)\n",
    "            result.write(\"keep alive list: {} \\n\".format(keep_alive_list))\n",
    "        #else:\n",
    "            #print(\"{} container has NOT expired yet\".format(keep_alive_list[0][1]))\n",
    "\n",
    "    #terminate program if exceeded input time\n",
    "    if (dt.datetime.now() - start_time).seconds >= stop_time_seconds:\n",
    "        break\n",
    "    if (len(incoming_invocations) == 0) and (len(keep_alive_list) == 0):\n",
    "        break\n",
    "    time.sleep(0.8)\n",
    "        \n",
    "print(\"==end of run==\")\n",
    "result.write(\"==end of run==\\n\")\n",
    "result.close()"
   ]
  },
  {
   "cell_type": "code",
   "execution_count": null,
   "id": "04378fa1",
   "metadata": {},
   "outputs": [],
   "source": [
    "may28_3hr_dict = applicationDict\n",
    "may28_3hr_keepalive = keep_alive_list"
   ]
  },
  {
   "cell_type": "code",
   "execution_count": null,
   "id": "4da0b786",
   "metadata": {},
   "outputs": [],
   "source": [
    "may28_3hr_keepalive"
   ]
  },
  {
   "cell_type": "code",
   "execution_count": null,
   "id": "e58b0412",
   "metadata": {},
   "outputs": [],
   "source": [
    "for key,value in may28_3hr_dict.items():\n",
    "    print(key)"
   ]
  },
  {
   "cell_type": "code",
   "execution_count": null,
   "id": "147c8e0a",
   "metadata": {},
   "outputs": [],
   "source": [
    "plotHistogram(a55aa23d7c2a7c801bc9e68afe4c90c86dc0486922e472373cf71865aec598a4)"
   ]
  },
  {
   "cell_type": "markdown",
   "id": "67b21891",
   "metadata": {},
   "source": [
    "# test CV"
   ]
  },
  {
   "cell_type": "code",
   "execution_count": null,
   "id": "6b61159e",
   "metadata": {},
   "outputs": [],
   "source": [
    "sample_bin1 = [0] * 240\n",
    "sample_bin2 = [0] * 240\n",
    "sample_bin1[1] = 3\n",
    "sample_bin2[1] = 20"
   ]
  },
  {
   "cell_type": "code",
   "execution_count": null,
   "id": "3260f6ca",
   "metadata": {},
   "outputs": [],
   "source": [
    "print(\"sample_bin1 CV = {}\".format(calculate_CV(sample_bin1)))\n",
    "print(\"sample_bin2 CV = {}\".format(calculate_CV(sample_bin2)))"
   ]
  },
  {
   "cell_type": "code",
   "execution_count": null,
   "id": "5346192f",
   "metadata": {},
   "outputs": [],
   "source": [
    "import pmdarima as pm\n",
    "from pmdarima.model_selection import train_test_split\n",
    "import numpy as np\n",
    "import matplotlib.pyplot as plt\n",
    "\n",
    "# Load/split your data\n",
    "y = pm.datasets.load_wineind()\n",
    "train, test = train_test_split(y, train_size=150)\n",
    "\n",
    "# Fit your model\n",
    "model = pm.auto_arima(train, seasonal=True, m=12)\n",
    "\n",
    "# make your forecasts\n",
    "forecasts = model.predict(test.shape[0])  # predict N steps into the future\n",
    "\n",
    "# Visualize the forecasts (blue=train, green=forecasts)\n",
    "x = np.arange(y.shape[0])\n",
    "plt.plot(x[:150], train, c='blue')\n",
    "plt.plot(x[150:], forecasts, c='green')\n",
    "plt.show()"
   ]
  },
  {
   "cell_type": "code",
   "execution_count": null,
   "id": "1761dc88",
   "metadata": {},
   "outputs": [],
   "source": [
    "y"
   ]
  },
  {
   "cell_type": "code",
   "execution_count": null,
   "id": "151b4a03",
   "metadata": {},
   "outputs": [],
   "source": []
  }
 ],
 "metadata": {
  "kernelspec": {
   "display_name": "Python 3 (ipykernel)",
   "language": "python",
   "name": "python3"
  },
  "language_info": {
   "codemirror_mode": {
    "name": "ipython",
    "version": 3
   },
   "file_extension": ".py",
   "mimetype": "text/x-python",
   "name": "python",
   "nbconvert_exporter": "python",
   "pygments_lexer": "ipython3",
   "version": "3.9.7"
  }
 },
 "nbformat": 4,
 "nbformat_minor": 5
}
